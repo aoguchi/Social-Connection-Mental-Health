{
 "cells": [
  {
   "cell_type": "markdown",
   "id": "77252f15",
   "metadata": {},
   "source": [
    "## 6.5 Unsupervised Machine Learning: K-means Clustering, Silhouette Coefficient"
   ]
  },
  {
   "cell_type": "markdown",
   "id": "ffb11077",
   "metadata": {},
   "source": [
    "## Index\n",
    "[1. Import Libraries and Datasets](#1.-Import-Libraries-andDatasets)\n",
    "<br>\n",
    "[2. Data Cleaning](#2.-Data-Cleaning)\n",
    "<br>\n",
    "[3. Elbow Technique](#3.-Elbow-Technique)\n",
    "<br>\n",
    "[4. K-means Clustering](#4.-K-means-Clustering)\n",
    "<br>\n",
    "[5. K-means Aggregations](#5.-K-means-Aggregations)\n",
    "<br>\n",
    "[6. Silhouette Coefficient](#6.-Silhouette-Coefficient)"
   ]
  },
  {
   "cell_type": "markdown",
   "id": "436ea4f7",
   "metadata": {},
   "source": [
    "### 1. Import Libraries and Datasets"
   ]
  },
  {
   "cell_type": "code",
   "execution_count": 1,
   "id": "54f4a9d7",
   "metadata": {},
   "outputs": [],
   "source": [
    "import pandas as pd\n",
    "import numpy as np\n",
    "import seaborn as sns\n",
    "import matplotlib as cm\n",
    "import matplotlib.pyplot as plt\n",
    "import os\n",
    "import sklearn\n",
    "import pylab as pl \n",
    "import numpy as np\n",
    "\n",
    "from sklearn.cluster import KMeans \n",
    "from sklearn.datasets import make_blobs\n",
    "from sklearn.metrics import silhouette_samples, silhouette_score"
   ]
  },
  {
   "cell_type": "code",
   "execution_count": 2,
   "id": "03444989",
   "metadata": {},
   "outputs": [],
   "source": [
    "# This option ensures that the graphs you create are displayed within the notebook without the need to \"call\" them specifically.\n",
    "\n",
    "%matplotlib inline"
   ]
  },
  {
   "cell_type": "code",
   "execution_count": 3,
   "id": "a8b176ba",
   "metadata": {},
   "outputs": [],
   "source": [
    "# import datasets\n",
    "\n",
    "# create path for dataset \n",
    "path = r'C:\\Users\\pears\\Desktop\\CF\\Achievement 6\\datasets'\n",
    "\n",
    "# create filepaths\n",
    "filepath = os.path.join(path, '.pkl', 'only_nec.pkl')\n",
    "\n",
    "# assign df name\n",
    "df = pd.read_pickle(filepath)"
   ]
  },
  {
   "cell_type": "markdown",
   "id": "89b5f23a",
   "metadata": {},
   "source": [
    "### 2. Data Cleaning"
   ]
  },
  {
   "cell_type": "code",
   "execution_count": 4,
   "id": "8344c42b",
   "metadata": {},
   "outputs": [],
   "source": [
    "# remove column limit of output \n",
    "pd.options.display.max_columns = None\n",
    "\n",
    "# remove row limit of output \n",
    "pd.options.display.max_rows = None"
   ]
  },
  {
   "cell_type": "code",
   "execution_count": 5,
   "id": "4fe94a03",
   "metadata": {},
   "outputs": [
    {
     "data": {
      "text/html": [
       "<div>\n",
       "<style scoped>\n",
       "    .dataframe tbody tr th:only-of-type {\n",
       "        vertical-align: middle;\n",
       "    }\n",
       "\n",
       "    .dataframe tbody tr th {\n",
       "        vertical-align: top;\n",
       "    }\n",
       "\n",
       "    .dataframe thead th {\n",
       "        text-align: right;\n",
       "    }\n",
       "</style>\n",
       "<table border=\"1\" class=\"dataframe\">\n",
       "  <thead>\n",
       "    <tr style=\"text-align: right;\">\n",
       "      <th></th>\n",
       "      <th>Entity</th>\n",
       "      <th>Code</th>\n",
       "      <th>Continent</th>\n",
       "      <th>Region</th>\n",
       "      <th>Anxiety</th>\n",
       "      <th>Depressive</th>\n",
       "      <th>AHDI</th>\n",
       "      <th>F/F_A/D_YES</th>\n",
       "      <th>VComfortable</th>\n",
       "      <th>vs</th>\n",
       "      <th>F/F</th>\n",
       "      <th>nature</th>\n",
       "      <th>lifestyle</th>\n",
       "      <th>relationships</th>\n",
       "      <th>work</th>\n",
       "      <th>meds</th>\n",
       "      <th>prof</th>\n",
       "      <th>religious</th>\n",
       "      <th>life_ladder</th>\n",
       "      <th>social_support</th>\n",
       "      <th>life_expect</th>\n",
       "      <th>choice_freedom</th>\n",
       "      <th>corruption</th>\n",
       "      <th>pos</th>\n",
       "      <th>neg</th>\n",
       "    </tr>\n",
       "  </thead>\n",
       "  <tbody>\n",
       "    <tr>\n",
       "      <th>0</th>\n",
       "      <td>Afghanistan</td>\n",
       "      <td>AFG</td>\n",
       "      <td>Asia</td>\n",
       "      <td>Southern Asia</td>\n",
       "      <td>5.0337</td>\n",
       "      <td>5.1315</td>\n",
       "      <td>0.1804</td>\n",
       "      <td>NaN</td>\n",
       "      <td>NaN</td>\n",
       "      <td>NaN</td>\n",
       "      <td>NaN</td>\n",
       "      <td>NaN</td>\n",
       "      <td>NaN</td>\n",
       "      <td>NaN</td>\n",
       "      <td>NaN</td>\n",
       "      <td>NaN</td>\n",
       "      <td>NaN</td>\n",
       "      <td>NaN</td>\n",
       "      <td>2.662</td>\n",
       "      <td>0.491</td>\n",
       "      <td>53.25</td>\n",
       "      <td>0.427</td>\n",
       "      <td>0.954</td>\n",
       "      <td>0.435</td>\n",
       "      <td>0.371</td>\n",
       "    </tr>\n",
       "    <tr>\n",
       "      <th>1</th>\n",
       "      <td>Albania</td>\n",
       "      <td>ALB</td>\n",
       "      <td>Europe</td>\n",
       "      <td>Southern Europe</td>\n",
       "      <td>4.0993</td>\n",
       "      <td>2.6280</td>\n",
       "      <td>0.5165</td>\n",
       "      <td>28.00</td>\n",
       "      <td>25.49</td>\n",
       "      <td>-0.09</td>\n",
       "      <td>86.52499</td>\n",
       "      <td>88.64183</td>\n",
       "      <td>67.71693</td>\n",
       "      <td>54.1925</td>\n",
       "      <td>39.66084</td>\n",
       "      <td>40.89743</td>\n",
       "      <td>34.49906</td>\n",
       "      <td>36.1776</td>\n",
       "      <td>4.640</td>\n",
       "      <td>0.638</td>\n",
       "      <td>69.05</td>\n",
       "      <td>0.750</td>\n",
       "      <td>0.876</td>\n",
       "      <td>0.547</td>\n",
       "      <td>0.334</td>\n",
       "    </tr>\n",
       "    <tr>\n",
       "      <th>2</th>\n",
       "      <td>Algeria</td>\n",
       "      <td>DZA</td>\n",
       "      <td>Africa</td>\n",
       "      <td>Northern Africa</td>\n",
       "      <td>5.0529</td>\n",
       "      <td>4.3729</td>\n",
       "      <td>0.3229</td>\n",
       "      <td>20.88</td>\n",
       "      <td>31.64</td>\n",
       "      <td>0.52</td>\n",
       "      <td>NaN</td>\n",
       "      <td>NaN</td>\n",
       "      <td>NaN</td>\n",
       "      <td>NaN</td>\n",
       "      <td>NaN</td>\n",
       "      <td>NaN</td>\n",
       "      <td>NaN</td>\n",
       "      <td>NaN</td>\n",
       "      <td>5.249</td>\n",
       "      <td>0.807</td>\n",
       "      <td>66.20</td>\n",
       "      <td>0.437</td>\n",
       "      <td>0.700</td>\n",
       "      <td>0.555</td>\n",
       "      <td>0.289</td>\n",
       "    </tr>\n",
       "    <tr>\n",
       "      <th>3</th>\n",
       "      <td>American Samoa</td>\n",
       "      <td>ASM</td>\n",
       "      <td>Oceania</td>\n",
       "      <td>Polynesia</td>\n",
       "      <td>4.2545</td>\n",
       "      <td>2.7973</td>\n",
       "      <td>NaN</td>\n",
       "      <td>NaN</td>\n",
       "      <td>NaN</td>\n",
       "      <td>NaN</td>\n",
       "      <td>NaN</td>\n",
       "      <td>NaN</td>\n",
       "      <td>NaN</td>\n",
       "      <td>NaN</td>\n",
       "      <td>NaN</td>\n",
       "      <td>NaN</td>\n",
       "      <td>NaN</td>\n",
       "      <td>NaN</td>\n",
       "      <td>NaN</td>\n",
       "      <td>NaN</td>\n",
       "      <td>NaN</td>\n",
       "      <td>NaN</td>\n",
       "      <td>NaN</td>\n",
       "      <td>NaN</td>\n",
       "      <td>NaN</td>\n",
       "    </tr>\n",
       "    <tr>\n",
       "      <th>4</th>\n",
       "      <td>Andorra</td>\n",
       "      <td>AND</td>\n",
       "      <td>Europe</td>\n",
       "      <td>Southern Europe</td>\n",
       "      <td>6.0083</td>\n",
       "      <td>3.9744</td>\n",
       "      <td>NaN</td>\n",
       "      <td>NaN</td>\n",
       "      <td>NaN</td>\n",
       "      <td>NaN</td>\n",
       "      <td>NaN</td>\n",
       "      <td>NaN</td>\n",
       "      <td>NaN</td>\n",
       "      <td>NaN</td>\n",
       "      <td>NaN</td>\n",
       "      <td>NaN</td>\n",
       "      <td>NaN</td>\n",
       "      <td>NaN</td>\n",
       "      <td>NaN</td>\n",
       "      <td>NaN</td>\n",
       "      <td>NaN</td>\n",
       "      <td>NaN</td>\n",
       "      <td>NaN</td>\n",
       "      <td>NaN</td>\n",
       "      <td>NaN</td>\n",
       "    </tr>\n",
       "  </tbody>\n",
       "</table>\n",
       "</div>"
      ],
      "text/plain": [
       "           Entity Code Continent           Region  Anxiety  Depressive  \\\n",
       "0     Afghanistan  AFG      Asia    Southern Asia   5.0337      5.1315   \n",
       "1         Albania  ALB    Europe  Southern Europe   4.0993      2.6280   \n",
       "2         Algeria  DZA    Africa  Northern Africa   5.0529      4.3729   \n",
       "3  American Samoa  ASM   Oceania        Polynesia   4.2545      2.7973   \n",
       "4         Andorra  AND    Europe  Southern Europe   6.0083      3.9744   \n",
       "\n",
       "     AHDI  F/F_A/D_YES  VComfortable    vs       F/F    nature  lifestyle  \\\n",
       "0  0.1804          NaN           NaN   NaN       NaN       NaN        NaN   \n",
       "1  0.5165        28.00         25.49 -0.09  86.52499  88.64183   67.71693   \n",
       "2  0.3229        20.88         31.64  0.52       NaN       NaN        NaN   \n",
       "3     NaN          NaN           NaN   NaN       NaN       NaN        NaN   \n",
       "4     NaN          NaN           NaN   NaN       NaN       NaN        NaN   \n",
       "\n",
       "   relationships      work      meds      prof  religious  life_ladder  \\\n",
       "0            NaN       NaN       NaN       NaN        NaN        2.662   \n",
       "1        54.1925  39.66084  40.89743  34.49906    36.1776        4.640   \n",
       "2            NaN       NaN       NaN       NaN        NaN        5.249   \n",
       "3            NaN       NaN       NaN       NaN        NaN          NaN   \n",
       "4            NaN       NaN       NaN       NaN        NaN          NaN   \n",
       "\n",
       "   social_support  life_expect  choice_freedom  corruption    pos    neg  \n",
       "0           0.491        53.25           0.427       0.954  0.435  0.371  \n",
       "1           0.638        69.05           0.750       0.876  0.547  0.334  \n",
       "2           0.807        66.20           0.437       0.700  0.555  0.289  \n",
       "3             NaN          NaN             NaN         NaN    NaN    NaN  \n",
       "4             NaN          NaN             NaN         NaN    NaN    NaN  "
      ]
     },
     "execution_count": 5,
     "metadata": {},
     "output_type": "execute_result"
    }
   ],
   "source": [
    "df.head()"
   ]
  },
  {
   "cell_type": "code",
   "execution_count": 6,
   "id": "daa9137f",
   "metadata": {},
   "outputs": [
    {
     "data": {
      "text/plain": [
       "(205, 25)"
      ]
     },
     "execution_count": 6,
     "metadata": {},
     "output_type": "execute_result"
    }
   ],
   "source": [
    "df.shape"
   ]
  },
  {
   "cell_type": "code",
   "execution_count": 7,
   "id": "14cdc8e4",
   "metadata": {},
   "outputs": [],
   "source": [
    "# choosing select columns for K-means model; omitting categorical columns\n",
    "unsup = df[['Anxiety', 'Depressive', 'AHDI', 'VComfortable', 'vs', 'F/F', 'social_support']]"
   ]
  },
  {
   "cell_type": "code",
   "execution_count": 8,
   "id": "6a29d007",
   "metadata": {
    "scrolled": true
   },
   "outputs": [
    {
     "data": {
      "text/html": [
       "<div>\n",
       "<style scoped>\n",
       "    .dataframe tbody tr th:only-of-type {\n",
       "        vertical-align: middle;\n",
       "    }\n",
       "\n",
       "    .dataframe tbody tr th {\n",
       "        vertical-align: top;\n",
       "    }\n",
       "\n",
       "    .dataframe thead th {\n",
       "        text-align: right;\n",
       "    }\n",
       "</style>\n",
       "<table border=\"1\" class=\"dataframe\">\n",
       "  <thead>\n",
       "    <tr style=\"text-align: right;\">\n",
       "      <th></th>\n",
       "      <th>Anxiety</th>\n",
       "      <th>Depressive</th>\n",
       "      <th>AHDI</th>\n",
       "      <th>VComfortable</th>\n",
       "      <th>vs</th>\n",
       "      <th>F/F</th>\n",
       "      <th>social_support</th>\n",
       "    </tr>\n",
       "  </thead>\n",
       "  <tbody>\n",
       "    <tr>\n",
       "      <th>0</th>\n",
       "      <td>5.0337</td>\n",
       "      <td>5.1315</td>\n",
       "      <td>0.1804</td>\n",
       "      <td>NaN</td>\n",
       "      <td>NaN</td>\n",
       "      <td>NaN</td>\n",
       "      <td>0.491</td>\n",
       "    </tr>\n",
       "    <tr>\n",
       "      <th>1</th>\n",
       "      <td>4.0993</td>\n",
       "      <td>2.6280</td>\n",
       "      <td>0.5165</td>\n",
       "      <td>25.49</td>\n",
       "      <td>-0.09</td>\n",
       "      <td>86.52499</td>\n",
       "      <td>0.638</td>\n",
       "    </tr>\n",
       "    <tr>\n",
       "      <th>2</th>\n",
       "      <td>5.0529</td>\n",
       "      <td>4.3729</td>\n",
       "      <td>0.3229</td>\n",
       "      <td>31.64</td>\n",
       "      <td>0.52</td>\n",
       "      <td>NaN</td>\n",
       "      <td>0.807</td>\n",
       "    </tr>\n",
       "    <tr>\n",
       "      <th>3</th>\n",
       "      <td>4.2545</td>\n",
       "      <td>2.7973</td>\n",
       "      <td>NaN</td>\n",
       "      <td>NaN</td>\n",
       "      <td>NaN</td>\n",
       "      <td>NaN</td>\n",
       "      <td>NaN</td>\n",
       "    </tr>\n",
       "    <tr>\n",
       "      <th>4</th>\n",
       "      <td>6.0083</td>\n",
       "      <td>3.9744</td>\n",
       "      <td>NaN</td>\n",
       "      <td>NaN</td>\n",
       "      <td>NaN</td>\n",
       "      <td>NaN</td>\n",
       "      <td>NaN</td>\n",
       "    </tr>\n",
       "  </tbody>\n",
       "</table>\n",
       "</div>"
      ],
      "text/plain": [
       "   Anxiety  Depressive    AHDI  VComfortable    vs       F/F  social_support\n",
       "0   5.0337      5.1315  0.1804           NaN   NaN       NaN           0.491\n",
       "1   4.0993      2.6280  0.5165         25.49 -0.09  86.52499           0.638\n",
       "2   5.0529      4.3729  0.3229         31.64  0.52       NaN           0.807\n",
       "3   4.2545      2.7973     NaN           NaN   NaN       NaN             NaN\n",
       "4   6.0083      3.9744     NaN           NaN   NaN       NaN             NaN"
      ]
     },
     "execution_count": 8,
     "metadata": {},
     "output_type": "execute_result"
    }
   ],
   "source": [
    "unsup.head()"
   ]
  },
  {
   "cell_type": "code",
   "execution_count": 9,
   "id": "9374014c",
   "metadata": {},
   "outputs": [
    {
     "data": {
      "text/plain": [
       "(205, 7)"
      ]
     },
     "execution_count": 9,
     "metadata": {},
     "output_type": "execute_result"
    }
   ],
   "source": [
    "unsup.shape"
   ]
  },
  {
   "cell_type": "code",
   "execution_count": 10,
   "id": "4e75a7df",
   "metadata": {},
   "outputs": [],
   "source": [
    "# drop all NaN as they are not allowed to run K-means model \n",
    "unsup_nonan = unsup.dropna()"
   ]
  },
  {
   "cell_type": "code",
   "execution_count": 11,
   "id": "03fa50b2",
   "metadata": {},
   "outputs": [
    {
     "data": {
      "text/plain": [
       "(96, 7)"
      ]
     },
     "execution_count": 11,
     "metadata": {},
     "output_type": "execute_result"
    }
   ],
   "source": [
    "unsup_nonan.shape"
   ]
  },
  {
   "cell_type": "markdown",
   "id": "29e46597",
   "metadata": {},
   "source": [
    "### 3. Elbow Technique"
   ]
  },
  {
   "cell_type": "code",
   "execution_count": 12,
   "id": "2ab35ad0",
   "metadata": {},
   "outputs": [],
   "source": [
    "# see how many clusters is optimal for this df by first suggesting a range of 1-10\n",
    "num_cl = range(1, 10)\n",
    "\n",
    "# define k-means clusters in the above range\n",
    "kmeans = [KMeans(n_clusters=i) for i in num_cl] "
   ]
  },
  {
   "cell_type": "code",
   "execution_count": 13,
   "id": "e1b43b88",
   "metadata": {
    "scrolled": true
   },
   "outputs": [
    {
     "name": "stderr",
     "output_type": "stream",
     "text": [
      "C:\\Users\\pears\\AppData\\Roaming\\Python\\Python39\\site-packages\\sklearn\\cluster\\_kmeans.py:1416: FutureWarning: The default value of `n_init` will change from 10 to 'auto' in 1.4. Set the value of `n_init` explicitly to suppress the warning\n",
      "  super()._check_params_vs_input(X, default_n_init=10)\n",
      "C:\\Users\\pears\\AppData\\Roaming\\Python\\Python39\\site-packages\\sklearn\\cluster\\_kmeans.py:1440: UserWarning: KMeans is known to have a memory leak on Windows with MKL, when there are less chunks than available threads. You can avoid it by setting the environment variable OMP_NUM_THREADS=1.\n",
      "  warnings.warn(\n",
      "C:\\Users\\pears\\AppData\\Roaming\\Python\\Python39\\site-packages\\sklearn\\cluster\\_kmeans.py:1416: FutureWarning: The default value of `n_init` will change from 10 to 'auto' in 1.4. Set the value of `n_init` explicitly to suppress the warning\n",
      "  super()._check_params_vs_input(X, default_n_init=10)\n",
      "C:\\Users\\pears\\AppData\\Roaming\\Python\\Python39\\site-packages\\sklearn\\cluster\\_kmeans.py:1440: UserWarning: KMeans is known to have a memory leak on Windows with MKL, when there are less chunks than available threads. You can avoid it by setting the environment variable OMP_NUM_THREADS=1.\n",
      "  warnings.warn(\n",
      "C:\\Users\\pears\\AppData\\Roaming\\Python\\Python39\\site-packages\\sklearn\\cluster\\_kmeans.py:1416: FutureWarning: The default value of `n_init` will change from 10 to 'auto' in 1.4. Set the value of `n_init` explicitly to suppress the warning\n",
      "  super()._check_params_vs_input(X, default_n_init=10)\n",
      "C:\\Users\\pears\\AppData\\Roaming\\Python\\Python39\\site-packages\\sklearn\\cluster\\_kmeans.py:1440: UserWarning: KMeans is known to have a memory leak on Windows with MKL, when there are less chunks than available threads. You can avoid it by setting the environment variable OMP_NUM_THREADS=1.\n",
      "  warnings.warn(\n",
      "C:\\Users\\pears\\AppData\\Roaming\\Python\\Python39\\site-packages\\sklearn\\cluster\\_kmeans.py:1416: FutureWarning: The default value of `n_init` will change from 10 to 'auto' in 1.4. Set the value of `n_init` explicitly to suppress the warning\n",
      "  super()._check_params_vs_input(X, default_n_init=10)\n",
      "C:\\Users\\pears\\AppData\\Roaming\\Python\\Python39\\site-packages\\sklearn\\cluster\\_kmeans.py:1440: UserWarning: KMeans is known to have a memory leak on Windows with MKL, when there are less chunks than available threads. You can avoid it by setting the environment variable OMP_NUM_THREADS=1.\n",
      "  warnings.warn(\n",
      "C:\\Users\\pears\\AppData\\Roaming\\Python\\Python39\\site-packages\\sklearn\\cluster\\_kmeans.py:1416: FutureWarning: The default value of `n_init` will change from 10 to 'auto' in 1.4. Set the value of `n_init` explicitly to suppress the warning\n",
      "  super()._check_params_vs_input(X, default_n_init=10)\n",
      "C:\\Users\\pears\\AppData\\Roaming\\Python\\Python39\\site-packages\\sklearn\\cluster\\_kmeans.py:1440: UserWarning: KMeans is known to have a memory leak on Windows with MKL, when there are less chunks than available threads. You can avoid it by setting the environment variable OMP_NUM_THREADS=1.\n",
      "  warnings.warn(\n",
      "C:\\Users\\pears\\AppData\\Roaming\\Python\\Python39\\site-packages\\sklearn\\cluster\\_kmeans.py:1416: FutureWarning: The default value of `n_init` will change from 10 to 'auto' in 1.4. Set the value of `n_init` explicitly to suppress the warning\n",
      "  super()._check_params_vs_input(X, default_n_init=10)\n",
      "C:\\Users\\pears\\AppData\\Roaming\\Python\\Python39\\site-packages\\sklearn\\cluster\\_kmeans.py:1440: UserWarning: KMeans is known to have a memory leak on Windows with MKL, when there are less chunks than available threads. You can avoid it by setting the environment variable OMP_NUM_THREADS=1.\n",
      "  warnings.warn(\n",
      "C:\\Users\\pears\\AppData\\Roaming\\Python\\Python39\\site-packages\\sklearn\\cluster\\_kmeans.py:1416: FutureWarning: The default value of `n_init` will change from 10 to 'auto' in 1.4. Set the value of `n_init` explicitly to suppress the warning\n",
      "  super()._check_params_vs_input(X, default_n_init=10)\n",
      "C:\\Users\\pears\\AppData\\Roaming\\Python\\Python39\\site-packages\\sklearn\\cluster\\_kmeans.py:1440: UserWarning: KMeans is known to have a memory leak on Windows with MKL, when there are less chunks than available threads. You can avoid it by setting the environment variable OMP_NUM_THREADS=1.\n",
      "  warnings.warn(\n",
      "C:\\Users\\pears\\AppData\\Roaming\\Python\\Python39\\site-packages\\sklearn\\cluster\\_kmeans.py:1416: FutureWarning: The default value of `n_init` will change from 10 to 'auto' in 1.4. Set the value of `n_init` explicitly to suppress the warning\n",
      "  super()._check_params_vs_input(X, default_n_init=10)\n",
      "C:\\Users\\pears\\AppData\\Roaming\\Python\\Python39\\site-packages\\sklearn\\cluster\\_kmeans.py:1440: UserWarning: KMeans is known to have a memory leak on Windows with MKL, when there are less chunks than available threads. You can avoid it by setting the environment variable OMP_NUM_THREADS=1.\n",
      "  warnings.warn(\n",
      "C:\\Users\\pears\\AppData\\Roaming\\Python\\Python39\\site-packages\\sklearn\\cluster\\_kmeans.py:1416: FutureWarning: The default value of `n_init` will change from 10 to 'auto' in 1.4. Set the value of `n_init` explicitly to suppress the warning\n",
      "  super()._check_params_vs_input(X, default_n_init=10)\n",
      "C:\\Users\\pears\\AppData\\Roaming\\Python\\Python39\\site-packages\\sklearn\\cluster\\_kmeans.py:1440: UserWarning: KMeans is known to have a memory leak on Windows with MKL, when there are less chunks than available threads. You can avoid it by setting the environment variable OMP_NUM_THREADS=1.\n",
      "  warnings.warn(\n"
     ]
    },
    {
     "data": {
      "text/plain": [
       "[-22616.126846804942,\n",
       " -10902.608160353917,\n",
       " -7214.302573787205,\n",
       " -5682.075468948165,\n",
       " -4484.47982043865,\n",
       " -3720.4534954748474,\n",
       " -3080.3619695587977,\n",
       " -2679.257649672123,\n",
       " -2326.129483996306]"
      ]
     },
     "execution_count": 13,
     "metadata": {},
     "output_type": "execute_result"
    }
   ],
   "source": [
    "# create rate of variation, or score, for each cluster size created above \n",
    "score = [kmeans[i].fit(unsup_nonan).score(unsup_nonan) for i in range(len(kmeans))] \n",
    "\n",
    "score"
   ]
  },
  {
   "cell_type": "code",
   "execution_count": 14,
   "id": "46cdc86c",
   "metadata": {},
   "outputs": [
    {
     "data": {
      "image/png": "[encoded data removed]",
      "text/plain": [
       "<Figure size 640x480 with 1 Axes>"
      ]
     },
     "metadata": {},
     "output_type": "display_data"
    }
   ],
   "source": [
    "# plot elbow curve using PyLab\n",
    "\n",
    "pl.plot(num_cl, score)\n",
    "pl.xlabel('Number of Clusters')\n",
    "pl.ylabel('Score')\n",
    "pl.title('Elbow Curve')\n",
    "pl.show()"
   ]
  },
  {
   "cell_type": "markdown",
   "id": "acde5985",
   "metadata": {},
   "source": [
    "Number of clusters = 3?? "
   ]
  },
  {
   "cell_type": "markdown",
   "id": "55f478a4",
   "metadata": {},
   "source": [
    "### 4. K-means Clustering"
   ]
  },
  {
   "cell_type": "code",
   "execution_count": 15,
   "id": "2d65827e",
   "metadata": {},
   "outputs": [],
   "source": [
    "# create k-means object w 3 clusters\n",
    "\n",
    "kmeans = KMeans(n_clusters = 3) "
   ]
  },
  {
   "cell_type": "code",
   "execution_count": 16,
   "id": "bb296418",
   "metadata": {},
   "outputs": [
    {
     "ename": "TypeError",
     "evalue": "'DataFrame' object is not callable",
     "output_type": "error",
     "traceback": [
      "\u001b[1;31m---------------------------------------------------------------------------\u001b[0m",
      "\u001b[1;31mTypeError\u001b[0m                                 Traceback (most recent call last)",
      "\u001b[1;32m~\\AppData\\Local\\Temp\\ipykernel_11692\\3194351880.py\u001b[0m in \u001b[0;36m<cell line: 1>\u001b[1;34m()\u001b[0m\n\u001b[1;32m----> 1\u001b[1;33m \u001b[0mreduced_data\u001b[0m \u001b[1;33m=\u001b[0m \u001b[0munsup_nonan\u001b[0m\u001b[1;33m(\u001b[0m\u001b[0mn_components\u001b[0m\u001b[1;33m=\u001b[0m\u001b[1;36m2\u001b[0m\u001b[1;33m)\u001b[0m\u001b[1;33m.\u001b[0m\u001b[0mfit_transform\u001b[0m\u001b[1;33m(\u001b[0m\u001b[0mdata\u001b[0m\u001b[1;33m)\u001b[0m\u001b[1;33m\u001b[0m\u001b[1;33m\u001b[0m\u001b[0m\n\u001b[0m\u001b[0;32m      2\u001b[0m \u001b[0mkmeans\u001b[0m \u001b[1;33m=\u001b[0m \u001b[0mKMeans\u001b[0m\u001b[1;33m(\u001b[0m\u001b[0minit\u001b[0m\u001b[1;33m=\u001b[0m\u001b[1;34m\"k-means++\"\u001b[0m\u001b[1;33m,\u001b[0m \u001b[0mn_clusters\u001b[0m\u001b[1;33m=\u001b[0m\u001b[0mn_digits\u001b[0m\u001b[1;33m,\u001b[0m \u001b[0mn_init\u001b[0m\u001b[1;33m=\u001b[0m\u001b[1;36m4\u001b[0m\u001b[1;33m)\u001b[0m\u001b[1;33m\u001b[0m\u001b[1;33m\u001b[0m\u001b[0m\n\u001b[0;32m      3\u001b[0m \u001b[0mkmeans\u001b[0m\u001b[1;33m.\u001b[0m\u001b[0mfit\u001b[0m\u001b[1;33m(\u001b[0m\u001b[0mreduced_data\u001b[0m\u001b[1;33m)\u001b[0m\u001b[1;33m\u001b[0m\u001b[1;33m\u001b[0m\u001b[0m\n\u001b[0;32m      4\u001b[0m \u001b[1;33m\u001b[0m\u001b[0m\n\u001b[0;32m      5\u001b[0m \u001b[1;31m# Step size of the mesh. Decrease to increase the quality of the VQ.\u001b[0m\u001b[1;33m\u001b[0m\u001b[1;33m\u001b[0m\u001b[0m\n",
      "\u001b[1;31mTypeError\u001b[0m: 'DataFrame' object is not callable"
     ]
    }
   ],
   "source": [
    "reduced_data = unsup_nonan(n_components=2).fit_transform(data)\n",
    "kmeans = KMeans(init=\"k-means++\", n_clusters=n_digits, n_init=4)\n",
    "kmeans.fit(reduced_data)\n",
    "\n",
    "# Step size of the mesh. Decrease to increase the quality of the VQ.\n",
    "h = 0.02  # point in the mesh [x_min, x_max]x[y_min, y_max].\n",
    "\n",
    "# Plot the decision boundary. For that, we will assign a color to each\n",
    "x_min, x_max = reduced_data[:, 0].min() - 1, reduced_data[:, 0].max() + 1\n",
    "y_min, y_max = reduced_data[:, 1].min() - 1, reduced_data[:, 1].max() + 1\n",
    "xx, yy = np.meshgrid(np.arange(x_min, x_max, h), np.arange(y_min, y_max, h))\n",
    "\n",
    "# Obtain labels for each point in mesh. Use last trained model.\n",
    "Z = kmeans.predict(np.c_[xx.ravel(), yy.ravel()])\n",
    "\n",
    "# Put the result into a color plot\n",
    "Z = Z.reshape(xx.shape)\n",
    "plt.figure(1)\n",
    "plt.clf()\n",
    "plt.imshow(\n",
    "    Z,\n",
    "    interpolation=\"nearest\",\n",
    "    extent=(xx.min(), xx.max(), yy.min(), yy.max()),\n",
    "    cmap=plt.cm.Paired,\n",
    "    aspect=\"auto\",\n",
    "    origin=\"lower\",\n",
    ")\n",
    "\n",
    "plt.plot(reduced_data[:, 0], reduced_data[:, 1], \"k.\", markersize=2)\n",
    "# Plot the centroids as a white X\n",
    "centroids = kmeans.cluster_centers_\n",
    "plt.scatter(\n",
    "    centroids[:, 0],\n",
    "    centroids[:, 1],\n",
    "    marker=\"x\",\n",
    "    s=169,\n",
    "    linewidths=3,\n",
    "    color=\"w\",\n",
    "    zorder=10,\n",
    ")\n",
    "plt.title(\n",
    "    \"K-means clustering on the digits dataset (PCA-reduced data)\\n\"\n",
    "    \"Centroids are marked with white cross\"\n",
    ")\n",
    "plt.xlim(x_min, x_max)\n",
    "plt.ylim(y_min, y_max)\n",
    "plt.xticks(())\n",
    "plt.yticks(())\n",
    "plt.show()"
   ]
  },
  {
   "cell_type": "code",
   "execution_count": null,
   "id": "adde6a2d",
   "metadata": {},
   "outputs": [],
   "source": []
  },
  {
   "cell_type": "code",
   "execution_count": null,
   "id": "31f24793",
   "metadata": {},
   "outputs": [],
   "source": []
  },
  {
   "cell_type": "code",
   "execution_count": null,
   "id": "f310638d",
   "metadata": {},
   "outputs": [],
   "source": []
  },
  {
   "cell_type": "code",
   "execution_count": null,
   "id": "8ad86be4",
   "metadata": {},
   "outputs": [],
   "source": []
  },
  {
   "cell_type": "code",
   "execution_count": null,
   "id": "6479f32e",
   "metadata": {
    "scrolled": true
   },
   "outputs": [],
   "source": [
    "# fit k-means object to data\n",
    "\n",
    "kmeans.fit(unsup_nonan)"
   ]
  },
  {
   "cell_type": "code",
   "execution_count": null,
   "id": "f5192710",
   "metadata": {},
   "outputs": [],
   "source": []
  },
  {
   "cell_type": "code",
   "execution_count": null,
   "id": "a6f9a3f2",
   "metadata": {},
   "outputs": [],
   "source": []
  },
  {
   "cell_type": "code",
   "execution_count": null,
   "id": "4b4dd4e2",
   "metadata": {},
   "outputs": [],
   "source": []
  },
  {
   "cell_type": "code",
   "execution_count": null,
   "id": "bf3d7c84",
   "metadata": {},
   "outputs": [],
   "source": []
  },
  {
   "cell_type": "code",
   "execution_count": null,
   "id": "659f01aa",
   "metadata": {},
   "outputs": [],
   "source": []
  },
  {
   "cell_type": "code",
   "execution_count": null,
   "id": "d78d3fbd",
   "metadata": {},
   "outputs": [],
   "source": []
  },
  {
   "cell_type": "code",
   "execution_count": null,
   "id": "9a19fd75",
   "metadata": {},
   "outputs": [],
   "source": [
    "# create column named 'clusters' in unsup_nonan to show cluster group assigned number \n",
    "\n",
    "unsup_nonan['clusters'] = kmeans.fit_predict(unsup_nonan)"
   ]
  },
  {
   "cell_type": "code",
   "execution_count": null,
   "id": "2af55c52",
   "metadata": {},
   "outputs": [],
   "source": [
    "unsup_nonan.head()"
   ]
  },
  {
   "cell_type": "code",
   "execution_count": null,
   "id": "0e756d0e",
   "metadata": {},
   "outputs": [],
   "source": [
    "unsup_nonan['clusters'].value_counts()"
   ]
  },
  {
   "cell_type": "code",
   "execution_count": null,
   "id": "902db7da",
   "metadata": {},
   "outputs": [],
   "source": [
    "# plot clusters for 'social_support' and 'anxiety' variables\n",
    "\n",
    "plt.figure(figsize=(6,4))\n",
    "ax = sns.scatterplot(x=unsup_nonan['social_support'], y=unsup_nonan['Anxiety'], hue=kmeans.labels_, s=50) \n",
    "\n",
    "ax.grid(False)\n",
    "plt.xlabel('Level of social support')\n",
    "plt.ylabel('Prevalence of anxiety disorder')\n",
    "plt.show()"
   ]
  },
  {
   "cell_type": "code",
   "execution_count": null,
   "id": "e36cdd8d",
   "metadata": {},
   "outputs": [],
   "source": [
    "# plot clusters for 'social_support' and 'depressive' variables\n",
    "\n",
    "plt.figure(figsize=(6,4))\n",
    "ax = sns.scatterplot(x=unsup_nonan['social_support'], y=unsup_nonan['Depressive'], hue=kmeans.labels_, s=50) \n",
    "\n",
    "ax.grid(False)\n",
    "plt.xlabel('Level of social support')\n",
    "plt.ylabel('Prevalence of anxiety disorder')\n",
    "plt.show()"
   ]
  },
  {
   "cell_type": "code",
   "execution_count": null,
   "id": "86a96599",
   "metadata": {},
   "outputs": [],
   "source": [
    "# plot clusters for 'VComfortable' and 'depressive' variables\n",
    "\n",
    "plt.figure(figsize=(6,4))\n",
    "ax = sns.scatterplot(x=unsup_nonan['VComfortable'], y=unsup_nonan['Depressive'], hue=kmeans.labels_, s=50) \n",
    "\n",
    "ax.grid(False)\n",
    "plt.xlabel('Very comfortable talking about anxiety/depression to friends/family')\n",
    "plt.ylabel('Prevalence of depressive disorder')\n",
    "plt.show()"
   ]
  },
  {
   "cell_type": "code",
   "execution_count": null,
   "id": "14f65acd",
   "metadata": {},
   "outputs": [],
   "source": [
    "# plot clusters for 'VComfortable' and 'depressive' variables\n",
    "\n",
    "plt.figure(figsize=(6,4))\n",
    "ax = sns.scatterplot(x=unsup_nonan['VComfortable'], y=unsup_nonan['Anxiety'], hue=kmeans.labels_, s=50) \n",
    "\n",
    "ax.grid(False)\n",
    "plt.xlabel('Very comfortable talking about anxiety/depression to friends/family')\n",
    "plt.ylabel('Prevalence of anxiety disorder')\n",
    "plt.show()"
   ]
  },
  {
   "cell_type": "markdown",
   "id": "8b9a967b",
   "metadata": {},
   "source": [
    "### 5. K-means Aggregations"
   ]
  },
  {
   "cell_type": "code",
   "execution_count": null,
   "id": "47954f61",
   "metadata": {
    "scrolled": true
   },
   "outputs": [],
   "source": [
    "unsup_nonan.loc[unsup_nonan['clusters'] == 2, 'clusters'] = '2'\n",
    "unsup_nonan.loc[unsup_nonan['clusters'] == 1, 'clusters'] = '1'\n",
    "unsup_nonan.loc[unsup_nonan['clusters'] == 0, 'clusters'] = '0'"
   ]
  },
  {
   "cell_type": "markdown",
   "id": "53544c5d",
   "metadata": {},
   "source": [
    "I changed the newly labeled '2 dark purple', '1 purple' and '0 pink' back to numerical values bc I was getting errors when calculating the silouette scores below.\n",
    "\n",
    "Should I have removed the 'clusters' column from the unsup_nonan dataframe before calculating the silouette scores below?"
   ]
  },
  {
   "cell_type": "code",
   "execution_count": null,
   "id": "b6d9af60",
   "metadata": {
    "scrolled": true
   },
   "outputs": [],
   "source": [
    "unsup_nonan.groupby('clusters').agg({'Anxiety':['mean', 'median'], 'Depressive':['mean', 'median'], 'AHDI':['mean', 'median'], 'VComfortable':['mean', 'median'], 'vs':['mean', 'median'], 'F/F':['mean', 'median'], 'social_support':['mean', 'median']})"
   ]
  },
  {
   "cell_type": "markdown",
   "id": "ed2a0b2b",
   "metadata": {},
   "source": [
    "I initially tried using the df with all 21 variables (with categorical columns removed). The elbow test looked very similar to what it is now, having reduced the variables to 7. \n",
    "\n",
    "Because the elbow test came out more rounded and an optimal number was hard to distinguish, I initially had k=5. Then I reduced it to 3 to see if that would improve the clusters but there were not notable differences.\n",
    "\n",
    "The clusters, when plotted on the scatterplot, looks random. The only pattern I saw was when I plotted \"very comfortable talking about A/D to F/F\" against \"anxiety\" and \"depressive\" respectively. "
   ]
  },
  {
   "cell_type": "markdown",
   "id": "583683f8",
   "metadata": {},
   "source": [
    "### 6. Silhouette Coefficient"
   ]
  },
  {
   "cell_type": "markdown",
   "id": "c7fb3a87",
   "metadata": {},
   "source": [
    "I looked up the below codes and worked out the errors. I'm not sure if they're correct."
   ]
  },
  {
   "cell_type": "code",
   "execution_count": null,
   "id": "bca6f562",
   "metadata": {
    "scrolled": false
   },
   "outputs": [],
   "source": [
    "# Silouette coefficient for each K-mean model\n",
    "\n",
    "# Range of models to test\n",
    "cluster_range = [2, 3, 4, 5, 6]\n",
    "\n",
    "# Create lists to store k-means and silhouette scores\n",
    "silhouette_scores = []\n",
    "kmeans_models = []\n",
    "\n",
    "# Iterate through different cluster numbers\n",
    "for n_clusters in cluster_range:\n",
    "    kmeans_sc = KMeans(n_clusters=n_clusters)\n",
    "    kmeans_sc.fit(unsup_nonan)\n",
    "    \n",
    "    # Predict cluster labels for each data point\n",
    "    cluster_labels = kmeans_sc.predict(unsup_nonan)\n",
    "    \n",
    "    # Calculate silhouette score\n",
    "    silhouette_avg = silhouette_score(unsup_nonan, cluster_labels)\n",
    "    \n",
    "    # Append silhouette score and k-means model to lists\n",
    "    silhouette_scores.append(silhouette_avg)\n",
    "    kmeans_models.append(kmeans_sc)\n",
    "    \n",
    "    print(f\"Silhouette Score for {n_clusters} clusters: {silhouette_avg}\")"
   ]
  },
  {
   "cell_type": "code",
   "execution_count": null,
   "id": "836ad634",
   "metadata": {},
   "outputs": [],
   "source": [
    "# Create a list to store K-mean models \n",
    "kmeans_models = []\n",
    "for num_clusters in range(2, 7):\n",
    "    kmeans_sc = KMeans(n_clusters=num_clusters)\n",
    "    kmeans_sc.fit(unsup_nonan)\n",
    "    kmeans_models.append(kmeans_sc)\n",
    "\n",
    "# Create a list to store sizes of clusters for each K-mean model\n",
    "cluster_sizes = []\n",
    "for kmeans_sc in kmeans_models:\n",
    "    \n",
    "    # Predict cluster labels for each data point\n",
    "    cluster_labels = kmeans_sc.predict(unsup_nonan)\n",
    "    \n",
    "    # Count the number of data points in each cluster\n",
    "    unique, counts = np.unique(cluster_labels, return_counts=True)\n",
    "    cluster_sizes.append(dict(zip(unique, counts)))\n",
    "\n",
    "# Display the sizes of clusters for each K-means model\n",
    "for k, sizes in enumerate(cluster_sizes, start=2):\n",
    "    print(f'Clusters for k={k}: {sizes}')"
   ]
  },
  {
   "cell_type": "markdown",
   "id": "64220958",
   "metadata": {},
   "source": [
    "The k-mean models with the highest scores are:\n",
    "- 2 (0.51)\n",
    "- 5 (0.41)\n",
    "\n",
    "But looking at the cluster sizes, k=2 has a large difference (75, 21), as does k=5 (42, 24, 13, 9, 8). I'm reading that the best k-mean has both a high score and an even distribution of cluster size. \n",
    "\n",
    "Next up are: \n",
    "- 3 (0.40) with 47, 32, 17\n",
    "- 4 (0.36) with 37, 27, 18, 14\n",
    "- 6 (0.33) with 36, 18, 15, 10, 9, 8\n",
    "\n",
    "...which all still have imbalanced cluster sizes..."
   ]
  },
  {
   "cell_type": "markdown",
   "id": "6d007490",
   "metadata": {},
   "source": [
    "### 7. Export Dataframe"
   ]
  },
  {
   "cell_type": "code",
   "execution_count": null,
   "id": "4f685e25",
   "metadata": {},
   "outputs": [],
   "source": [
    "unsup_nonan.to_csv(os.path.join(path, '.csv', 'Tableau kmean cluster.csv'))"
   ]
  }
 ],
 "metadata": {
  "kernelspec": {
   "display_name": "Python 3 (ipykernel)",
   "language": "python",
   "name": "python3"
  },
  "language_info": {
   "codemirror_mode": {
    "name": "ipython",
    "version": 3
   },
   "file_extension": ".py",
   "mimetype": "text/x-python",
   "name": "python",
   "nbconvert_exporter": "python",
   "pygments_lexer": "ipython3",
   "version": "3.9.16"
  }
 },
 "nbformat": 4,
 "nbformat_minor": 5
}
