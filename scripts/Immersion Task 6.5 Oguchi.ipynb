{
 "cells": [
  {
   "cell_type": "markdown",
   "id": "77252f15",
   "metadata": {},
   "source": [
    "## 6.5 Unsupervised Machine Learning: K-means Clustering, Silhouette Coefficient"
   ]
  },
  {
   "cell_type": "markdown",
   "id": "ffb11077",
   "metadata": {},
   "source": [
    "## Index\n",
    "[1. Import Libraries and Datasets](#1.-Import-Libraries-andDatasets)\n",
    "<br>\n",
    "[2. Data Cleaning](#2.-Data-Cleaning)\n",
    "<br>\n",
    "[3. Elbow Technique](#3.-Elbow-Technique)\n",
    "<br>\n",
    "[4. K-means Clustering](#4.-K-means-Clustering)\n",
    "<br>\n",
    "[5. K-means Aggregations](#5.-K-means-Aggregations)\n",
    "<br>\n",
    "[6. Silhouette Coefficient](#6.-Silhouette-Coefficient)"
   ]
  },
  {
   "cell_type": "markdown",
   "id": "436ea4f7",
   "metadata": {},
   "source": [
    "### 1. Import Libraries and Datasets"
   ]
  },
  {
   "cell_type": "code",
   "execution_count": 2,
   "id": "54f4a9d7",
   "metadata": {},
   "outputs": [],
   "source": [
    "import pandas as pd\n",
    "import numpy as np\n",
    "import seaborn as sns\n",
    "import matplotlib as cm\n",
    "import matplotlib.pyplot as plt\n",
    "import os\n",
    "import sklearn\n",
    "import pylab as pl \n",
    "import numpy as np\n",
    "\n",
    "from sklearn.cluster import KMeans \n",
    "from sklearn.datasets import make_blobs\n",
    "from sklearn.metrics import silhouette_samples, silhouette_score"
   ]
  },
  {
   "cell_type": "code",
   "execution_count": 3,
   "id": "03444989",
   "metadata": {},
   "outputs": [],
   "source": [
    "# This option ensures that the graphs you create are displayed within the notebook without the need to \"call\" them specifically.\n",
    "\n",
    "%matplotlib inline"
   ]
  },
  {
   "cell_type": "code",
   "execution_count": 4,
   "id": "a8b176ba",
   "metadata": {},
   "outputs": [],
   "source": [
    "# import datasets\n",
    "\n",
    "# create path for dataset \n",
    "path = r'C:\\Users\\pears\\Desktop\\CF\\Achievement 6\\datasets'\n",
    "\n",
    "# create filepaths\n",
    "filepath = os.path.join(path, '.pkl', 'only_nec.pkl')\n",
    "\n",
    "# assign df name\n",
    "df = pd.read_pickle(filepath)"
   ]
  },
  {
   "cell_type": "markdown",
   "id": "89b5f23a",
   "metadata": {},
   "source": [
    "### 2. Data Cleaning"
   ]
  },
  {
   "cell_type": "code",
   "execution_count": 5,
   "id": "8344c42b",
   "metadata": {},
   "outputs": [],
   "source": [
    "# remove column limit of output \n",
    "pd.options.display.max_columns = None\n",
    "\n",
    "# remove row limit of output \n",
    "pd.options.display.max_rows = None"
   ]
  },
  {
   "cell_type": "code",
   "execution_count": 6,
   "id": "4fe94a03",
   "metadata": {},
   "outputs": [
    {
     "data": {
      "text/html": [
       "<div>\n",
       "<style scoped>\n",
       "    .dataframe tbody tr th:only-of-type {\n",
       "        vertical-align: middle;\n",
       "    }\n",
       "\n",
       "    .dataframe tbody tr th {\n",
       "        vertical-align: top;\n",
       "    }\n",
       "\n",
       "    .dataframe thead th {\n",
       "        text-align: right;\n",
       "    }\n",
       "</style>\n",
       "<table border=\"1\" class=\"dataframe\">\n",
       "  <thead>\n",
       "    <tr style=\"text-align: right;\">\n",
       "      <th></th>\n",
       "      <th>Entity</th>\n",
       "      <th>Code</th>\n",
       "      <th>Continent</th>\n",
       "      <th>Region</th>\n",
       "      <th>Anxiety</th>\n",
       "      <th>Depressive</th>\n",
       "      <th>AHDI</th>\n",
       "      <th>F/F_A/D_YES</th>\n",
       "      <th>VComfortable</th>\n",
       "      <th>vs</th>\n",
       "      <th>F/F</th>\n",
       "      <th>nature</th>\n",
       "      <th>lifestyle</th>\n",
       "      <th>relationships</th>\n",
       "      <th>work</th>\n",
       "      <th>meds</th>\n",
       "      <th>prof</th>\n",
       "      <th>religious</th>\n",
       "      <th>life_ladder</th>\n",
       "      <th>social_support</th>\n",
       "      <th>life_expect</th>\n",
       "      <th>choice_freedom</th>\n",
       "      <th>corruption</th>\n",
       "      <th>pos</th>\n",
       "      <th>neg</th>\n",
       "    </tr>\n",
       "  </thead>\n",
       "  <tbody>\n",
       "    <tr>\n",
       "      <th>0</th>\n",
       "      <td>Afghanistan</td>\n",
       "      <td>AFG</td>\n",
       "      <td>Asia</td>\n",
       "      <td>Southern Asia</td>\n",
       "      <td>5.0337</td>\n",
       "      <td>5.1315</td>\n",
       "      <td>0.1804</td>\n",
       "      <td>NaN</td>\n",
       "      <td>NaN</td>\n",
       "      <td>NaN</td>\n",
       "      <td>NaN</td>\n",
       "      <td>NaN</td>\n",
       "      <td>NaN</td>\n",
       "      <td>NaN</td>\n",
       "      <td>NaN</td>\n",
       "      <td>NaN</td>\n",
       "      <td>NaN</td>\n",
       "      <td>NaN</td>\n",
       "      <td>2.662</td>\n",
       "      <td>0.491</td>\n",
       "      <td>53.25</td>\n",
       "      <td>0.427</td>\n",
       "      <td>0.954</td>\n",
       "      <td>0.435</td>\n",
       "      <td>0.371</td>\n",
       "    </tr>\n",
       "    <tr>\n",
       "      <th>1</th>\n",
       "      <td>Albania</td>\n",
       "      <td>ALB</td>\n",
       "      <td>Europe</td>\n",
       "      <td>Southern Europe</td>\n",
       "      <td>4.0993</td>\n",
       "      <td>2.6280</td>\n",
       "      <td>0.5165</td>\n",
       "      <td>28.00</td>\n",
       "      <td>25.49</td>\n",
       "      <td>-0.09</td>\n",
       "      <td>86.52499</td>\n",
       "      <td>88.64183</td>\n",
       "      <td>67.71693</td>\n",
       "      <td>54.1925</td>\n",
       "      <td>39.66084</td>\n",
       "      <td>40.89743</td>\n",
       "      <td>34.49906</td>\n",
       "      <td>36.1776</td>\n",
       "      <td>4.640</td>\n",
       "      <td>0.638</td>\n",
       "      <td>69.05</td>\n",
       "      <td>0.750</td>\n",
       "      <td>0.876</td>\n",
       "      <td>0.547</td>\n",
       "      <td>0.334</td>\n",
       "    </tr>\n",
       "    <tr>\n",
       "      <th>2</th>\n",
       "      <td>Algeria</td>\n",
       "      <td>DZA</td>\n",
       "      <td>Africa</td>\n",
       "      <td>Northern Africa</td>\n",
       "      <td>5.0529</td>\n",
       "      <td>4.3729</td>\n",
       "      <td>0.3229</td>\n",
       "      <td>20.88</td>\n",
       "      <td>31.64</td>\n",
       "      <td>0.52</td>\n",
       "      <td>NaN</td>\n",
       "      <td>NaN</td>\n",
       "      <td>NaN</td>\n",
       "      <td>NaN</td>\n",
       "      <td>NaN</td>\n",
       "      <td>NaN</td>\n",
       "      <td>NaN</td>\n",
       "      <td>NaN</td>\n",
       "      <td>5.249</td>\n",
       "      <td>0.807</td>\n",
       "      <td>66.20</td>\n",
       "      <td>0.437</td>\n",
       "      <td>0.700</td>\n",
       "      <td>0.555</td>\n",
       "      <td>0.289</td>\n",
       "    </tr>\n",
       "    <tr>\n",
       "      <th>3</th>\n",
       "      <td>American Samoa</td>\n",
       "      <td>ASM</td>\n",
       "      <td>Oceania</td>\n",
       "      <td>Polynesia</td>\n",
       "      <td>4.2545</td>\n",
       "      <td>2.7973</td>\n",
       "      <td>NaN</td>\n",
       "      <td>NaN</td>\n",
       "      <td>NaN</td>\n",
       "      <td>NaN</td>\n",
       "      <td>NaN</td>\n",
       "      <td>NaN</td>\n",
       "      <td>NaN</td>\n",
       "      <td>NaN</td>\n",
       "      <td>NaN</td>\n",
       "      <td>NaN</td>\n",
       "      <td>NaN</td>\n",
       "      <td>NaN</td>\n",
       "      <td>NaN</td>\n",
       "      <td>NaN</td>\n",
       "      <td>NaN</td>\n",
       "      <td>NaN</td>\n",
       "      <td>NaN</td>\n",
       "      <td>NaN</td>\n",
       "      <td>NaN</td>\n",
       "    </tr>\n",
       "    <tr>\n",
       "      <th>4</th>\n",
       "      <td>Andorra</td>\n",
       "      <td>AND</td>\n",
       "      <td>Europe</td>\n",
       "      <td>Southern Europe</td>\n",
       "      <td>6.0083</td>\n",
       "      <td>3.9744</td>\n",
       "      <td>NaN</td>\n",
       "      <td>NaN</td>\n",
       "      <td>NaN</td>\n",
       "      <td>NaN</td>\n",
       "      <td>NaN</td>\n",
       "      <td>NaN</td>\n",
       "      <td>NaN</td>\n",
       "      <td>NaN</td>\n",
       "      <td>NaN</td>\n",
       "      <td>NaN</td>\n",
       "      <td>NaN</td>\n",
       "      <td>NaN</td>\n",
       "      <td>NaN</td>\n",
       "      <td>NaN</td>\n",
       "      <td>NaN</td>\n",
       "      <td>NaN</td>\n",
       "      <td>NaN</td>\n",
       "      <td>NaN</td>\n",
       "      <td>NaN</td>\n",
       "    </tr>\n",
       "  </tbody>\n",
       "</table>\n",
       "</div>"
      ],
      "text/plain": [
       "           Entity Code Continent           Region  Anxiety  Depressive  \\\n",
       "0     Afghanistan  AFG      Asia    Southern Asia   5.0337      5.1315   \n",
       "1         Albania  ALB    Europe  Southern Europe   4.0993      2.6280   \n",
       "2         Algeria  DZA    Africa  Northern Africa   5.0529      4.3729   \n",
       "3  American Samoa  ASM   Oceania        Polynesia   4.2545      2.7973   \n",
       "4         Andorra  AND    Europe  Southern Europe   6.0083      3.9744   \n",
       "\n",
       "     AHDI  F/F_A/D_YES  VComfortable    vs       F/F    nature  lifestyle  \\\n",
       "0  0.1804          NaN           NaN   NaN       NaN       NaN        NaN   \n",
       "1  0.5165        28.00         25.49 -0.09  86.52499  88.64183   67.71693   \n",
       "2  0.3229        20.88         31.64  0.52       NaN       NaN        NaN   \n",
       "3     NaN          NaN           NaN   NaN       NaN       NaN        NaN   \n",
       "4     NaN          NaN           NaN   NaN       NaN       NaN        NaN   \n",
       "\n",
       "   relationships      work      meds      prof  religious  life_ladder  \\\n",
       "0            NaN       NaN       NaN       NaN        NaN        2.662   \n",
       "1        54.1925  39.66084  40.89743  34.49906    36.1776        4.640   \n",
       "2            NaN       NaN       NaN       NaN        NaN        5.249   \n",
       "3            NaN       NaN       NaN       NaN        NaN          NaN   \n",
       "4            NaN       NaN       NaN       NaN        NaN          NaN   \n",
       "\n",
       "   social_support  life_expect  choice_freedom  corruption    pos    neg  \n",
       "0           0.491        53.25           0.427       0.954  0.435  0.371  \n",
       "1           0.638        69.05           0.750       0.876  0.547  0.334  \n",
       "2           0.807        66.20           0.437       0.700  0.555  0.289  \n",
       "3             NaN          NaN             NaN         NaN    NaN    NaN  \n",
       "4             NaN          NaN             NaN         NaN    NaN    NaN  "
      ]
     },
     "execution_count": 6,
     "metadata": {},
     "output_type": "execute_result"
    }
   ],
   "source": [
    "df.head()"
   ]
  },
  {
   "cell_type": "code",
   "execution_count": 7,
   "id": "daa9137f",
   "metadata": {},
   "outputs": [
    {
     "data": {
      "text/plain": [
       "(205, 25)"
      ]
     },
     "execution_count": 7,
     "metadata": {},
     "output_type": "execute_result"
    }
   ],
   "source": [
    "df.shape"
   ]
  },
  {
   "cell_type": "code",
   "execution_count": 8,
   "id": "14cdc8e4",
   "metadata": {},
   "outputs": [],
   "source": [
    "# choosing select columns for K-means model; omitting categorical columns\n",
    "unsup = df[['Anxiety', 'Depressive', 'AHDI', 'VComfortable', 'vs', 'F/F', 'social_support']]"
   ]
  },
  {
   "cell_type": "code",
   "execution_count": 9,
   "id": "6a29d007",
   "metadata": {
    "scrolled": true
   },
   "outputs": [
    {
     "data": {
      "text/html": [
       "<div>\n",
       "<style scoped>\n",
       "    .dataframe tbody tr th:only-of-type {\n",
       "        vertical-align: middle;\n",
       "    }\n",
       "\n",
       "    .dataframe tbody tr th {\n",
       "        vertical-align: top;\n",
       "    }\n",
       "\n",
       "    .dataframe thead th {\n",
       "        text-align: right;\n",
       "    }\n",
       "</style>\n",
       "<table border=\"1\" class=\"dataframe\">\n",
       "  <thead>\n",
       "    <tr style=\"text-align: right;\">\n",
       "      <th></th>\n",
       "      <th>Anxiety</th>\n",
       "      <th>Depressive</th>\n",
       "      <th>AHDI</th>\n",
       "      <th>VComfortable</th>\n",
       "      <th>vs</th>\n",
       "      <th>F/F</th>\n",
       "      <th>social_support</th>\n",
       "    </tr>\n",
       "  </thead>\n",
       "  <tbody>\n",
       "    <tr>\n",
       "      <th>0</th>\n",
       "      <td>5.0337</td>\n",
       "      <td>5.1315</td>\n",
       "      <td>0.1804</td>\n",
       "      <td>NaN</td>\n",
       "      <td>NaN</td>\n",
       "      <td>NaN</td>\n",
       "      <td>0.491</td>\n",
       "    </tr>\n",
       "    <tr>\n",
       "      <th>1</th>\n",
       "      <td>4.0993</td>\n",
       "      <td>2.6280</td>\n",
       "      <td>0.5165</td>\n",
       "      <td>25.49</td>\n",
       "      <td>-0.09</td>\n",
       "      <td>86.52499</td>\n",
       "      <td>0.638</td>\n",
       "    </tr>\n",
       "    <tr>\n",
       "      <th>2</th>\n",
       "      <td>5.0529</td>\n",
       "      <td>4.3729</td>\n",
       "      <td>0.3229</td>\n",
       "      <td>31.64</td>\n",
       "      <td>0.52</td>\n",
       "      <td>NaN</td>\n",
       "      <td>0.807</td>\n",
       "    </tr>\n",
       "    <tr>\n",
       "      <th>3</th>\n",
       "      <td>4.2545</td>\n",
       "      <td>2.7973</td>\n",
       "      <td>NaN</td>\n",
       "      <td>NaN</td>\n",
       "      <td>NaN</td>\n",
       "      <td>NaN</td>\n",
       "      <td>NaN</td>\n",
       "    </tr>\n",
       "    <tr>\n",
       "      <th>4</th>\n",
       "      <td>6.0083</td>\n",
       "      <td>3.9744</td>\n",
       "      <td>NaN</td>\n",
       "      <td>NaN</td>\n",
       "      <td>NaN</td>\n",
       "      <td>NaN</td>\n",
       "      <td>NaN</td>\n",
       "    </tr>\n",
       "  </tbody>\n",
       "</table>\n",
       "</div>"
      ],
      "text/plain": [
       "   Anxiety  Depressive    AHDI  VComfortable    vs       F/F  social_support\n",
       "0   5.0337      5.1315  0.1804           NaN   NaN       NaN           0.491\n",
       "1   4.0993      2.6280  0.5165         25.49 -0.09  86.52499           0.638\n",
       "2   5.0529      4.3729  0.3229         31.64  0.52       NaN           0.807\n",
       "3   4.2545      2.7973     NaN           NaN   NaN       NaN             NaN\n",
       "4   6.0083      3.9744     NaN           NaN   NaN       NaN             NaN"
      ]
     },
     "execution_count": 9,
     "metadata": {},
     "output_type": "execute_result"
    }
   ],
   "source": [
    "unsup.head()"
   ]
  },
  {
   "cell_type": "code",
   "execution_count": 10,
   "id": "9374014c",
   "metadata": {},
   "outputs": [
    {
     "data": {
      "text/plain": [
       "(205, 7)"
      ]
     },
     "execution_count": 10,
     "metadata": {},
     "output_type": "execute_result"
    }
   ],
   "source": [
    "unsup.shape"
   ]
  },
  {
   "cell_type": "code",
   "execution_count": 11,
   "id": "4e75a7df",
   "metadata": {},
   "outputs": [],
   "source": [
    "# drop all NaN as they are not allowed to run K-means model \n",
    "unsup_nonan = unsup.dropna()"
   ]
  },
  {
   "cell_type": "code",
   "execution_count": 12,
   "id": "03fa50b2",
   "metadata": {},
   "outputs": [
    {
     "data": {
      "text/plain": [
       "(96, 7)"
      ]
     },
     "execution_count": 12,
     "metadata": {},
     "output_type": "execute_result"
    }
   ],
   "source": [
    "unsup_nonan.shape"
   ]
  },
  {
   "cell_type": "markdown",
   "id": "29e46597",
   "metadata": {},
   "source": [
    "### 3. Elbow Technique"
   ]
  },
  {
   "cell_type": "code",
   "execution_count": 13,
   "id": "2ab35ad0",
   "metadata": {},
   "outputs": [],
   "source": [
    "# see how many clusters is optimal for this df by first suggesting a range of 1-10\n",
    "num_cl = range(1, 10)\n",
    "\n",
    "# define k-means clusters in the above range\n",
    "kmeans = [KMeans(n_clusters=i) for i in num_cl] "
   ]
  },
  {
   "cell_type": "code",
   "execution_count": 14,
   "id": "e1b43b88",
   "metadata": {
    "scrolled": true
   },
   "outputs": [
    {
     "name": "stderr",
     "output_type": "stream",
     "text": [
      "C:\\Users\\pears\\AppData\\Roaming\\Python\\Python39\\site-packages\\sklearn\\cluster\\_kmeans.py:1416: FutureWarning: The default value of `n_init` will change from 10 to 'auto' in 1.4. Set the value of `n_init` explicitly to suppress the warning\n",
      "  super()._check_params_vs_input(X, default_n_init=10)\n",
      "C:\\Users\\pears\\AppData\\Roaming\\Python\\Python39\\site-packages\\sklearn\\cluster\\_kmeans.py:1440: UserWarning: KMeans is known to have a memory leak on Windows with MKL, when there are less chunks than available threads. You can avoid it by setting the environment variable OMP_NUM_THREADS=1.\n",
      "  warnings.warn(\n",
      "C:\\Users\\pears\\AppData\\Roaming\\Python\\Python39\\site-packages\\sklearn\\cluster\\_kmeans.py:1416: FutureWarning: The default value of `n_init` will change from 10 to 'auto' in 1.4. Set the value of `n_init` explicitly to suppress the warning\n",
      "  super()._check_params_vs_input(X, default_n_init=10)\n",
      "C:\\Users\\pears\\AppData\\Roaming\\Python\\Python39\\site-packages\\sklearn\\cluster\\_kmeans.py:1440: UserWarning: KMeans is known to have a memory leak on Windows with MKL, when there are less chunks than available threads. You can avoid it by setting the environment variable OMP_NUM_THREADS=1.\n",
      "  warnings.warn(\n",
      "C:\\Users\\pears\\AppData\\Roaming\\Python\\Python39\\site-packages\\sklearn\\cluster\\_kmeans.py:1416: FutureWarning: The default value of `n_init` will change from 10 to 'auto' in 1.4. Set the value of `n_init` explicitly to suppress the warning\n",
      "  super()._check_params_vs_input(X, default_n_init=10)\n",
      "C:\\Users\\pears\\AppData\\Roaming\\Python\\Python39\\site-packages\\sklearn\\cluster\\_kmeans.py:1440: UserWarning: KMeans is known to have a memory leak on Windows with MKL, when there are less chunks than available threads. You can avoid it by setting the environment variable OMP_NUM_THREADS=1.\n",
      "  warnings.warn(\n",
      "C:\\Users\\pears\\AppData\\Roaming\\Python\\Python39\\site-packages\\sklearn\\cluster\\_kmeans.py:1416: FutureWarning: The default value of `n_init` will change from 10 to 'auto' in 1.4. Set the value of `n_init` explicitly to suppress the warning\n",
      "  super()._check_params_vs_input(X, default_n_init=10)\n",
      "C:\\Users\\pears\\AppData\\Roaming\\Python\\Python39\\site-packages\\sklearn\\cluster\\_kmeans.py:1440: UserWarning: KMeans is known to have a memory leak on Windows with MKL, when there are less chunks than available threads. You can avoid it by setting the environment variable OMP_NUM_THREADS=1.\n",
      "  warnings.warn(\n",
      "C:\\Users\\pears\\AppData\\Roaming\\Python\\Python39\\site-packages\\sklearn\\cluster\\_kmeans.py:1416: FutureWarning: The default value of `n_init` will change from 10 to 'auto' in 1.4. Set the value of `n_init` explicitly to suppress the warning\n",
      "  super()._check_params_vs_input(X, default_n_init=10)\n",
      "C:\\Users\\pears\\AppData\\Roaming\\Python\\Python39\\site-packages\\sklearn\\cluster\\_kmeans.py:1440: UserWarning: KMeans is known to have a memory leak on Windows with MKL, when there are less chunks than available threads. You can avoid it by setting the environment variable OMP_NUM_THREADS=1.\n",
      "  warnings.warn(\n",
      "C:\\Users\\pears\\AppData\\Roaming\\Python\\Python39\\site-packages\\sklearn\\cluster\\_kmeans.py:1416: FutureWarning: The default value of `n_init` will change from 10 to 'auto' in 1.4. Set the value of `n_init` explicitly to suppress the warning\n",
      "  super()._check_params_vs_input(X, default_n_init=10)\n",
      "C:\\Users\\pears\\AppData\\Roaming\\Python\\Python39\\site-packages\\sklearn\\cluster\\_kmeans.py:1440: UserWarning: KMeans is known to have a memory leak on Windows with MKL, when there are less chunks than available threads. You can avoid it by setting the environment variable OMP_NUM_THREADS=1.\n",
      "  warnings.warn(\n",
      "C:\\Users\\pears\\AppData\\Roaming\\Python\\Python39\\site-packages\\sklearn\\cluster\\_kmeans.py:1416: FutureWarning: The default value of `n_init` will change from 10 to 'auto' in 1.4. Set the value of `n_init` explicitly to suppress the warning\n",
      "  super()._check_params_vs_input(X, default_n_init=10)\n",
      "C:\\Users\\pears\\AppData\\Roaming\\Python\\Python39\\site-packages\\sklearn\\cluster\\_kmeans.py:1440: UserWarning: KMeans is known to have a memory leak on Windows with MKL, when there are less chunks than available threads. You can avoid it by setting the environment variable OMP_NUM_THREADS=1.\n",
      "  warnings.warn(\n",
      "C:\\Users\\pears\\AppData\\Roaming\\Python\\Python39\\site-packages\\sklearn\\cluster\\_kmeans.py:1416: FutureWarning: The default value of `n_init` will change from 10 to 'auto' in 1.4. Set the value of `n_init` explicitly to suppress the warning\n",
      "  super()._check_params_vs_input(X, default_n_init=10)\n",
      "C:\\Users\\pears\\AppData\\Roaming\\Python\\Python39\\site-packages\\sklearn\\cluster\\_kmeans.py:1440: UserWarning: KMeans is known to have a memory leak on Windows with MKL, when there are less chunks than available threads. You can avoid it by setting the environment variable OMP_NUM_THREADS=1.\n",
      "  warnings.warn(\n",
      "C:\\Users\\pears\\AppData\\Roaming\\Python\\Python39\\site-packages\\sklearn\\cluster\\_kmeans.py:1416: FutureWarning: The default value of `n_init` will change from 10 to 'auto' in 1.4. Set the value of `n_init` explicitly to suppress the warning\n",
      "  super()._check_params_vs_input(X, default_n_init=10)\n",
      "C:\\Users\\pears\\AppData\\Roaming\\Python\\Python39\\site-packages\\sklearn\\cluster\\_kmeans.py:1440: UserWarning: KMeans is known to have a memory leak on Windows with MKL, when there are less chunks than available threads. You can avoid it by setting the environment variable OMP_NUM_THREADS=1.\n",
      "  warnings.warn(\n"
     ]
    },
    {
     "data": {
      "text/plain": [
       "[-22616.126846804942,\n",
       " -10902.608160353917,\n",
       " -7214.302573787205,\n",
       " -5681.265953659545,\n",
       " -4485.639897088317,\n",
       " -3701.0111484745194,\n",
       " -3079.344113790474,\n",
       " -2665.477600479123,\n",
       " -2321.4819153572466]"
      ]
     },
     "execution_count": 14,
     "metadata": {},
     "output_type": "execute_result"
    }
   ],
   "source": [
    "# create rate of variation, or score, for each cluster size created above \n",
    "score = [kmeans[i].fit(unsup_nonan).score(unsup_nonan) for i in range(len(kmeans))] \n",
    "\n",
    "score"
   ]
  },
  {
   "cell_type": "code",
   "execution_count": 15,
   "id": "46cdc86c",
   "metadata": {},
   "outputs": [
    {
     "data": {
      "image/png": "[encoded data removed]",
      "text/plain": [
       "<Figure size 640x480 with 1 Axes>"
      ]
     },
     "metadata": {},
     "output_type": "display_data"
    }
   ],
   "source": [
    "# plot elbow curve using PyLab\n",
    "\n",
    "pl.plot(num_cl, score)\n",
    "pl.xlabel('Number of Clusters')\n",
    "pl.ylabel('Score')\n",
    "pl.title('Elbow Curve')\n",
    "pl.show()"
   ]
  },
  {
   "cell_type": "markdown",
   "id": "acde5985",
   "metadata": {},
   "source": [
    "Number of clusters = 3?? "
   ]
  },
  {
   "cell_type": "markdown",
   "id": "55f478a4",
   "metadata": {},
   "source": [
    "### 4. K-means Clustering"
   ]
  },
  {
   "cell_type": "code",
   "execution_count": 16,
   "id": "a5800d4f",
   "metadata": {},
   "outputs": [],
   "source": [
    "# create k-means object w 3 clusters\n",
    "\n",
    "kmeans = KMeans(n_clusters = 3) "
   ]
  },
  {
   "cell_type": "code",
   "execution_count": 17,
   "id": "6479f32e",
   "metadata": {
    "scrolled": true
   },
   "outputs": [
    {
     "name": "stderr",
     "output_type": "stream",
     "text": [
      "C:\\Users\\pears\\AppData\\Roaming\\Python\\Python39\\site-packages\\sklearn\\cluster\\_kmeans.py:1416: FutureWarning: The default value of `n_init` will change from 10 to 'auto' in 1.4. Set the value of `n_init` explicitly to suppress the warning\n",
      "  super()._check_params_vs_input(X, default_n_init=10)\n",
      "C:\\Users\\pears\\AppData\\Roaming\\Python\\Python39\\site-packages\\sklearn\\cluster\\_kmeans.py:1440: UserWarning: KMeans is known to have a memory leak on Windows with MKL, when there are less chunks than available threads. You can avoid it by setting the environment variable OMP_NUM_THREADS=1.\n",
      "  warnings.warn(\n"
     ]
    },
    {
     "data": {
      "text/html": [
       "<style>#sk-container-id-1 {color: black;}#sk-container-id-1 pre{padding: 0;}#sk-container-id-1 div.sk-toggleable {background-color: white;}#sk-container-id-1 label.sk-toggleable__label {cursor: pointer;display: block;width: 100%;margin-bottom: 0;padding: 0.3em;box-sizing: border-box;text-align: center;}#sk-container-id-1 label.sk-toggleable__label-arrow:before {content: \"▸\";float: left;margin-right: 0.25em;color: #696969;}#sk-container-id-1 label.sk-toggleable__label-arrow:hover:before {color: black;}#sk-container-id-1 div.sk-estimator:hover label.sk-toggleable__label-arrow:before {color: black;}#sk-container-id-1 div.sk-toggleable__content {max-height: 0;max-width: 0;overflow: hidden;text-align: left;background-color: #f0f8ff;}#sk-container-id-1 div.sk-toggleable__content pre {margin: 0.2em;color: black;border-radius: 0.25em;background-color: #f0f8ff;}#sk-container-id-1 input.sk-toggleable__control:checked~div.sk-toggleable__content {max-height: 200px;max-width: 100%;overflow: auto;}#sk-container-id-1 input.sk-toggleable__control:checked~label.sk-toggleable__label-arrow:before {content: \"▾\";}#sk-container-id-1 div.sk-estimator input.sk-toggleable__control:checked~label.sk-toggleable__label {background-color: #d4ebff;}#sk-container-id-1 div.sk-label input.sk-toggleable__control:checked~label.sk-toggleable__label {background-color: #d4ebff;}#sk-container-id-1 input.sk-hidden--visually {border: 0;clip: rect(1px 1px 1px 1px);clip: rect(1px, 1px, 1px, 1px);height: 1px;margin: -1px;overflow: hidden;padding: 0;position: absolute;width: 1px;}#sk-container-id-1 div.sk-estimator {font-family: monospace;background-color: #f0f8ff;border: 1px dotted black;border-radius: 0.25em;box-sizing: border-box;margin-bottom: 0.5em;}#sk-container-id-1 div.sk-estimator:hover {background-color: #d4ebff;}#sk-container-id-1 div.sk-parallel-item::after {content: \"\";width: 100%;border-bottom: 1px solid gray;flex-grow: 1;}#sk-container-id-1 div.sk-label:hover label.sk-toggleable__label {background-color: #d4ebff;}#sk-container-id-1 div.sk-serial::before {content: \"\";position: absolute;border-left: 1px solid gray;box-sizing: border-box;top: 0;bottom: 0;left: 50%;z-index: 0;}#sk-container-id-1 div.sk-serial {display: flex;flex-direction: column;align-items: center;background-color: white;padding-right: 0.2em;padding-left: 0.2em;position: relative;}#sk-container-id-1 div.sk-item {position: relative;z-index: 1;}#sk-container-id-1 div.sk-parallel {display: flex;align-items: stretch;justify-content: center;background-color: white;position: relative;}#sk-container-id-1 div.sk-item::before, #sk-container-id-1 div.sk-parallel-item::before {content: \"\";position: absolute;border-left: 1px solid gray;box-sizing: border-box;top: 0;bottom: 0;left: 50%;z-index: -1;}#sk-container-id-1 div.sk-parallel-item {display: flex;flex-direction: column;z-index: 1;position: relative;background-color: white;}#sk-container-id-1 div.sk-parallel-item:first-child::after {align-self: flex-end;width: 50%;}#sk-container-id-1 div.sk-parallel-item:last-child::after {align-self: flex-start;width: 50%;}#sk-container-id-1 div.sk-parallel-item:only-child::after {width: 0;}#sk-container-id-1 div.sk-dashed-wrapped {border: 1px dashed gray;margin: 0 0.4em 0.5em 0.4em;box-sizing: border-box;padding-bottom: 0.4em;background-color: white;}#sk-container-id-1 div.sk-label label {font-family: monospace;font-weight: bold;display: inline-block;line-height: 1.2em;}#sk-container-id-1 div.sk-label-container {text-align: center;}#sk-container-id-1 div.sk-container {/* jupyter's `normalize.less` sets `[hidden] { display: none; }` but bootstrap.min.css set `[hidden] { display: none !important; }` so we also need the `!important` here to be able to override the default hidden behavior on the sphinx rendered scikit-learn.org. See: https://github.com/scikit-learn/scikit-learn/issues/21755 */display: inline-block !important;position: relative;}#sk-container-id-1 div.sk-text-repr-fallback {display: none;}</style><div id=\"sk-container-id-1\" class=\"sk-top-container\"><div class=\"sk-text-repr-fallback\"><pre>KMeans(n_clusters=3)</pre><b>In a Jupyter environment, please rerun this cell to show the HTML representation or trust the notebook. <br />On GitHub, the HTML representation is unable to render, please try loading this page with nbviewer.org.</b></div><div class=\"sk-container\" hidden><div class=\"sk-item\"><div class=\"sk-estimator sk-toggleable\"><input class=\"sk-toggleable__control sk-hidden--visually\" id=\"sk-estimator-id-1\" type=\"checkbox\" checked><label for=\"sk-estimator-id-1\" class=\"sk-toggleable__label sk-toggleable__label-arrow\">KMeans</label><div class=\"sk-toggleable__content\"><pre>KMeans(n_clusters=3)</pre></div></div></div></div></div>"
      ],
      "text/plain": [
       "KMeans(n_clusters=3)"
      ]
     },
     "execution_count": 17,
     "metadata": {},
     "output_type": "execute_result"
    }
   ],
   "source": [
    "# fit k-means object to data\n",
    "\n",
    "kmeans.fit(unsup_nonan)"
   ]
  },
  {
   "cell_type": "code",
   "execution_count": 18,
   "id": "9a19fd75",
   "metadata": {},
   "outputs": [
    {
     "name": "stderr",
     "output_type": "stream",
     "text": [
      "C:\\Users\\pears\\AppData\\Roaming\\Python\\Python39\\site-packages\\sklearn\\cluster\\_kmeans.py:1416: FutureWarning: The default value of `n_init` will change from 10 to 'auto' in 1.4. Set the value of `n_init` explicitly to suppress the warning\n",
      "  super()._check_params_vs_input(X, default_n_init=10)\n",
      "C:\\Users\\pears\\AppData\\Roaming\\Python\\Python39\\site-packages\\sklearn\\cluster\\_kmeans.py:1440: UserWarning: KMeans is known to have a memory leak on Windows with MKL, when there are less chunks than available threads. You can avoid it by setting the environment variable OMP_NUM_THREADS=1.\n",
      "  warnings.warn(\n",
      "C:\\Users\\pears\\AppData\\Local\\Temp\\ipykernel_2332\\13162791.py:3: SettingWithCopyWarning: \n",
      "A value is trying to be set on a copy of a slice from a DataFrame.\n",
      "Try using .loc[row_indexer,col_indexer] = value instead\n",
      "\n",
      "See the caveats in the documentation: https://pandas.pydata.org/pandas-docs/stable/user_guide/indexing.html#returning-a-view-versus-a-copy\n",
      "  unsup_nonan['clusters'] = kmeans.fit_predict(unsup_nonan)\n"
     ]
    }
   ],
   "source": [
    "# create column named 'clusters' in unsup_nonan to show cluster group assigned number \n",
    "\n",
    "unsup_nonan['clusters'] = kmeans.fit_predict(unsup_nonan)"
   ]
  },
  {
   "cell_type": "code",
   "execution_count": 19,
   "id": "2af55c52",
   "metadata": {},
   "outputs": [
    {
     "data": {
      "text/html": [
       "<div>\n",
       "<style scoped>\n",
       "    .dataframe tbody tr th:only-of-type {\n",
       "        vertical-align: middle;\n",
       "    }\n",
       "\n",
       "    .dataframe tbody tr th {\n",
       "        vertical-align: top;\n",
       "    }\n",
       "\n",
       "    .dataframe thead th {\n",
       "        text-align: right;\n",
       "    }\n",
       "</style>\n",
       "<table border=\"1\" class=\"dataframe\">\n",
       "  <thead>\n",
       "    <tr style=\"text-align: right;\">\n",
       "      <th></th>\n",
       "      <th>Anxiety</th>\n",
       "      <th>Depressive</th>\n",
       "      <th>AHDI</th>\n",
       "      <th>VComfortable</th>\n",
       "      <th>vs</th>\n",
       "      <th>F/F</th>\n",
       "      <th>social_support</th>\n",
       "      <th>clusters</th>\n",
       "    </tr>\n",
       "  </thead>\n",
       "  <tbody>\n",
       "    <tr>\n",
       "      <th>1</th>\n",
       "      <td>4.0993</td>\n",
       "      <td>2.6280</td>\n",
       "      <td>0.5165</td>\n",
       "      <td>25.49</td>\n",
       "      <td>-0.09</td>\n",
       "      <td>86.52499</td>\n",
       "      <td>0.638</td>\n",
       "      <td>0</td>\n",
       "    </tr>\n",
       "    <tr>\n",
       "      <th>7</th>\n",
       "      <td>5.3559</td>\n",
       "      <td>2.5877</td>\n",
       "      <td>0.5809</td>\n",
       "      <td>26.54</td>\n",
       "      <td>-0.50</td>\n",
       "      <td>71.96290</td>\n",
       "      <td>0.907</td>\n",
       "      <td>0</td>\n",
       "    </tr>\n",
       "    <tr>\n",
       "      <th>9</th>\n",
       "      <td>6.4060</td>\n",
       "      <td>4.8278</td>\n",
       "      <td>0.8479</td>\n",
       "      <td>7.19</td>\n",
       "      <td>-0.86</td>\n",
       "      <td>83.66190</td>\n",
       "      <td>0.950</td>\n",
       "      <td>2</td>\n",
       "    </tr>\n",
       "    <tr>\n",
       "      <th>10</th>\n",
       "      <td>6.5819</td>\n",
       "      <td>3.4246</td>\n",
       "      <td>0.7383</td>\n",
       "      <td>47.74</td>\n",
       "      <td>0.13</td>\n",
       "      <td>87.92614</td>\n",
       "      <td>0.906</td>\n",
       "      <td>1</td>\n",
       "    </tr>\n",
       "    <tr>\n",
       "      <th>13</th>\n",
       "      <td>5.1520</td>\n",
       "      <td>4.7245</td>\n",
       "      <td>0.3009</td>\n",
       "      <td>43.19</td>\n",
       "      <td>-0.06</td>\n",
       "      <td>79.08222</td>\n",
       "      <td>0.876</td>\n",
       "      <td>1</td>\n",
       "    </tr>\n",
       "  </tbody>\n",
       "</table>\n",
       "</div>"
      ],
      "text/plain": [
       "    Anxiety  Depressive    AHDI  VComfortable    vs       F/F  social_support  \\\n",
       "1    4.0993      2.6280  0.5165         25.49 -0.09  86.52499           0.638   \n",
       "7    5.3559      2.5877  0.5809         26.54 -0.50  71.96290           0.907   \n",
       "9    6.4060      4.8278  0.8479          7.19 -0.86  83.66190           0.950   \n",
       "10   6.5819      3.4246  0.7383         47.74  0.13  87.92614           0.906   \n",
       "13   5.1520      4.7245  0.3009         43.19 -0.06  79.08222           0.876   \n",
       "\n",
       "    clusters  \n",
       "1          0  \n",
       "7          0  \n",
       "9          2  \n",
       "10         1  \n",
       "13         1  "
      ]
     },
     "execution_count": 19,
     "metadata": {},
     "output_type": "execute_result"
    }
   ],
   "source": [
    "unsup_nonan.head()"
   ]
  },
  {
   "cell_type": "code",
   "execution_count": 20,
   "id": "0e756d0e",
   "metadata": {},
   "outputs": [
    {
     "data": {
      "text/plain": [
       "0    47\n",
       "2    32\n",
       "1    17\n",
       "Name: clusters, dtype: int64"
      ]
     },
     "execution_count": 20,
     "metadata": {},
     "output_type": "execute_result"
    }
   ],
   "source": [
    "unsup_nonan['clusters'].value_counts()"
   ]
  },
  {
   "cell_type": "code",
   "execution_count": 21,
   "id": "902db7da",
   "metadata": {},
   "outputs": [
    {
     "data": {
      "image/png": "[encoded data removed]",
      "text/plain": [
       "<Figure size 600x400 with 1 Axes>"
      ]
     },
     "metadata": {},
     "output_type": "display_data"
    }
   ],
   "source": [
    "# plot clusters for 'social_support' and 'anxiety' variables\n",
    "\n",
    "plt.figure(figsize=(6,4))\n",
    "ax = sns.scatterplot(x=unsup_nonan['social_support'], y=unsup_nonan['Anxiety'], hue=kmeans.labels_, s=50) \n",
    "\n",
    "ax.grid(False)\n",
    "plt.xlabel('Level of social support')\n",
    "plt.ylabel('Prevalence of anxiety disorder')\n",
    "plt.show()"
   ]
  },
  {
   "cell_type": "code",
   "execution_count": 22,
   "id": "e36cdd8d",
   "metadata": {},
   "outputs": [
    {
     "data": {
      "image/png": "[encoded data removed]",
      "text/plain": [
       "<Figure size 600x400 with 1 Axes>"
      ]
     },
     "metadata": {},
     "output_type": "display_data"
    }
   ],
   "source": [
    "# plot clusters for 'social_support' and 'depressive' variables\n",
    "\n",
    "plt.figure(figsize=(6,4))\n",
    "ax = sns.scatterplot(x=unsup_nonan['social_support'], y=unsup_nonan['Depressive'], hue=kmeans.labels_, s=50) \n",
    "\n",
    "ax.grid(False)\n",
    "plt.xlabel('Level of social support')\n",
    "plt.ylabel('Prevalence of anxiety disorder')\n",
    "plt.show()"
   ]
  },
  {
   "cell_type": "code",
   "execution_count": 23,
   "id": "86a96599",
   "metadata": {},
   "outputs": [
    {
     "data": {
      "image/png": "[encoded data removed]",
      "text/plain": [
       "<Figure size 600x400 with 1 Axes>"
      ]
     },
     "metadata": {},
     "output_type": "display_data"
    }
   ],
   "source": [
    "# plot clusters for 'VComfortable' and 'depressive' variables\n",
    "\n",
    "plt.figure(figsize=(6,4))\n",
    "ax = sns.scatterplot(x=unsup_nonan['VComfortable'], y=unsup_nonan['Depressive'], hue=kmeans.labels_, s=50) \n",
    "\n",
    "ax.grid(False)\n",
    "plt.xlabel('Very comfortable talking about anxiety/depression to friends/family')\n",
    "plt.ylabel('Prevalence of depressive disorder')\n",
    "plt.show()"
   ]
  },
  {
   "cell_type": "code",
   "execution_count": 24,
   "id": "14f65acd",
   "metadata": {},
   "outputs": [
    {
     "data": {
      "image/png": "[encoded data removed]",
      "text/plain": [
       "<Figure size 600x400 with 1 Axes>"
      ]
     },
     "metadata": {},
     "output_type": "display_data"
    }
   ],
   "source": [
    "# plot clusters for 'VComfortable' and 'depressive' variables\n",
    "\n",
    "plt.figure(figsize=(6,4))\n",
    "ax = sns.scatterplot(x=unsup_nonan['VComfortable'], y=unsup_nonan['Anxiety'], hue=kmeans.labels_, s=50) \n",
    "\n",
    "ax.grid(False)\n",
    "plt.xlabel('Very comfortable talking about anxiety/depression to friends/family')\n",
    "plt.ylabel('Prevalence of anxiety disorder')\n",
    "plt.show()"
   ]
  },
  {
   "cell_type": "markdown",
   "id": "8b9a967b",
   "metadata": {},
   "source": [
    "### 5. K-means Aggregations"
   ]
  },
  {
   "cell_type": "code",
   "execution_count": 25,
   "id": "47954f61",
   "metadata": {
    "scrolled": true
   },
   "outputs": [
    {
     "name": "stderr",
     "output_type": "stream",
     "text": [
      "C:\\Users\\pears\\AppData\\Local\\Temp\\ipykernel_2332\\91232435.py:1: SettingWithCopyWarning: \n",
      "A value is trying to be set on a copy of a slice from a DataFrame.\n",
      "Try using .loc[row_indexer,col_indexer] = value instead\n",
      "\n",
      "See the caveats in the documentation: https://pandas.pydata.org/pandas-docs/stable/user_guide/indexing.html#returning-a-view-versus-a-copy\n",
      "  unsup_nonan.loc[unsup_nonan['clusters'] == 2, 'clusters'] = '2'\n"
     ]
    }
   ],
   "source": [
    "unsup_nonan.loc[unsup_nonan['clusters'] == 2, 'clusters'] = '2'\n",
    "unsup_nonan.loc[unsup_nonan['clusters'] == 1, 'clusters'] = '1'\n",
    "unsup_nonan.loc[unsup_nonan['clusters'] == 0, 'clusters'] = '0'"
   ]
  },
  {
   "cell_type": "markdown",
   "id": "53544c5d",
   "metadata": {},
   "source": [
    "I changed the newly labeled '2 dark purple', '1 purple' and '0 pink' back to numerical values bc I was getting errors when calculating the silouette scores below.\n",
    "\n",
    "Should I have removed the 'clusters' column from the unsup_nonan dataframe before calculating the silouette scores below?"
   ]
  },
  {
   "cell_type": "code",
   "execution_count": 26,
   "id": "b6d9af60",
   "metadata": {
    "scrolled": true
   },
   "outputs": [
    {
     "data": {
      "text/html": [
       "<div>\n",
       "<style scoped>\n",
       "    .dataframe tbody tr th:only-of-type {\n",
       "        vertical-align: middle;\n",
       "    }\n",
       "\n",
       "    .dataframe tbody tr th {\n",
       "        vertical-align: top;\n",
       "    }\n",
       "\n",
       "    .dataframe thead tr th {\n",
       "        text-align: left;\n",
       "    }\n",
       "\n",
       "    .dataframe thead tr:last-of-type th {\n",
       "        text-align: right;\n",
       "    }\n",
       "</style>\n",
       "<table border=\"1\" class=\"dataframe\">\n",
       "  <thead>\n",
       "    <tr>\n",
       "      <th></th>\n",
       "      <th colspan=\"2\" halign=\"left\">Anxiety</th>\n",
       "      <th colspan=\"2\" halign=\"left\">Depressive</th>\n",
       "      <th colspan=\"2\" halign=\"left\">AHDI</th>\n",
       "      <th colspan=\"2\" halign=\"left\">VComfortable</th>\n",
       "      <th colspan=\"2\" halign=\"left\">vs</th>\n",
       "      <th colspan=\"2\" halign=\"left\">F/F</th>\n",
       "      <th colspan=\"2\" halign=\"left\">social_support</th>\n",
       "    </tr>\n",
       "    <tr>\n",
       "      <th></th>\n",
       "      <th>mean</th>\n",
       "      <th>median</th>\n",
       "      <th>mean</th>\n",
       "      <th>median</th>\n",
       "      <th>mean</th>\n",
       "      <th>median</th>\n",
       "      <th>mean</th>\n",
       "      <th>median</th>\n",
       "      <th>mean</th>\n",
       "      <th>median</th>\n",
       "      <th>mean</th>\n",
       "      <th>median</th>\n",
       "      <th>mean</th>\n",
       "      <th>median</th>\n",
       "    </tr>\n",
       "    <tr>\n",
       "      <th>clusters</th>\n",
       "      <th></th>\n",
       "      <th></th>\n",
       "      <th></th>\n",
       "      <th></th>\n",
       "      <th></th>\n",
       "      <th></th>\n",
       "      <th></th>\n",
       "      <th></th>\n",
       "      <th></th>\n",
       "      <th></th>\n",
       "      <th></th>\n",
       "      <th></th>\n",
       "      <th></th>\n",
       "      <th></th>\n",
       "    </tr>\n",
       "  </thead>\n",
       "  <tbody>\n",
       "    <tr>\n",
       "      <th>0</th>\n",
       "      <td>4.588119</td>\n",
       "      <td>4.14740</td>\n",
       "      <td>3.812545</td>\n",
       "      <td>3.60400</td>\n",
       "      <td>0.459760</td>\n",
       "      <td>0.45360</td>\n",
       "      <td>24.935957</td>\n",
       "      <td>24.660</td>\n",
       "      <td>-0.346596</td>\n",
       "      <td>-0.45</td>\n",
       "      <td>83.372610</td>\n",
       "      <td>84.327880</td>\n",
       "      <td>0.824489</td>\n",
       "      <td>0.8380</td>\n",
       "    </tr>\n",
       "    <tr>\n",
       "      <th>1</th>\n",
       "      <td>4.662618</td>\n",
       "      <td>4.80730</td>\n",
       "      <td>4.124859</td>\n",
       "      <td>4.12780</td>\n",
       "      <td>0.391682</td>\n",
       "      <td>0.34520</td>\n",
       "      <td>47.902941</td>\n",
       "      <td>47.740</td>\n",
       "      <td>0.368235</td>\n",
       "      <td>0.27</td>\n",
       "      <td>76.590584</td>\n",
       "      <td>73.616430</td>\n",
       "      <td>0.780000</td>\n",
       "      <td>0.7770</td>\n",
       "    </tr>\n",
       "    <tr>\n",
       "      <th>2</th>\n",
       "      <td>4.765272</td>\n",
       "      <td>4.23995</td>\n",
       "      <td>3.915428</td>\n",
       "      <td>3.94515</td>\n",
       "      <td>0.591875</td>\n",
       "      <td>0.69065</td>\n",
       "      <td>12.340625</td>\n",
       "      <td>11.255</td>\n",
       "      <td>-0.644687</td>\n",
       "      <td>-0.69</td>\n",
       "      <td>75.557099</td>\n",
       "      <td>75.804875</td>\n",
       "      <td>0.861625</td>\n",
       "      <td>0.9015</td>\n",
       "    </tr>\n",
       "  </tbody>\n",
       "</table>\n",
       "</div>"
      ],
      "text/plain": [
       "           Anxiety          Depressive               AHDI           \\\n",
       "              mean   median       mean   median      mean   median   \n",
       "clusters                                                             \n",
       "0         4.588119  4.14740   3.812545  3.60400  0.459760  0.45360   \n",
       "1         4.662618  4.80730   4.124859  4.12780  0.391682  0.34520   \n",
       "2         4.765272  4.23995   3.915428  3.94515  0.591875  0.69065   \n",
       "\n",
       "         VComfortable                vs               F/F             \\\n",
       "                 mean  median      mean median       mean     median   \n",
       "clusters                                                               \n",
       "0           24.935957  24.660 -0.346596  -0.45  83.372610  84.327880   \n",
       "1           47.902941  47.740  0.368235   0.27  76.590584  73.616430   \n",
       "2           12.340625  11.255 -0.644687  -0.69  75.557099  75.804875   \n",
       "\n",
       "         social_support          \n",
       "                   mean  median  \n",
       "clusters                         \n",
       "0              0.824489  0.8380  \n",
       "1              0.780000  0.7770  \n",
       "2              0.861625  0.9015  "
      ]
     },
     "execution_count": 26,
     "metadata": {},
     "output_type": "execute_result"
    }
   ],
   "source": [
    "unsup_nonan.groupby('clusters').agg({'Anxiety':['mean', 'median'], 'Depressive':['mean', 'median'], 'AHDI':['mean', 'median'], 'VComfortable':['mean', 'median'], 'vs':['mean', 'median'], 'F/F':['mean', 'median'], 'social_support':['mean', 'median']})"
   ]
  },
  {
   "cell_type": "markdown",
   "id": "ed2a0b2b",
   "metadata": {},
   "source": [
    "I initially tried using the df with all 21 variables (with categorical columns removed). The elbow test looked very similar to what it is now, having reduced the variables to 7. \n",
    "\n",
    "Because the elbow test came out more rounded and an optimal number was hard to distinguish, I initially had k=5. Then I reduced it to 3 to see if that would improve the clusters but there were not notable differences.\n",
    "\n",
    "The clusters, when plotted on the scatterplot, looks random. The only pattern I saw was when I plotted \"very comfortable talking about A/D to F/F\" against \"anxiety\" and \"depressive\" respectively. "
   ]
  },
  {
   "cell_type": "markdown",
   "id": "583683f8",
   "metadata": {},
   "source": [
    "### 6. Silhouette Coefficient"
   ]
  },
  {
   "cell_type": "markdown",
   "id": "c7fb3a87",
   "metadata": {},
   "source": [
    "I looked up the below codes and worked out the errors. I'm not sure if they're correct."
   ]
  },
  {
   "cell_type": "code",
   "execution_count": 27,
   "id": "bca6f562",
   "metadata": {
    "scrolled": false
   },
   "outputs": [
    {
     "name": "stderr",
     "output_type": "stream",
     "text": [
      "C:\\Users\\pears\\AppData\\Roaming\\Python\\Python39\\site-packages\\sklearn\\cluster\\_kmeans.py:1416: FutureWarning: The default value of `n_init` will change from 10 to 'auto' in 1.4. Set the value of `n_init` explicitly to suppress the warning\n",
      "  super()._check_params_vs_input(X, default_n_init=10)\n",
      "C:\\Users\\pears\\AppData\\Roaming\\Python\\Python39\\site-packages\\sklearn\\cluster\\_kmeans.py:1440: UserWarning: KMeans is known to have a memory leak on Windows with MKL, when there are less chunks than available threads. You can avoid it by setting the environment variable OMP_NUM_THREADS=1.\n",
      "  warnings.warn(\n",
      "C:\\Users\\pears\\AppData\\Roaming\\Python\\Python39\\site-packages\\sklearn\\cluster\\_kmeans.py:1416: FutureWarning: The default value of `n_init` will change from 10 to 'auto' in 1.4. Set the value of `n_init` explicitly to suppress the warning\n",
      "  super()._check_params_vs_input(X, default_n_init=10)\n",
      "C:\\Users\\pears\\AppData\\Roaming\\Python\\Python39\\site-packages\\sklearn\\cluster\\_kmeans.py:1440: UserWarning: KMeans is known to have a memory leak on Windows with MKL, when there are less chunks than available threads. You can avoid it by setting the environment variable OMP_NUM_THREADS=1.\n",
      "  warnings.warn(\n",
      "C:\\Users\\pears\\AppData\\Roaming\\Python\\Python39\\site-packages\\sklearn\\cluster\\_kmeans.py:1416: FutureWarning: The default value of `n_init` will change from 10 to 'auto' in 1.4. Set the value of `n_init` explicitly to suppress the warning\n",
      "  super()._check_params_vs_input(X, default_n_init=10)\n",
      "C:\\Users\\pears\\AppData\\Roaming\\Python\\Python39\\site-packages\\sklearn\\cluster\\_kmeans.py:1440: UserWarning: KMeans is known to have a memory leak on Windows with MKL, when there are less chunks than available threads. You can avoid it by setting the environment variable OMP_NUM_THREADS=1.\n",
      "  warnings.warn(\n",
      "C:\\Users\\pears\\AppData\\Roaming\\Python\\Python39\\site-packages\\sklearn\\cluster\\_kmeans.py:1416: FutureWarning: The default value of `n_init` will change from 10 to 'auto' in 1.4. Set the value of `n_init` explicitly to suppress the warning\n",
      "  super()._check_params_vs_input(X, default_n_init=10)\n",
      "C:\\Users\\pears\\AppData\\Roaming\\Python\\Python39\\site-packages\\sklearn\\cluster\\_kmeans.py:1440: UserWarning: KMeans is known to have a memory leak on Windows with MKL, when there are less chunks than available threads. You can avoid it by setting the environment variable OMP_NUM_THREADS=1.\n",
      "  warnings.warn(\n",
      "C:\\Users\\pears\\AppData\\Roaming\\Python\\Python39\\site-packages\\sklearn\\cluster\\_kmeans.py:1416: FutureWarning: The default value of `n_init` will change from 10 to 'auto' in 1.4. Set the value of `n_init` explicitly to suppress the warning\n",
      "  super()._check_params_vs_input(X, default_n_init=10)\n",
      "C:\\Users\\pears\\AppData\\Roaming\\Python\\Python39\\site-packages\\sklearn\\cluster\\_kmeans.py:1440: UserWarning: KMeans is known to have a memory leak on Windows with MKL, when there are less chunks than available threads. You can avoid it by setting the environment variable OMP_NUM_THREADS=1.\n",
      "  warnings.warn(\n"
     ]
    },
    {
     "name": "stdout",
     "output_type": "stream",
     "text": [
      "Silhouette Score for 2 clusters: 0.5123917431962927\n",
      "Silhouette Score for 3 clusters: 0.39661293413301024\n",
      "Silhouette Score for 4 clusters: 0.36340034781022384\n",
      "Silhouette Score for 5 clusters: 0.39289102696353906\n",
      "Silhouette Score for 6 clusters: 0.3583519559212139\n"
     ]
    }
   ],
   "source": [
    "# Silouette coefficient for each K-mean model\n",
    "\n",
    "# Range of models to test\n",
    "cluster_range = [2, 3, 4, 5, 6]\n",
    "\n",
    "# Create lists to store k-means and silhouette scores\n",
    "silhouette_scores = []\n",
    "kmeans_models = []\n",
    "\n",
    "# Iterate through different cluster numbers\n",
    "for n_clusters in cluster_range:\n",
    "    kmeans_sc = KMeans(n_clusters=n_clusters)\n",
    "    kmeans_sc.fit(unsup_nonan)\n",
    "    \n",
    "    # Predict cluster labels for each data point\n",
    "    cluster_labels = kmeans_sc.predict(unsup_nonan)\n",
    "    \n",
    "    # Calculate silhouette score\n",
    "    silhouette_avg = silhouette_score(unsup_nonan, cluster_labels)\n",
    "    \n",
    "    # Append silhouette score and k-means model to lists\n",
    "    silhouette_scores.append(silhouette_avg)\n",
    "    kmeans_models.append(kmeans_sc)\n",
    "    \n",
    "    print(f\"Silhouette Score for {n_clusters} clusters: {silhouette_avg}\")"
   ]
  },
  {
   "cell_type": "code",
   "execution_count": 28,
   "id": "836ad634",
   "metadata": {},
   "outputs": [
    {
     "name": "stderr",
     "output_type": "stream",
     "text": [
      "C:\\Users\\pears\\AppData\\Roaming\\Python\\Python39\\site-packages\\sklearn\\cluster\\_kmeans.py:1416: FutureWarning: The default value of `n_init` will change from 10 to 'auto' in 1.4. Set the value of `n_init` explicitly to suppress the warning\n",
      "  super()._check_params_vs_input(X, default_n_init=10)\n",
      "C:\\Users\\pears\\AppData\\Roaming\\Python\\Python39\\site-packages\\sklearn\\cluster\\_kmeans.py:1440: UserWarning: KMeans is known to have a memory leak on Windows with MKL, when there are less chunks than available threads. You can avoid it by setting the environment variable OMP_NUM_THREADS=1.\n",
      "  warnings.warn(\n",
      "C:\\Users\\pears\\AppData\\Roaming\\Python\\Python39\\site-packages\\sklearn\\cluster\\_kmeans.py:1416: FutureWarning: The default value of `n_init` will change from 10 to 'auto' in 1.4. Set the value of `n_init` explicitly to suppress the warning\n",
      "  super()._check_params_vs_input(X, default_n_init=10)\n",
      "C:\\Users\\pears\\AppData\\Roaming\\Python\\Python39\\site-packages\\sklearn\\cluster\\_kmeans.py:1440: UserWarning: KMeans is known to have a memory leak on Windows with MKL, when there are less chunks than available threads. You can avoid it by setting the environment variable OMP_NUM_THREADS=1.\n",
      "  warnings.warn(\n"
     ]
    },
    {
     "name": "stdout",
     "output_type": "stream",
     "text": [
      "Clusters for k=2: {0: 75, 1: 21}\n",
      "Clusters for k=3: {0: 32, 1: 47, 2: 17}\n",
      "Clusters for k=4: {0: 37, 1: 14, 2: 27, 3: 18}\n",
      "Clusters for k=5: {0: 30, 1: 8, 2: 39, 3: 9, 4: 10}\n",
      "Clusters for k=6: {0: 39, 1: 8, 2: 19, 3: 8, 4: 10, 5: 12}\n"
     ]
    },
    {
     "name": "stderr",
     "output_type": "stream",
     "text": [
      "C:\\Users\\pears\\AppData\\Roaming\\Python\\Python39\\site-packages\\sklearn\\cluster\\_kmeans.py:1416: FutureWarning: The default value of `n_init` will change from 10 to 'auto' in 1.4. Set the value of `n_init` explicitly to suppress the warning\n",
      "  super()._check_params_vs_input(X, default_n_init=10)\n",
      "C:\\Users\\pears\\AppData\\Roaming\\Python\\Python39\\site-packages\\sklearn\\cluster\\_kmeans.py:1440: UserWarning: KMeans is known to have a memory leak on Windows with MKL, when there are less chunks than available threads. You can avoid it by setting the environment variable OMP_NUM_THREADS=1.\n",
      "  warnings.warn(\n",
      "C:\\Users\\pears\\AppData\\Roaming\\Python\\Python39\\site-packages\\sklearn\\cluster\\_kmeans.py:1416: FutureWarning: The default value of `n_init` will change from 10 to 'auto' in 1.4. Set the value of `n_init` explicitly to suppress the warning\n",
      "  super()._check_params_vs_input(X, default_n_init=10)\n",
      "C:\\Users\\pears\\AppData\\Roaming\\Python\\Python39\\site-packages\\sklearn\\cluster\\_kmeans.py:1440: UserWarning: KMeans is known to have a memory leak on Windows with MKL, when there are less chunks than available threads. You can avoid it by setting the environment variable OMP_NUM_THREADS=1.\n",
      "  warnings.warn(\n",
      "C:\\Users\\pears\\AppData\\Roaming\\Python\\Python39\\site-packages\\sklearn\\cluster\\_kmeans.py:1416: FutureWarning: The default value of `n_init` will change from 10 to 'auto' in 1.4. Set the value of `n_init` explicitly to suppress the warning\n",
      "  super()._check_params_vs_input(X, default_n_init=10)\n",
      "C:\\Users\\pears\\AppData\\Roaming\\Python\\Python39\\site-packages\\sklearn\\cluster\\_kmeans.py:1440: UserWarning: KMeans is known to have a memory leak on Windows with MKL, when there are less chunks than available threads. You can avoid it by setting the environment variable OMP_NUM_THREADS=1.\n",
      "  warnings.warn(\n"
     ]
    }
   ],
   "source": [
    "# Create a list to store K-mean models \n",
    "kmeans_models = []\n",
    "for num_clusters in range(2, 7):\n",
    "    kmeans_sc = KMeans(n_clusters=num_clusters)\n",
    "    kmeans_sc.fit(unsup_nonan)\n",
    "    kmeans_models.append(kmeans_sc)\n",
    "\n",
    "# Create a list to store sizes of clusters for each K-mean model\n",
    "cluster_sizes = []\n",
    "for kmeans_sc in kmeans_models:\n",
    "    \n",
    "    # Predict cluster labels for each data point\n",
    "    cluster_labels = kmeans_sc.predict(unsup_nonan)\n",
    "    \n",
    "    # Count the number of data points in each cluster\n",
    "    unique, counts = np.unique(cluster_labels, return_counts=True)\n",
    "    cluster_sizes.append(dict(zip(unique, counts)))\n",
    "\n",
    "# Display the sizes of clusters for each K-means model\n",
    "for k, sizes in enumerate(cluster_sizes, start=2):\n",
    "    print(f'Clusters for k={k}: {sizes}')"
   ]
  },
  {
   "cell_type": "markdown",
   "id": "64220958",
   "metadata": {},
   "source": [
    "The k-mean models with the highest scores are:\n",
    "- 2 (0.51)\n",
    "- 5 (0.41)\n",
    "\n",
    "But looking at the cluster sizes, k=2 has a large difference (75, 21), as does k=5 (42, 24, 13, 9, 8). I'm reading that the best k-mean has both a high score and an even distribution of cluster size. \n",
    "\n",
    "Next up are: \n",
    "- 3 (0.40) with 47, 32, 17\n",
    "- 4 (0.36) with 37, 27, 18, 14\n",
    "- 6 (0.33) with 36, 18, 15, 10, 9, 8\n",
    "\n",
    "...which all still have imbalanced cluster sizes..."
   ]
  },
  {
   "cell_type": "markdown",
   "id": "6d007490",
   "metadata": {},
   "source": [
    "### 7. Export Dataframe"
   ]
  },
  {
   "cell_type": "code",
   "execution_count": 29,
   "id": "4f685e25",
   "metadata": {},
   "outputs": [],
   "source": [
    "unsup_nonan.to_csv(os.path.join(path, '.csv', 'Tableau kmean cluster.csv'))"
   ]
  }
 ],
 "metadata": {
  "kernelspec": {
   "display_name": "Python 3 (ipykernel)",
   "language": "python",
   "name": "python3"
  },
  "language_info": {
   "codemirror_mode": {
    "name": "ipython",
    "version": 3
   },
   "file_extension": ".py",
   "mimetype": "text/x-python",
   "name": "python",
   "nbconvert_exporter": "python",
   "pygments_lexer": "ipython3",
   "version": "3.9.16"
  }
 },
 "nbformat": 4,
 "nbformat_minor": 5
}
