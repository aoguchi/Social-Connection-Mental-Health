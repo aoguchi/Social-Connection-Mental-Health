{
 "cells": [
  {
   "cell_type": "markdown",
   "id": "5affa2fa",
   "metadata": {},
   "source": [
    "## 6.6 Sourcing & Analyzing Time-Series Data"
   ]
  },
  {
   "cell_type": "markdown",
   "id": "cba105ee",
   "metadata": {},
   "source": [
    "## Index\n",
    "[1. Import Libraries and Datasets](#1.-Import-Libraries-and-Datasets)\n",
    "<br>\n",
    "[2. Subsetting, wrangling, and cleaning time-series data](#2.-Subsetting,-wrangling,-and-cleaning-time-series-data)\n",
    "<br>\n",
    "[3. Time series analysis: decomposition](#3.-Time-series-analysis:-decomposition)\n",
    "<br>\n",
    "[4. Testing for stationarity](#4.-Testing-for-stationarity)\n",
    "<br>\n",
    "[5. Stationarizing the Data](#5.-Stationarizing-the-Data)"
   ]
  },
  {
   "cell_type": "markdown",
   "id": "73556a24",
   "metadata": {},
   "source": [
    "### 1. Import Libraries and Datasets"
   ]
  },
  {
   "cell_type": "code",
   "execution_count": 15,
   "id": "bdb3db76",
   "metadata": {
    "scrolled": true
   },
   "outputs": [
    {
     "name": "stdout",
     "output_type": "stream",
     "text": [
      "Defaulting to user installation because normal site-packages is not writeable\n",
      "Requirement already satisfied: statsmodels in c:\\users\\pears\\appdata\\roaming\\python\\python39\\site-packages (0.14.0)\n",
      "Requirement already satisfied: numpy>=1.18 in c:\\program files\\arcgis\\pro\\bin\\python\\envs\\arcgispro-py3\\lib\\site-packages (from statsmodels) (1.20.1)\n",
      "Requirement already satisfied: pandas>=1.0 in c:\\program files\\arcgis\\pro\\bin\\python\\envs\\arcgispro-py3\\lib\\site-packages (from statsmodels) (1.4.4)\n",
      "Requirement already satisfied: scipy!=1.9.2,>=1.4 in c:\\program files\\arcgis\\pro\\bin\\python\\envs\\arcgispro-py3\\lib\\site-packages (from statsmodels) (1.6.2)\n",
      "Requirement already satisfied: patsy>=0.5.2 in c:\\users\\pears\\appdata\\roaming\\python\\python39\\site-packages (from statsmodels) (0.5.3)\n",
      "Requirement already satisfied: packaging>=21.3 in c:\\program files\\arcgis\\pro\\bin\\python\\envs\\arcgispro-py3\\lib\\site-packages (from statsmodels) (21.3)\n",
      "Requirement already satisfied: pyparsing!=3.0.5,>=2.0.2 in c:\\program files\\arcgis\\pro\\bin\\python\\envs\\arcgispro-py3\\lib\\site-packages (from packaging>=21.3->statsmodels) (3.0.9)\n",
      "Requirement already satisfied: pytz>=2020.1 in c:\\program files\\arcgis\\pro\\bin\\python\\envs\\arcgispro-py3\\lib\\site-packages\\pytz-2022.6-py3.9.egg (from pandas>=1.0->statsmodels) (2022.6)\n",
      "Requirement already satisfied: python-dateutil>=2.8.1 in c:\\program files\\arcgis\\pro\\bin\\python\\envs\\arcgispro-py3\\lib\\site-packages (from pandas>=1.0->statsmodels) (2.8.2)\n",
      "Requirement already satisfied: six in c:\\program files\\arcgis\\pro\\bin\\python\\envs\\arcgispro-py3\\lib\\site-packages (from patsy>=0.5.2->statsmodels) (1.16.0)\n"
     ]
    }
   ],
   "source": [
    "!pip install statsmodels"
   ]
  },
  {
   "cell_type": "code",
   "execution_count": 2,
   "id": "9740d3c6",
   "metadata": {},
   "outputs": [
    {
     "name": "stdout",
     "output_type": "stream",
     "text": [
      "Defaulting to user installation because normal site-packages is not writeable\n",
      "Requirement already satisfied: quandl in c:\\users\\pears\\appdata\\roaming\\python\\python39\\site-packages (3.7.0)\n",
      "Requirement already satisfied: python-dateutil in c:\\program files\\arcgis\\pro\\bin\\python\\envs\\arcgispro-py3\\lib\\site-packages (from quandl) (2.8.2)\n",
      "Requirement already satisfied: six in c:\\program files\\arcgis\\pro\\bin\\python\\envs\\arcgispro-py3\\lib\\site-packages (from quandl) (1.16.0)\n",
      "Requirement already satisfied: numpy>=1.8 in c:\\program files\\arcgis\\pro\\bin\\python\\envs\\arcgispro-py3\\lib\\site-packages (from quandl) (1.20.1)\n",
      "Requirement already satisfied: more-itertools in c:\\users\\pears\\appdata\\roaming\\python\\python39\\site-packages (from quandl) (10.1.0)\n",
      "Requirement already satisfied: pandas>=0.14 in c:\\program files\\arcgis\\pro\\bin\\python\\envs\\arcgispro-py3\\lib\\site-packages (from quandl) (1.4.4)\n",
      "Requirement already satisfied: inflection>=0.3.1 in c:\\users\\pears\\appdata\\roaming\\python\\python39\\site-packages (from quandl) (0.5.1)\n",
      "Requirement already satisfied: requests>=2.7.0 in c:\\program files\\arcgis\\pro\\bin\\python\\envs\\arcgispro-py3\\lib\\site-packages (from quandl) (2.28.1)\n",
      "Requirement already satisfied: pytz>=2020.1 in c:\\program files\\arcgis\\pro\\bin\\python\\envs\\arcgispro-py3\\lib\\site-packages\\pytz-2022.6-py3.9.egg (from pandas>=0.14->quandl) (2022.6)\n",
      "Requirement already satisfied: certifi>=2017.4.17 in c:\\program files\\arcgis\\pro\\bin\\python\\envs\\arcgispro-py3\\lib\\site-packages (from requests>=2.7.0->quandl) (2022.9.24)\n",
      "Requirement already satisfied: idna<4,>=2.5 in c:\\program files\\arcgis\\pro\\bin\\python\\envs\\arcgispro-py3\\lib\\site-packages (from requests>=2.7.0->quandl) (3.4)\n",
      "Requirement already satisfied: urllib3<1.27,>=1.21.1 in c:\\program files\\arcgis\\pro\\bin\\python\\envs\\arcgispro-py3\\lib\\site-packages (from requests>=2.7.0->quandl) (1.26.12)\n",
      "Requirement already satisfied: charset-normalizer<3,>=2 in c:\\program files\\arcgis\\pro\\bin\\python\\envs\\arcgispro-py3\\lib\\site-packages (from requests>=2.7.0->quandl) (2.0.4)\n"
     ]
    }
   ],
   "source": [
    "!pip install quandl"
   ]
  },
  {
   "cell_type": "code",
   "execution_count": 1,
   "id": "8f440435",
   "metadata": {},
   "outputs": [],
   "source": [
    "import quandl\n",
    "import pandas as pd\n",
    "import numpy as np\n",
    "import seaborn as sns\n",
    "import matplotlib\n",
    "import matplotlib.pyplot as plt\n",
    "import statsmodels.api as sm # Using .api imports the public access version of statsmodels, which is a library that handles \n",
    "# statistical models.\n",
    "import os\n",
    "import warnings # This is a library that handles warnings.\n",
    "\n",
    "warnings.filterwarnings(\"ignore\") # Disable deprecation warnings that could indicate, for instance, a suspended library or \n",
    "# feature. These are more relevant to developers and very seldom to analysts.\n",
    "\n",
    "plt.style.use('fivethirtyeight') # This is a styling option for how your plots will appear. More examples here:\n",
    "# https://matplotlib.org/3.2.1/tutorials/introductory/customizing.html\n",
    "# https://matplotlib.org/3.1.0/gallery/style_sheets/fivethirtyeight.html"
   ]
  },
  {
   "cell_type": "code",
   "execution_count": 2,
   "id": "84941649",
   "metadata": {},
   "outputs": [],
   "source": [
    "# This option ensures that the graphs you create are displayed within the notebook without the need to \"call\" them specifically.\n",
    "\n",
    "%matplotlib inline"
   ]
  },
  {
   "cell_type": "code",
   "execution_count": 3,
   "id": "da625b34",
   "metadata": {},
   "outputs": [],
   "source": [
    "# import datasets\n",
    "\n",
    "# create path for dataset \n",
    "path = r'C:\\Users\\pears\\Desktop\\CF\\Achievement 6\\datasets'\n",
    "\n",
    "# create filepaths\n",
    "filepath = os.path.join(path, '.csv', 'prevelance.csv')\n",
    "\n",
    "# assign df name\n",
    "prev = pd.read_csv(filepath)"
   ]
  },
  {
   "cell_type": "code",
   "execution_count": 4,
   "id": "9e7ce2c1",
   "metadata": {},
   "outputs": [
    {
     "data": {
      "text/html": [
       "<div>\n",
       "<style scoped>\n",
       "    .dataframe tbody tr th:only-of-type {\n",
       "        vertical-align: middle;\n",
       "    }\n",
       "\n",
       "    .dataframe tbody tr th {\n",
       "        vertical-align: top;\n",
       "    }\n",
       "\n",
       "    .dataframe thead th {\n",
       "        text-align: right;\n",
       "    }\n",
       "</style>\n",
       "<table border=\"1\" class=\"dataframe\">\n",
       "  <thead>\n",
       "    <tr style=\"text-align: right;\">\n",
       "      <th></th>\n",
       "      <th>Entity</th>\n",
       "      <th>Year</th>\n",
       "      <th>Unnamed: 2</th>\n",
       "      <th>Anxiety</th>\n",
       "      <th>Depressive</th>\n",
       "    </tr>\n",
       "  </thead>\n",
       "  <tbody>\n",
       "    <tr>\n",
       "      <th>0</th>\n",
       "      <td>Afghanistan</td>\n",
       "      <td>1990</td>\n",
       "      <td>Afghanistan, 1990</td>\n",
       "      <td>4.8351</td>\n",
       "      <td>5.1253</td>\n",
       "    </tr>\n",
       "    <tr>\n",
       "      <th>1</th>\n",
       "      <td>Afghanistan</td>\n",
       "      <td>1991</td>\n",
       "      <td>Afghanistan, 1991</td>\n",
       "      <td>4.8218</td>\n",
       "      <td>5.1163</td>\n",
       "    </tr>\n",
       "    <tr>\n",
       "      <th>2</th>\n",
       "      <td>Afghanistan</td>\n",
       "      <td>1992</td>\n",
       "      <td>Afghanistan, 1992</td>\n",
       "      <td>4.8014</td>\n",
       "      <td>5.1066</td>\n",
       "    </tr>\n",
       "    <tr>\n",
       "      <th>3</th>\n",
       "      <td>Afghanistan</td>\n",
       "      <td>1993</td>\n",
       "      <td>Afghanistan, 1993</td>\n",
       "      <td>4.7894</td>\n",
       "      <td>5.1003</td>\n",
       "    </tr>\n",
       "    <tr>\n",
       "      <th>4</th>\n",
       "      <td>Afghanistan</td>\n",
       "      <td>1994</td>\n",
       "      <td>Afghanistan, 1994</td>\n",
       "      <td>4.7849</td>\n",
       "      <td>5.0994</td>\n",
       "    </tr>\n",
       "  </tbody>\n",
       "</table>\n",
       "</div>"
      ],
      "text/plain": [
       "        Entity  Year         Unnamed: 2  Anxiety  Depressive\n",
       "0  Afghanistan  1990  Afghanistan, 1990   4.8351      5.1253\n",
       "1  Afghanistan  1991  Afghanistan, 1991   4.8218      5.1163\n",
       "2  Afghanistan  1992  Afghanistan, 1992   4.8014      5.1066\n",
       "3  Afghanistan  1993  Afghanistan, 1993   4.7894      5.1003\n",
       "4  Afghanistan  1994  Afghanistan, 1994   4.7849      5.0994"
      ]
     },
     "execution_count": 4,
     "metadata": {},
     "output_type": "execute_result"
    }
   ],
   "source": [
    "# viewing df prevelance \n",
    "\n",
    "prev.head(5)"
   ]
  },
  {
   "cell_type": "code",
   "execution_count": 5,
   "id": "7901b5f2",
   "metadata": {},
   "outputs": [
    {
     "data": {
      "text/plain": [
       "(6150, 5)"
      ]
     },
     "execution_count": 5,
     "metadata": {},
     "output_type": "execute_result"
    }
   ],
   "source": [
    "prev.shape"
   ]
  },
  {
   "cell_type": "code",
   "execution_count": 6,
   "id": "1304b234",
   "metadata": {},
   "outputs": [],
   "source": [
    "# isolating depression prevelance for only US\n",
    "\n",
    "prev_dep_us = prev[prev['Entity'] == 'United States']"
   ]
  },
  {
   "cell_type": "code",
   "execution_count": 7,
   "id": "db1cbb94",
   "metadata": {
    "scrolled": true
   },
   "outputs": [
    {
     "data": {
      "text/html": [
       "<div>\n",
       "<style scoped>\n",
       "    .dataframe tbody tr th:only-of-type {\n",
       "        vertical-align: middle;\n",
       "    }\n",
       "\n",
       "    .dataframe tbody tr th {\n",
       "        vertical-align: top;\n",
       "    }\n",
       "\n",
       "    .dataframe thead th {\n",
       "        text-align: right;\n",
       "    }\n",
       "</style>\n",
       "<table border=\"1\" class=\"dataframe\">\n",
       "  <thead>\n",
       "    <tr style=\"text-align: right;\">\n",
       "      <th></th>\n",
       "      <th>Entity</th>\n",
       "      <th>Year</th>\n",
       "      <th>Unnamed: 2</th>\n",
       "      <th>Anxiety</th>\n",
       "      <th>Depressive</th>\n",
       "    </tr>\n",
       "  </thead>\n",
       "  <tbody>\n",
       "    <tr>\n",
       "      <th>5820</th>\n",
       "      <td>United States</td>\n",
       "      <td>1990</td>\n",
       "      <td>United States, 1990</td>\n",
       "      <td>5.6170</td>\n",
       "      <td>4.0687</td>\n",
       "    </tr>\n",
       "    <tr>\n",
       "      <th>5821</th>\n",
       "      <td>United States</td>\n",
       "      <td>1991</td>\n",
       "      <td>United States, 1991</td>\n",
       "      <td>5.6365</td>\n",
       "      <td>4.1966</td>\n",
       "    </tr>\n",
       "    <tr>\n",
       "      <th>5822</th>\n",
       "      <td>United States</td>\n",
       "      <td>1992</td>\n",
       "      <td>United States, 1992</td>\n",
       "      <td>5.6620</td>\n",
       "      <td>4.3232</td>\n",
       "    </tr>\n",
       "    <tr>\n",
       "      <th>5823</th>\n",
       "      <td>United States</td>\n",
       "      <td>1993</td>\n",
       "      <td>United States, 1993</td>\n",
       "      <td>5.6911</td>\n",
       "      <td>4.4440</td>\n",
       "    </tr>\n",
       "    <tr>\n",
       "      <th>5824</th>\n",
       "      <td>United States</td>\n",
       "      <td>1994</td>\n",
       "      <td>United States, 1994</td>\n",
       "      <td>5.7223</td>\n",
       "      <td>4.5544</td>\n",
       "    </tr>\n",
       "    <tr>\n",
       "      <th>5825</th>\n",
       "      <td>United States</td>\n",
       "      <td>1995</td>\n",
       "      <td>United States, 1995</td>\n",
       "      <td>5.7527</td>\n",
       "      <td>4.6499</td>\n",
       "    </tr>\n",
       "    <tr>\n",
       "      <th>5826</th>\n",
       "      <td>United States</td>\n",
       "      <td>1996</td>\n",
       "      <td>United States, 1996</td>\n",
       "      <td>5.9328</td>\n",
       "      <td>4.7289</td>\n",
       "    </tr>\n",
       "    <tr>\n",
       "      <th>5827</th>\n",
       "      <td>United States</td>\n",
       "      <td>1997</td>\n",
       "      <td>United States, 1997</td>\n",
       "      <td>6.3198</td>\n",
       "      <td>4.7923</td>\n",
       "    </tr>\n",
       "    <tr>\n",
       "      <th>5828</th>\n",
       "      <td>United States</td>\n",
       "      <td>1998</td>\n",
       "      <td>United States, 1998</td>\n",
       "      <td>6.7723</td>\n",
       "      <td>4.8418</td>\n",
       "    </tr>\n",
       "    <tr>\n",
       "      <th>5829</th>\n",
       "      <td>United States</td>\n",
       "      <td>1999</td>\n",
       "      <td>United States, 1999</td>\n",
       "      <td>7.1485</td>\n",
       "      <td>4.8775</td>\n",
       "    </tr>\n",
       "    <tr>\n",
       "      <th>5830</th>\n",
       "      <td>United States</td>\n",
       "      <td>2000</td>\n",
       "      <td>United States, 2000</td>\n",
       "      <td>7.3058</td>\n",
       "      <td>4.8999</td>\n",
       "    </tr>\n",
       "    <tr>\n",
       "      <th>5831</th>\n",
       "      <td>United States</td>\n",
       "      <td>2001</td>\n",
       "      <td>United States, 2001</td>\n",
       "      <td>7.2523</td>\n",
       "      <td>4.9102</td>\n",
       "    </tr>\n",
       "    <tr>\n",
       "      <th>5832</th>\n",
       "      <td>United States</td>\n",
       "      <td>2002</td>\n",
       "      <td>United States, 2002</td>\n",
       "      <td>7.1184</td>\n",
       "      <td>4.9121</td>\n",
       "    </tr>\n",
       "    <tr>\n",
       "      <th>5833</th>\n",
       "      <td>United States</td>\n",
       "      <td>2003</td>\n",
       "      <td>United States, 2003</td>\n",
       "      <td>6.9454</td>\n",
       "      <td>4.9090</td>\n",
       "    </tr>\n",
       "    <tr>\n",
       "      <th>5834</th>\n",
       "      <td>United States</td>\n",
       "      <td>2004</td>\n",
       "      <td>United States, 2004</td>\n",
       "      <td>6.7748</td>\n",
       "      <td>4.9069</td>\n",
       "    </tr>\n",
       "    <tr>\n",
       "      <th>5835</th>\n",
       "      <td>United States</td>\n",
       "      <td>2005</td>\n",
       "      <td>United States, 2005</td>\n",
       "      <td>6.6479</td>\n",
       "      <td>4.9112</td>\n",
       "    </tr>\n",
       "    <tr>\n",
       "      <th>5836</th>\n",
       "      <td>United States</td>\n",
       "      <td>2006</td>\n",
       "      <td>United States, 2006</td>\n",
       "      <td>6.5717</td>\n",
       "      <td>4.9193</td>\n",
       "    </tr>\n",
       "    <tr>\n",
       "      <th>5837</th>\n",
       "      <td>United States</td>\n",
       "      <td>2007</td>\n",
       "      <td>United States, 2007</td>\n",
       "      <td>6.5166</td>\n",
       "      <td>4.9265</td>\n",
       "    </tr>\n",
       "    <tr>\n",
       "      <th>5838</th>\n",
       "      <td>United States</td>\n",
       "      <td>2008</td>\n",
       "      <td>United States, 2008</td>\n",
       "      <td>6.4698</td>\n",
       "      <td>4.9317</td>\n",
       "    </tr>\n",
       "    <tr>\n",
       "      <th>5839</th>\n",
       "      <td>United States</td>\n",
       "      <td>2009</td>\n",
       "      <td>United States, 2009</td>\n",
       "      <td>6.4183</td>\n",
       "      <td>4.9338</td>\n",
       "    </tr>\n",
       "    <tr>\n",
       "      <th>5840</th>\n",
       "      <td>United States</td>\n",
       "      <td>2010</td>\n",
       "      <td>United States, 2010</td>\n",
       "      <td>6.3492</td>\n",
       "      <td>4.9325</td>\n",
       "    </tr>\n",
       "    <tr>\n",
       "      <th>5841</th>\n",
       "      <td>United States</td>\n",
       "      <td>2011</td>\n",
       "      <td>United States, 2011</td>\n",
       "      <td>6.2208</td>\n",
       "      <td>4.9143</td>\n",
       "    </tr>\n",
       "    <tr>\n",
       "      <th>5842</th>\n",
       "      <td>United States</td>\n",
       "      <td>2012</td>\n",
       "      <td>United States, 2012</td>\n",
       "      <td>6.0336</td>\n",
       "      <td>4.8739</td>\n",
       "    </tr>\n",
       "    <tr>\n",
       "      <th>5843</th>\n",
       "      <td>United States</td>\n",
       "      <td>2013</td>\n",
       "      <td>United States, 2013</td>\n",
       "      <td>5.8371</td>\n",
       "      <td>4.8253</td>\n",
       "    </tr>\n",
       "    <tr>\n",
       "      <th>5844</th>\n",
       "      <td>United States</td>\n",
       "      <td>2014</td>\n",
       "      <td>United States, 2014</td>\n",
       "      <td>5.6797</td>\n",
       "      <td>4.7803</td>\n",
       "    </tr>\n",
       "    <tr>\n",
       "      <th>5845</th>\n",
       "      <td>United States</td>\n",
       "      <td>2015</td>\n",
       "      <td>United States, 2015</td>\n",
       "      <td>5.6087</td>\n",
       "      <td>4.7516</td>\n",
       "    </tr>\n",
       "    <tr>\n",
       "      <th>5846</th>\n",
       "      <td>United States</td>\n",
       "      <td>2016</td>\n",
       "      <td>United States, 2016</td>\n",
       "      <td>5.6025</td>\n",
       "      <td>4.7404</td>\n",
       "    </tr>\n",
       "    <tr>\n",
       "      <th>5847</th>\n",
       "      <td>United States</td>\n",
       "      <td>2017</td>\n",
       "      <td>United States, 2017</td>\n",
       "      <td>5.6091</td>\n",
       "      <td>4.7353</td>\n",
       "    </tr>\n",
       "    <tr>\n",
       "      <th>5848</th>\n",
       "      <td>United States</td>\n",
       "      <td>2018</td>\n",
       "      <td>United States, 2018</td>\n",
       "      <td>5.7858</td>\n",
       "      <td>4.7326</td>\n",
       "    </tr>\n",
       "    <tr>\n",
       "      <th>5849</th>\n",
       "      <td>United States</td>\n",
       "      <td>2019</td>\n",
       "      <td>United States, 2019</td>\n",
       "      <td>6.1636</td>\n",
       "      <td>4.7338</td>\n",
       "    </tr>\n",
       "  </tbody>\n",
       "</table>\n",
       "</div>"
      ],
      "text/plain": [
       "             Entity  Year           Unnamed: 2  Anxiety  Depressive\n",
       "5820  United States  1990  United States, 1990   5.6170      4.0687\n",
       "5821  United States  1991  United States, 1991   5.6365      4.1966\n",
       "5822  United States  1992  United States, 1992   5.6620      4.3232\n",
       "5823  United States  1993  United States, 1993   5.6911      4.4440\n",
       "5824  United States  1994  United States, 1994   5.7223      4.5544\n",
       "5825  United States  1995  United States, 1995   5.7527      4.6499\n",
       "5826  United States  1996  United States, 1996   5.9328      4.7289\n",
       "5827  United States  1997  United States, 1997   6.3198      4.7923\n",
       "5828  United States  1998  United States, 1998   6.7723      4.8418\n",
       "5829  United States  1999  United States, 1999   7.1485      4.8775\n",
       "5830  United States  2000  United States, 2000   7.3058      4.8999\n",
       "5831  United States  2001  United States, 2001   7.2523      4.9102\n",
       "5832  United States  2002  United States, 2002   7.1184      4.9121\n",
       "5833  United States  2003  United States, 2003   6.9454      4.9090\n",
       "5834  United States  2004  United States, 2004   6.7748      4.9069\n",
       "5835  United States  2005  United States, 2005   6.6479      4.9112\n",
       "5836  United States  2006  United States, 2006   6.5717      4.9193\n",
       "5837  United States  2007  United States, 2007   6.5166      4.9265\n",
       "5838  United States  2008  United States, 2008   6.4698      4.9317\n",
       "5839  United States  2009  United States, 2009   6.4183      4.9338\n",
       "5840  United States  2010  United States, 2010   6.3492      4.9325\n",
       "5841  United States  2011  United States, 2011   6.2208      4.9143\n",
       "5842  United States  2012  United States, 2012   6.0336      4.8739\n",
       "5843  United States  2013  United States, 2013   5.8371      4.8253\n",
       "5844  United States  2014  United States, 2014   5.6797      4.7803\n",
       "5845  United States  2015  United States, 2015   5.6087      4.7516\n",
       "5846  United States  2016  United States, 2016   5.6025      4.7404\n",
       "5847  United States  2017  United States, 2017   5.6091      4.7353\n",
       "5848  United States  2018  United States, 2018   5.7858      4.7326\n",
       "5849  United States  2019  United States, 2019   6.1636      4.7338"
      ]
     },
     "execution_count": 7,
     "metadata": {},
     "output_type": "execute_result"
    }
   ],
   "source": [
    "prev_dep_us"
   ]
  },
  {
   "cell_type": "code",
   "execution_count": 8,
   "id": "0cfcb794",
   "metadata": {},
   "outputs": [],
   "source": [
    "# removing irrelevant columns from df \n",
    "\n",
    "prev_dep_us = prev_dep_us.drop(columns = ['Unnamed: 2', 'Anxiety', 'Entity'])"
   ]
  },
  {
   "cell_type": "code",
   "execution_count": 9,
   "id": "05345324",
   "metadata": {},
   "outputs": [
    {
     "data": {
      "text/html": [
       "<div>\n",
       "<style scoped>\n",
       "    .dataframe tbody tr th:only-of-type {\n",
       "        vertical-align: middle;\n",
       "    }\n",
       "\n",
       "    .dataframe tbody tr th {\n",
       "        vertical-align: top;\n",
       "    }\n",
       "\n",
       "    .dataframe thead th {\n",
       "        text-align: right;\n",
       "    }\n",
       "</style>\n",
       "<table border=\"1\" class=\"dataframe\">\n",
       "  <thead>\n",
       "    <tr style=\"text-align: right;\">\n",
       "      <th></th>\n",
       "      <th>Year</th>\n",
       "      <th>Depressive</th>\n",
       "    </tr>\n",
       "  </thead>\n",
       "  <tbody>\n",
       "    <tr>\n",
       "      <th>5820</th>\n",
       "      <td>1990</td>\n",
       "      <td>4.0687</td>\n",
       "    </tr>\n",
       "    <tr>\n",
       "      <th>5821</th>\n",
       "      <td>1991</td>\n",
       "      <td>4.1966</td>\n",
       "    </tr>\n",
       "    <tr>\n",
       "      <th>5822</th>\n",
       "      <td>1992</td>\n",
       "      <td>4.3232</td>\n",
       "    </tr>\n",
       "    <tr>\n",
       "      <th>5823</th>\n",
       "      <td>1993</td>\n",
       "      <td>4.4440</td>\n",
       "    </tr>\n",
       "    <tr>\n",
       "      <th>5824</th>\n",
       "      <td>1994</td>\n",
       "      <td>4.5544</td>\n",
       "    </tr>\n",
       "    <tr>\n",
       "      <th>5825</th>\n",
       "      <td>1995</td>\n",
       "      <td>4.6499</td>\n",
       "    </tr>\n",
       "    <tr>\n",
       "      <th>5826</th>\n",
       "      <td>1996</td>\n",
       "      <td>4.7289</td>\n",
       "    </tr>\n",
       "    <tr>\n",
       "      <th>5827</th>\n",
       "      <td>1997</td>\n",
       "      <td>4.7923</td>\n",
       "    </tr>\n",
       "    <tr>\n",
       "      <th>5828</th>\n",
       "      <td>1998</td>\n",
       "      <td>4.8418</td>\n",
       "    </tr>\n",
       "    <tr>\n",
       "      <th>5829</th>\n",
       "      <td>1999</td>\n",
       "      <td>4.8775</td>\n",
       "    </tr>\n",
       "    <tr>\n",
       "      <th>5830</th>\n",
       "      <td>2000</td>\n",
       "      <td>4.8999</td>\n",
       "    </tr>\n",
       "    <tr>\n",
       "      <th>5831</th>\n",
       "      <td>2001</td>\n",
       "      <td>4.9102</td>\n",
       "    </tr>\n",
       "    <tr>\n",
       "      <th>5832</th>\n",
       "      <td>2002</td>\n",
       "      <td>4.9121</td>\n",
       "    </tr>\n",
       "    <tr>\n",
       "      <th>5833</th>\n",
       "      <td>2003</td>\n",
       "      <td>4.9090</td>\n",
       "    </tr>\n",
       "    <tr>\n",
       "      <th>5834</th>\n",
       "      <td>2004</td>\n",
       "      <td>4.9069</td>\n",
       "    </tr>\n",
       "    <tr>\n",
       "      <th>5835</th>\n",
       "      <td>2005</td>\n",
       "      <td>4.9112</td>\n",
       "    </tr>\n",
       "    <tr>\n",
       "      <th>5836</th>\n",
       "      <td>2006</td>\n",
       "      <td>4.9193</td>\n",
       "    </tr>\n",
       "    <tr>\n",
       "      <th>5837</th>\n",
       "      <td>2007</td>\n",
       "      <td>4.9265</td>\n",
       "    </tr>\n",
       "    <tr>\n",
       "      <th>5838</th>\n",
       "      <td>2008</td>\n",
       "      <td>4.9317</td>\n",
       "    </tr>\n",
       "    <tr>\n",
       "      <th>5839</th>\n",
       "      <td>2009</td>\n",
       "      <td>4.9338</td>\n",
       "    </tr>\n",
       "    <tr>\n",
       "      <th>5840</th>\n",
       "      <td>2010</td>\n",
       "      <td>4.9325</td>\n",
       "    </tr>\n",
       "    <tr>\n",
       "      <th>5841</th>\n",
       "      <td>2011</td>\n",
       "      <td>4.9143</td>\n",
       "    </tr>\n",
       "    <tr>\n",
       "      <th>5842</th>\n",
       "      <td>2012</td>\n",
       "      <td>4.8739</td>\n",
       "    </tr>\n",
       "    <tr>\n",
       "      <th>5843</th>\n",
       "      <td>2013</td>\n",
       "      <td>4.8253</td>\n",
       "    </tr>\n",
       "    <tr>\n",
       "      <th>5844</th>\n",
       "      <td>2014</td>\n",
       "      <td>4.7803</td>\n",
       "    </tr>\n",
       "    <tr>\n",
       "      <th>5845</th>\n",
       "      <td>2015</td>\n",
       "      <td>4.7516</td>\n",
       "    </tr>\n",
       "    <tr>\n",
       "      <th>5846</th>\n",
       "      <td>2016</td>\n",
       "      <td>4.7404</td>\n",
       "    </tr>\n",
       "    <tr>\n",
       "      <th>5847</th>\n",
       "      <td>2017</td>\n",
       "      <td>4.7353</td>\n",
       "    </tr>\n",
       "    <tr>\n",
       "      <th>5848</th>\n",
       "      <td>2018</td>\n",
       "      <td>4.7326</td>\n",
       "    </tr>\n",
       "    <tr>\n",
       "      <th>5849</th>\n",
       "      <td>2019</td>\n",
       "      <td>4.7338</td>\n",
       "    </tr>\n",
       "  </tbody>\n",
       "</table>\n",
       "</div>"
      ],
      "text/plain": [
       "      Year  Depressive\n",
       "5820  1990      4.0687\n",
       "5821  1991      4.1966\n",
       "5822  1992      4.3232\n",
       "5823  1993      4.4440\n",
       "5824  1994      4.5544\n",
       "5825  1995      4.6499\n",
       "5826  1996      4.7289\n",
       "5827  1997      4.7923\n",
       "5828  1998      4.8418\n",
       "5829  1999      4.8775\n",
       "5830  2000      4.8999\n",
       "5831  2001      4.9102\n",
       "5832  2002      4.9121\n",
       "5833  2003      4.9090\n",
       "5834  2004      4.9069\n",
       "5835  2005      4.9112\n",
       "5836  2006      4.9193\n",
       "5837  2007      4.9265\n",
       "5838  2008      4.9317\n",
       "5839  2009      4.9338\n",
       "5840  2010      4.9325\n",
       "5841  2011      4.9143\n",
       "5842  2012      4.8739\n",
       "5843  2013      4.8253\n",
       "5844  2014      4.7803\n",
       "5845  2015      4.7516\n",
       "5846  2016      4.7404\n",
       "5847  2017      4.7353\n",
       "5848  2018      4.7326\n",
       "5849  2019      4.7338"
      ]
     },
     "execution_count": 9,
     "metadata": {},
     "output_type": "execute_result"
    }
   ],
   "source": [
    "prev_dep_us"
   ]
  },
  {
   "cell_type": "code",
   "execution_count": 10,
   "id": "73b088ec",
   "metadata": {},
   "outputs": [],
   "source": [
    "# turning Year column into index \n",
    "\n",
    "prev_dep_us.set_index('Year', inplace=True)"
   ]
  },
  {
   "cell_type": "code",
   "execution_count": 11,
   "id": "98245bb8",
   "metadata": {},
   "outputs": [
    {
     "data": {
      "text/html": [
       "<div>\n",
       "<style scoped>\n",
       "    .dataframe tbody tr th:only-of-type {\n",
       "        vertical-align: middle;\n",
       "    }\n",
       "\n",
       "    .dataframe tbody tr th {\n",
       "        vertical-align: top;\n",
       "    }\n",
       "\n",
       "    .dataframe thead th {\n",
       "        text-align: right;\n",
       "    }\n",
       "</style>\n",
       "<table border=\"1\" class=\"dataframe\">\n",
       "  <thead>\n",
       "    <tr style=\"text-align: right;\">\n",
       "      <th></th>\n",
       "      <th>Depressive</th>\n",
       "    </tr>\n",
       "    <tr>\n",
       "      <th>Year</th>\n",
       "      <th></th>\n",
       "    </tr>\n",
       "  </thead>\n",
       "  <tbody>\n",
       "    <tr>\n",
       "      <th>1990</th>\n",
       "      <td>4.0687</td>\n",
       "    </tr>\n",
       "    <tr>\n",
       "      <th>1991</th>\n",
       "      <td>4.1966</td>\n",
       "    </tr>\n",
       "    <tr>\n",
       "      <th>1992</th>\n",
       "      <td>4.3232</td>\n",
       "    </tr>\n",
       "    <tr>\n",
       "      <th>1993</th>\n",
       "      <td>4.4440</td>\n",
       "    </tr>\n",
       "    <tr>\n",
       "      <th>1994</th>\n",
       "      <td>4.5544</td>\n",
       "    </tr>\n",
       "    <tr>\n",
       "      <th>1995</th>\n",
       "      <td>4.6499</td>\n",
       "    </tr>\n",
       "    <tr>\n",
       "      <th>1996</th>\n",
       "      <td>4.7289</td>\n",
       "    </tr>\n",
       "    <tr>\n",
       "      <th>1997</th>\n",
       "      <td>4.7923</td>\n",
       "    </tr>\n",
       "    <tr>\n",
       "      <th>1998</th>\n",
       "      <td>4.8418</td>\n",
       "    </tr>\n",
       "    <tr>\n",
       "      <th>1999</th>\n",
       "      <td>4.8775</td>\n",
       "    </tr>\n",
       "    <tr>\n",
       "      <th>2000</th>\n",
       "      <td>4.8999</td>\n",
       "    </tr>\n",
       "    <tr>\n",
       "      <th>2001</th>\n",
       "      <td>4.9102</td>\n",
       "    </tr>\n",
       "    <tr>\n",
       "      <th>2002</th>\n",
       "      <td>4.9121</td>\n",
       "    </tr>\n",
       "    <tr>\n",
       "      <th>2003</th>\n",
       "      <td>4.9090</td>\n",
       "    </tr>\n",
       "    <tr>\n",
       "      <th>2004</th>\n",
       "      <td>4.9069</td>\n",
       "    </tr>\n",
       "    <tr>\n",
       "      <th>2005</th>\n",
       "      <td>4.9112</td>\n",
       "    </tr>\n",
       "    <tr>\n",
       "      <th>2006</th>\n",
       "      <td>4.9193</td>\n",
       "    </tr>\n",
       "    <tr>\n",
       "      <th>2007</th>\n",
       "      <td>4.9265</td>\n",
       "    </tr>\n",
       "    <tr>\n",
       "      <th>2008</th>\n",
       "      <td>4.9317</td>\n",
       "    </tr>\n",
       "    <tr>\n",
       "      <th>2009</th>\n",
       "      <td>4.9338</td>\n",
       "    </tr>\n",
       "    <tr>\n",
       "      <th>2010</th>\n",
       "      <td>4.9325</td>\n",
       "    </tr>\n",
       "    <tr>\n",
       "      <th>2011</th>\n",
       "      <td>4.9143</td>\n",
       "    </tr>\n",
       "    <tr>\n",
       "      <th>2012</th>\n",
       "      <td>4.8739</td>\n",
       "    </tr>\n",
       "    <tr>\n",
       "      <th>2013</th>\n",
       "      <td>4.8253</td>\n",
       "    </tr>\n",
       "    <tr>\n",
       "      <th>2014</th>\n",
       "      <td>4.7803</td>\n",
       "    </tr>\n",
       "    <tr>\n",
       "      <th>2015</th>\n",
       "      <td>4.7516</td>\n",
       "    </tr>\n",
       "    <tr>\n",
       "      <th>2016</th>\n",
       "      <td>4.7404</td>\n",
       "    </tr>\n",
       "    <tr>\n",
       "      <th>2017</th>\n",
       "      <td>4.7353</td>\n",
       "    </tr>\n",
       "    <tr>\n",
       "      <th>2018</th>\n",
       "      <td>4.7326</td>\n",
       "    </tr>\n",
       "    <tr>\n",
       "      <th>2019</th>\n",
       "      <td>4.7338</td>\n",
       "    </tr>\n",
       "  </tbody>\n",
       "</table>\n",
       "</div>"
      ],
      "text/plain": [
       "      Depressive\n",
       "Year            \n",
       "1990      4.0687\n",
       "1991      4.1966\n",
       "1992      4.3232\n",
       "1993      4.4440\n",
       "1994      4.5544\n",
       "1995      4.6499\n",
       "1996      4.7289\n",
       "1997      4.7923\n",
       "1998      4.8418\n",
       "1999      4.8775\n",
       "2000      4.8999\n",
       "2001      4.9102\n",
       "2002      4.9121\n",
       "2003      4.9090\n",
       "2004      4.9069\n",
       "2005      4.9112\n",
       "2006      4.9193\n",
       "2007      4.9265\n",
       "2008      4.9317\n",
       "2009      4.9338\n",
       "2010      4.9325\n",
       "2011      4.9143\n",
       "2012      4.8739\n",
       "2013      4.8253\n",
       "2014      4.7803\n",
       "2015      4.7516\n",
       "2016      4.7404\n",
       "2017      4.7353\n",
       "2018      4.7326\n",
       "2019      4.7338"
      ]
     },
     "execution_count": 11,
     "metadata": {},
     "output_type": "execute_result"
    }
   ],
   "source": [
    "prev_dep_us"
   ]
  },
  {
   "cell_type": "code",
   "execution_count": 12,
   "id": "e24dbe2e",
   "metadata": {},
   "outputs": [
    {
     "name": "stdout",
     "output_type": "stream",
     "text": [
      "<class 'pandas.core.frame.DataFrame'>\n",
      "Int64Index: 30 entries, 1990 to 2019\n",
      "Data columns (total 1 columns):\n",
      " #   Column      Non-Null Count  Dtype  \n",
      "---  ------      --------------  -----  \n",
      " 0   Depressive  30 non-null     float64\n",
      "dtypes: float64(1)\n",
      "memory usage: 480.0 bytes\n"
     ]
    }
   ],
   "source": [
    "prev_dep_us.info()"
   ]
  },
  {
   "cell_type": "code",
   "execution_count": 13,
   "id": "5e500553",
   "metadata": {},
   "outputs": [
    {
     "data": {
      "text/plain": [
       "pandas.core.frame.DataFrame"
      ]
     },
     "execution_count": 13,
     "metadata": {},
     "output_type": "execute_result"
    }
   ],
   "source": [
    "type(prev_dep_us)"
   ]
  },
  {
   "cell_type": "code",
   "execution_count": 14,
   "id": "a6a87d65",
   "metadata": {},
   "outputs": [
    {
     "data": {
      "text/plain": [
       "[<matplotlib.lines.Line2D at 0x21b6cee5070>]"
      ]
     },
     "execution_count": 14,
     "metadata": {},
     "output_type": "execute_result"
    },
    {
     "data": {
      "image/png": "[encoded data removed]",
      "text/plain": [
       "<Figure size 1500x500 with 1 Axes>"
      ]
     },
     "metadata": {},
     "output_type": "display_data"
    }
   ],
   "source": [
    "# Plot the data using matplotlib.\n",
    "\n",
    "plt.figure(figsize=(15,5), dpi=100) # The dpi argument controls the quality of the visualization here. When it's set to 100,\n",
    "# it will produce lower-than-standard quality, which is useful if, similar to this notebook, you'll have a lot of plots.\n",
    "# A large number of plots will increase the size of the notebook, which could take more time to load and eat up a lot of RAM!\n",
    "\n",
    "plt.plot(prev_dep_us)"
   ]
  },
  {
   "cell_type": "markdown",
   "id": "6d312e1e",
   "metadata": {},
   "source": [
    "### 2. Subsetting, wrangling, and cleaning time-series data"
   ]
  },
  {
   "cell_type": "code",
   "execution_count": 15,
   "id": "1541008a",
   "metadata": {},
   "outputs": [],
   "source": [
    "# resetting index to use Year column as a filter\n",
    "\n",
    "prev_dep_us2 = prev_dep_us.reset_index()"
   ]
  },
  {
   "cell_type": "code",
   "execution_count": 16,
   "id": "2d28ace2",
   "metadata": {},
   "outputs": [
    {
     "data": {
      "text/html": [
       "<div>\n",
       "<style scoped>\n",
       "    .dataframe tbody tr th:only-of-type {\n",
       "        vertical-align: middle;\n",
       "    }\n",
       "\n",
       "    .dataframe tbody tr th {\n",
       "        vertical-align: top;\n",
       "    }\n",
       "\n",
       "    .dataframe thead th {\n",
       "        text-align: right;\n",
       "    }\n",
       "</style>\n",
       "<table border=\"1\" class=\"dataframe\">\n",
       "  <thead>\n",
       "    <tr style=\"text-align: right;\">\n",
       "      <th></th>\n",
       "      <th>Year</th>\n",
       "      <th>Depressive</th>\n",
       "    </tr>\n",
       "  </thead>\n",
       "  <tbody>\n",
       "    <tr>\n",
       "      <th>0</th>\n",
       "      <td>1990</td>\n",
       "      <td>4.0687</td>\n",
       "    </tr>\n",
       "    <tr>\n",
       "      <th>1</th>\n",
       "      <td>1991</td>\n",
       "      <td>4.1966</td>\n",
       "    </tr>\n",
       "    <tr>\n",
       "      <th>2</th>\n",
       "      <td>1992</td>\n",
       "      <td>4.3232</td>\n",
       "    </tr>\n",
       "    <tr>\n",
       "      <th>3</th>\n",
       "      <td>1993</td>\n",
       "      <td>4.4440</td>\n",
       "    </tr>\n",
       "    <tr>\n",
       "      <th>4</th>\n",
       "      <td>1994</td>\n",
       "      <td>4.5544</td>\n",
       "    </tr>\n",
       "  </tbody>\n",
       "</table>\n",
       "</div>"
      ],
      "text/plain": [
       "   Year  Depressive\n",
       "0  1990      4.0687\n",
       "1  1991      4.1966\n",
       "2  1992      4.3232\n",
       "3  1993      4.4440\n",
       "4  1994      4.5544"
      ]
     },
     "execution_count": 16,
     "metadata": {},
     "output_type": "execute_result"
    }
   ],
   "source": [
    "prev_dep_us2.head()"
   ]
  },
  {
   "cell_type": "code",
   "execution_count": 17,
   "id": "63cbe2a7",
   "metadata": {},
   "outputs": [
    {
     "data": {
      "text/plain": [
       "Year          0\n",
       "Depressive    0\n",
       "dtype: int64"
      ]
     },
     "execution_count": 17,
     "metadata": {},
     "output_type": "execute_result"
    }
   ],
   "source": [
    "# checking for missing values\n",
    "\n",
    "prev_dep_us2.isnull().sum() "
   ]
  },
  {
   "cell_type": "code",
   "execution_count": 18,
   "id": "352431c1",
   "metadata": {},
   "outputs": [
    {
     "data": {
      "text/plain": [
       "0"
      ]
     },
     "execution_count": 18,
     "metadata": {},
     "output_type": "execute_result"
    }
   ],
   "source": [
    "# checking for duplicates\n",
    "\n",
    "dups = prev_dep_us2.duplicated()\n",
    "dups.sum()"
   ]
  },
  {
   "cell_type": "code",
   "execution_count": 19,
   "id": "80bd3366",
   "metadata": {},
   "outputs": [],
   "source": [
    "# converting 'year' column to datetime\n",
    "prev_dep_us2['Year'] = pd.to_datetime(prev_dep_us2['Year'], format='%Y')"
   ]
  },
  {
   "cell_type": "code",
   "execution_count": 20,
   "id": "881b0ddb",
   "metadata": {},
   "outputs": [],
   "source": [
    "# turning Year column into index \n",
    "\n",
    "prev_dep_us2.set_index('Year', inplace=True)"
   ]
  },
  {
   "cell_type": "code",
   "execution_count": 35,
   "id": "c8901e08",
   "metadata": {},
   "outputs": [
    {
     "data": {
      "text/html": [
       "<div>\n",
       "<style scoped>\n",
       "    .dataframe tbody tr th:only-of-type {\n",
       "        vertical-align: middle;\n",
       "    }\n",
       "\n",
       "    .dataframe tbody tr th {\n",
       "        vertical-align: top;\n",
       "    }\n",
       "\n",
       "    .dataframe thead th {\n",
       "        text-align: right;\n",
       "    }\n",
       "</style>\n",
       "<table border=\"1\" class=\"dataframe\">\n",
       "  <thead>\n",
       "    <tr style=\"text-align: right;\">\n",
       "      <th></th>\n",
       "      <th>Depressive</th>\n",
       "    </tr>\n",
       "    <tr>\n",
       "      <th>Year</th>\n",
       "      <th></th>\n",
       "    </tr>\n",
       "  </thead>\n",
       "  <tbody>\n",
       "    <tr>\n",
       "      <th>1990-01-01</th>\n",
       "      <td>4.0687</td>\n",
       "    </tr>\n",
       "    <tr>\n",
       "      <th>1991-01-01</th>\n",
       "      <td>4.1966</td>\n",
       "    </tr>\n",
       "    <tr>\n",
       "      <th>1992-01-01</th>\n",
       "      <td>4.3232</td>\n",
       "    </tr>\n",
       "    <tr>\n",
       "      <th>1993-01-01</th>\n",
       "      <td>4.4440</td>\n",
       "    </tr>\n",
       "    <tr>\n",
       "      <th>1994-01-01</th>\n",
       "      <td>4.5544</td>\n",
       "    </tr>\n",
       "    <tr>\n",
       "      <th>1995-01-01</th>\n",
       "      <td>4.6499</td>\n",
       "    </tr>\n",
       "    <tr>\n",
       "      <th>1996-01-01</th>\n",
       "      <td>4.7289</td>\n",
       "    </tr>\n",
       "    <tr>\n",
       "      <th>1997-01-01</th>\n",
       "      <td>4.7923</td>\n",
       "    </tr>\n",
       "    <tr>\n",
       "      <th>1998-01-01</th>\n",
       "      <td>4.8418</td>\n",
       "    </tr>\n",
       "    <tr>\n",
       "      <th>1999-01-01</th>\n",
       "      <td>4.8775</td>\n",
       "    </tr>\n",
       "    <tr>\n",
       "      <th>2000-01-01</th>\n",
       "      <td>4.8999</td>\n",
       "    </tr>\n",
       "    <tr>\n",
       "      <th>2001-01-01</th>\n",
       "      <td>4.9102</td>\n",
       "    </tr>\n",
       "    <tr>\n",
       "      <th>2002-01-01</th>\n",
       "      <td>4.9121</td>\n",
       "    </tr>\n",
       "    <tr>\n",
       "      <th>2003-01-01</th>\n",
       "      <td>4.9090</td>\n",
       "    </tr>\n",
       "    <tr>\n",
       "      <th>2004-01-01</th>\n",
       "      <td>4.9069</td>\n",
       "    </tr>\n",
       "    <tr>\n",
       "      <th>2005-01-01</th>\n",
       "      <td>4.9112</td>\n",
       "    </tr>\n",
       "    <tr>\n",
       "      <th>2006-01-01</th>\n",
       "      <td>4.9193</td>\n",
       "    </tr>\n",
       "    <tr>\n",
       "      <th>2007-01-01</th>\n",
       "      <td>4.9265</td>\n",
       "    </tr>\n",
       "    <tr>\n",
       "      <th>2008-01-01</th>\n",
       "      <td>4.9317</td>\n",
       "    </tr>\n",
       "    <tr>\n",
       "      <th>2009-01-01</th>\n",
       "      <td>4.9338</td>\n",
       "    </tr>\n",
       "    <tr>\n",
       "      <th>2010-01-01</th>\n",
       "      <td>4.9325</td>\n",
       "    </tr>\n",
       "    <tr>\n",
       "      <th>2011-01-01</th>\n",
       "      <td>4.9143</td>\n",
       "    </tr>\n",
       "    <tr>\n",
       "      <th>2012-01-01</th>\n",
       "      <td>4.8739</td>\n",
       "    </tr>\n",
       "    <tr>\n",
       "      <th>2013-01-01</th>\n",
       "      <td>4.8253</td>\n",
       "    </tr>\n",
       "    <tr>\n",
       "      <th>2014-01-01</th>\n",
       "      <td>4.7803</td>\n",
       "    </tr>\n",
       "    <tr>\n",
       "      <th>2015-01-01</th>\n",
       "      <td>4.7516</td>\n",
       "    </tr>\n",
       "    <tr>\n",
       "      <th>2016-01-01</th>\n",
       "      <td>4.7404</td>\n",
       "    </tr>\n",
       "    <tr>\n",
       "      <th>2017-01-01</th>\n",
       "      <td>4.7353</td>\n",
       "    </tr>\n",
       "    <tr>\n",
       "      <th>2018-01-01</th>\n",
       "      <td>4.7326</td>\n",
       "    </tr>\n",
       "    <tr>\n",
       "      <th>2019-01-01</th>\n",
       "      <td>4.7338</td>\n",
       "    </tr>\n",
       "  </tbody>\n",
       "</table>\n",
       "</div>"
      ],
      "text/plain": [
       "            Depressive\n",
       "Year                  \n",
       "1990-01-01      4.0687\n",
       "1991-01-01      4.1966\n",
       "1992-01-01      4.3232\n",
       "1993-01-01      4.4440\n",
       "1994-01-01      4.5544\n",
       "1995-01-01      4.6499\n",
       "1996-01-01      4.7289\n",
       "1997-01-01      4.7923\n",
       "1998-01-01      4.8418\n",
       "1999-01-01      4.8775\n",
       "2000-01-01      4.8999\n",
       "2001-01-01      4.9102\n",
       "2002-01-01      4.9121\n",
       "2003-01-01      4.9090\n",
       "2004-01-01      4.9069\n",
       "2005-01-01      4.9112\n",
       "2006-01-01      4.9193\n",
       "2007-01-01      4.9265\n",
       "2008-01-01      4.9317\n",
       "2009-01-01      4.9338\n",
       "2010-01-01      4.9325\n",
       "2011-01-01      4.9143\n",
       "2012-01-01      4.8739\n",
       "2013-01-01      4.8253\n",
       "2014-01-01      4.7803\n",
       "2015-01-01      4.7516\n",
       "2016-01-01      4.7404\n",
       "2017-01-01      4.7353\n",
       "2018-01-01      4.7326\n",
       "2019-01-01      4.7338"
      ]
     },
     "execution_count": 35,
     "metadata": {},
     "output_type": "execute_result"
    }
   ],
   "source": [
    "prev_dep_us2"
   ]
  },
  {
   "cell_type": "code",
   "execution_count": 22,
   "id": "9882b440",
   "metadata": {},
   "outputs": [
    {
     "data": {
      "text/plain": [
       "[<matplotlib.lines.Line2D at 0x21b6db0f460>]"
      ]
     },
     "execution_count": 22,
     "metadata": {},
     "output_type": "execute_result"
    },
    {
     "data": {
      "image/png": "[encoded data removed]",
      "text/plain": [
       "<Figure size 1500x500 with 1 Axes>"
      ]
     },
     "metadata": {},
     "output_type": "display_data"
    }
   ],
   "source": [
    "# Plot the new data set\n",
    "\n",
    "plt.figure(figsize=(15,5), dpi=100)\n",
    "plt.plot(prev_dep_us2)"
   ]
  },
  {
   "cell_type": "markdown",
   "id": "60ce4610",
   "metadata": {},
   "source": [
    "### 3. Time series analysis: decomposition"
   ]
  },
  {
   "cell_type": "code",
   "execution_count": 23,
   "id": "49a42203",
   "metadata": {},
   "outputs": [],
   "source": [
    "# decomposing the time-series using an additive model\n",
    "\n",
    "decomposition = sm.tsa.seasonal_decompose(prev_dep_us2, model='additive')"
   ]
  },
  {
   "cell_type": "code",
   "execution_count": 24,
   "id": "70a7f985",
   "metadata": {},
   "outputs": [],
   "source": [
    "from pylab import rcParams # This will define a fixed size for all special charts.\n",
    "\n",
    "rcParams['figure.figsize'] = 18, 7"
   ]
  },
  {
   "cell_type": "code",
   "execution_count": 25,
   "id": "2964aedf",
   "metadata": {
    "scrolled": false
   },
   "outputs": [
    {
     "data": {
      "image/png": "[encoded data removed]",
      "text/plain": [
       "<Figure size 1800x700 with 4 Axes>"
      ]
     },
     "metadata": {},
     "output_type": "display_data"
    }
   ],
   "source": [
    "# Plot the separate components\n",
    "\n",
    "decomposition.plot()\n",
    "plt.show()"
   ]
  },
  {
   "cell_type": "markdown",
   "id": "8ff09c9d",
   "metadata": {},
   "source": [
    "Trend: Gradual increase from 1990 to 2000, platueau to 2011, a slight decrease to 2015 and a plateau to 2019\n",
    "\n",
    "Seasonality: none because there is no finer granularity like quarterly/monthly data\n",
    "\n",
    "Residual: none"
   ]
  },
  {
   "cell_type": "markdown",
   "id": "58408361",
   "metadata": {},
   "source": [
    "### 4. Testing for stationarity"
   ]
  },
  {
   "cell_type": "code",
   "execution_count": 26,
   "id": "9ebd87b9",
   "metadata": {
    "scrolled": true
   },
   "outputs": [
    {
     "name": "stdout",
     "output_type": "stream",
     "text": [
      "Dickey-Fuller Stationarity test:\n",
      "Test Statistic                 -1.829538\n",
      "p-value                         0.365899\n",
      "Number of Lags Used             7.000000\n",
      "Number of Observations Used    22.000000\n",
      "Critical Value (1%)            -3.769733\n",
      "Critical Value (5%)            -3.005426\n",
      "Critical Value (10%)           -2.642501\n",
      "dtype: float64\n"
     ]
    }
   ],
   "source": [
    "# The adfuller() function will import from the model from statsmodels for the test; however, running it will only return \n",
    "# an array of numbers. This is why you need to also define a function that prints the correct output from that array.\n",
    "\n",
    "from statsmodels.tsa.stattools import adfuller # Import the adfuller() function\n",
    "\n",
    "def dickey_fuller(timeseries): # Define the function\n",
    "    # Perform the Dickey-Fuller test:\n",
    "    print ('Dickey-Fuller Stationarity test:')\n",
    "    test = adfuller(timeseries, autolag='AIC')\n",
    "    result = pd.Series(test[0:4], index=['Test Statistic','p-value','Number of Lags Used','Number of Observations Used'])\n",
    "    for key,value in test[4].items():\n",
    "       result['Critical Value (%s)'%key] = value\n",
    "    print (result)\n",
    "\n",
    "# Apply the test using the function on the time series\n",
    "dickey_fuller(prev_dep_us2['Depressive'])"
   ]
  },
  {
   "cell_type": "markdown",
   "id": "ad4f403e",
   "metadata": {},
   "source": [
    "We want to reject the null hypothesis, or disprove the presense of unit root, to prove that the data is stationary, in order to proceed with the forecast. \n",
    "\n",
    "Because the test statistic is larger than the critical value (1, 5, and 10%) the null hypothesis cannot be rejected. This means there is a unit root in the data and the dataset is non-stationary. "
   ]
  },
  {
   "cell_type": "code",
   "execution_count": 27,
   "id": "87d0fbf2",
   "metadata": {
    "scrolled": false
   },
   "outputs": [
    {
     "data": {
      "image/png": "[encoded data removed]",
      "text/plain": [
       "<Figure size 1800x700 with 1 Axes>"
      ]
     },
     "metadata": {},
     "output_type": "display_data"
    }
   ],
   "source": [
    "# another way to test if data is stationary or non-stationary is by testing autocorrelations\n",
    "\n",
    "from statsmodels.graphics.tsaplots import plot_acf, plot_pacf # Here, you import the autocorrelation and partial correlation plots\n",
    "\n",
    "plot_acf(prev_dep_us2)\n",
    "plt.show()"
   ]
  },
  {
   "cell_type": "markdown",
   "id": "d870a928",
   "metadata": {},
   "source": [
    "\"The vertical lines represent the lags in the series, while the blue area represents the confidence interval. When lines go above the blue edge of the confidence interval, this means you have lags that are significantly correlated with each other and when you have many lags beyond this interval, you can deduce that your data is non-stationary. (Depressive) time-series has a couple of lags correlated with each other. This means there’s autocorrelated data and the set is likely non-stationary, which supports the result of the Dickey-Fuller test.\" ...although there are only three lags outside of the confidence interval?"
   ]
  },
  {
   "cell_type": "markdown",
   "id": "610feafc",
   "metadata": {},
   "source": [
    "### 5. Stationarizing the Data"
   ]
  },
  {
   "cell_type": "code",
   "execution_count": 28,
   "id": "cd091c7e",
   "metadata": {},
   "outputs": [],
   "source": [
    "prev_diff = prev_dep_us2 - prev_dep_us2.shift(1) # The df.shift(1) function turns the observation to t-1, making the whole thing t - (t -1)"
   ]
  },
  {
   "cell_type": "code",
   "execution_count": 29,
   "id": "dc785d09",
   "metadata": {},
   "outputs": [],
   "source": [
    "prev_diff.dropna(inplace = True) # Here, you remove the missing values that came about as a result of the differencing. \n",
    "# You need to remove these or you won't be able to run the Dickey-Fuller test."
   ]
  },
  {
   "cell_type": "code",
   "execution_count": 30,
   "id": "923affb5",
   "metadata": {},
   "outputs": [
    {
     "data": {
      "text/html": [
       "<div>\n",
       "<style scoped>\n",
       "    .dataframe tbody tr th:only-of-type {\n",
       "        vertical-align: middle;\n",
       "    }\n",
       "\n",
       "    .dataframe tbody tr th {\n",
       "        vertical-align: top;\n",
       "    }\n",
       "\n",
       "    .dataframe thead th {\n",
       "        text-align: right;\n",
       "    }\n",
       "</style>\n",
       "<table border=\"1\" class=\"dataframe\">\n",
       "  <thead>\n",
       "    <tr style=\"text-align: right;\">\n",
       "      <th></th>\n",
       "      <th>Depressive</th>\n",
       "    </tr>\n",
       "    <tr>\n",
       "      <th>Year</th>\n",
       "      <th></th>\n",
       "    </tr>\n",
       "  </thead>\n",
       "  <tbody>\n",
       "    <tr>\n",
       "      <th>1991-01-01</th>\n",
       "      <td>0.1279</td>\n",
       "    </tr>\n",
       "    <tr>\n",
       "      <th>1992-01-01</th>\n",
       "      <td>0.1266</td>\n",
       "    </tr>\n",
       "    <tr>\n",
       "      <th>1993-01-01</th>\n",
       "      <td>0.1208</td>\n",
       "    </tr>\n",
       "    <tr>\n",
       "      <th>1994-01-01</th>\n",
       "      <td>0.1104</td>\n",
       "    </tr>\n",
       "    <tr>\n",
       "      <th>1995-01-01</th>\n",
       "      <td>0.0955</td>\n",
       "    </tr>\n",
       "  </tbody>\n",
       "</table>\n",
       "</div>"
      ],
      "text/plain": [
       "            Depressive\n",
       "Year                  \n",
       "1991-01-01      0.1279\n",
       "1992-01-01      0.1266\n",
       "1993-01-01      0.1208\n",
       "1994-01-01      0.1104\n",
       "1995-01-01      0.0955"
      ]
     },
     "execution_count": 30,
     "metadata": {},
     "output_type": "execute_result"
    }
   ],
   "source": [
    "prev_diff.head()"
   ]
  },
  {
   "cell_type": "code",
   "execution_count": 31,
   "id": "c4be0af9",
   "metadata": {},
   "outputs": [
    {
     "data": {
      "text/plain": [
       "Index(['Depressive'], dtype='object')"
      ]
     },
     "execution_count": 31,
     "metadata": {},
     "output_type": "execute_result"
    }
   ],
   "source": [
    "prev_diff.columns"
   ]
  },
  {
   "cell_type": "code",
   "execution_count": 32,
   "id": "c2e06de9",
   "metadata": {},
   "outputs": [
    {
     "data": {
      "text/plain": [
       "[<matplotlib.lines.Line2D at 0x21b6d14db20>]"
      ]
     },
     "execution_count": 32,
     "metadata": {},
     "output_type": "execute_result"
    },
    {
     "data": {
      "image/png": "[encoded data removed]",
      "text/plain": [
       "<Figure size 1500x500 with 1 Axes>"
      ]
     },
     "metadata": {},
     "output_type": "display_data"
    }
   ],
   "source": [
    "# seeing what the differencing did to the time-series curve\n",
    "\n",
    "plt.figure(figsize=(15,5), dpi=100)\n",
    "plt.plot(prev_diff)"
   ]
  },
  {
   "cell_type": "code",
   "execution_count": 33,
   "id": "19a2b2fa",
   "metadata": {
    "scrolled": true
   },
   "outputs": [
    {
     "name": "stdout",
     "output_type": "stream",
     "text": [
      "Dickey-Fuller Stationarity test:\n",
      "Test Statistic                 -3.098162\n",
      "p-value                         0.026690\n",
      "Number of Lags Used             6.000000\n",
      "Number of Observations Used    22.000000\n",
      "Critical Value (1%)            -3.769733\n",
      "Critical Value (5%)            -3.005426\n",
      "Critical Value (10%)           -2.642501\n",
      "dtype: float64\n"
     ]
    }
   ],
   "source": [
    "dickey_fuller(prev_diff)"
   ]
  },
  {
   "cell_type": "code",
   "execution_count": 34,
   "id": "270412fe",
   "metadata": {},
   "outputs": [
    {
     "data": {
      "image/png": "[encoded data removed]",
      "text/plain": [
       "<Figure size 1800x700 with 1 Axes>"
      ]
     },
     "metadata": {},
     "output_type": "display_data"
    }
   ],
   "source": [
    "plot_acf(prev_diff)\n",
    "plt.show()"
   ]
  },
  {
   "cell_type": "markdown",
   "id": "b85945b5",
   "metadata": {},
   "source": [
    "Differencing made the test statistic smaller than the 5% and 10% critical value (still larger than 1%) but the autocorrelation looks identical, with the same three lags outside of the confidence interval. "
   ]
  }
 ],
 "metadata": {
  "kernelspec": {
   "display_name": "Python 3 (ipykernel)",
   "language": "python",
   "name": "python3"
  },
  "language_info": {
   "codemirror_mode": {
    "name": "ipython",
    "version": 3
   },
   "file_extension": ".py",
   "mimetype": "text/x-python",
   "name": "python",
   "nbconvert_exporter": "python",
   "pygments_lexer": "ipython3",
   "version": "3.9.16"
  }
 },
 "nbformat": 4,
 "nbformat_minor": 5
}
