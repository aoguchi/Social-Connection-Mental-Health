{
 "cells": [
  {
   "cell_type": "markdown",
   "id": "07e2bfa5",
   "metadata": {},
   "source": [
    "### 1. Importing Libraries & Data"
   ]
  },
  {
   "cell_type": "code",
   "execution_count": 1,
   "id": "72e7f6a1",
   "metadata": {},
   "outputs": [],
   "source": [
    "import pandas as pd\n",
    "import numpy as np\n",
    "import seaborn as sns\n",
    "import matplotlib\n",
    "import matplotlib.pyplot as plt\n",
    "import os\n",
    "import sklearn\n",
    "from sklearn.model_selection import train_test_split \n",
    "from sklearn.linear_model import LinearRegression\n",
    "from sklearn.metrics import mean_squared_error, r2_score"
   ]
  },
  {
   "cell_type": "code",
   "execution_count": 2,
   "id": "5331579a",
   "metadata": {},
   "outputs": [],
   "source": [
    "# This option ensures that the graphs you create are displayed within the notebook without the need to \"call\" them specifically.\n",
    "\n",
    "%matplotlib inline"
   ]
  },
  {
   "cell_type": "code",
   "execution_count": 4,
   "id": "0ecea7c5",
   "metadata": {},
   "outputs": [],
   "source": [
    "# import datasets\n",
    "\n",
    "# create path for dataset \n",
    "path = r'C:\\Users\\pears\\Desktop\\CF\\Achievement 6\\datasets'\n",
    "\n",
    "# create filepaths\n",
    "filepath = os.path.join(path, '.pkl', 'all_merge_numbers2.pkl')\n",
    "\n",
    "# assign df name\n",
    "df = pd.read_pickle(filepath)"
   ]
  },
  {
   "cell_type": "markdown",
   "id": "2d0b2d09",
   "metadata": {},
   "source": [
    "### 2. Data Cleaning"
   ]
  },
  {
   "cell_type": "code",
   "execution_count": 6,
   "id": "0add578e",
   "metadata": {},
   "outputs": [],
   "source": [
    "# remove column limit of output \n",
    "pd.options.display.max_columns = None\n",
    "\n",
    "# remove row limit of output \n",
    "pd.options.display.max_rows = None"
   ]
  },
  {
   "cell_type": "code",
   "execution_count": 9,
   "id": "b904fa82",
   "metadata": {},
   "outputs": [
    {
     "data": {
      "text/html": [
       "<div>\n",
       "<style scoped>\n",
       "    .dataframe tbody tr th:only-of-type {\n",
       "        vertical-align: middle;\n",
       "    }\n",
       "\n",
       "    .dataframe tbody tr th {\n",
       "        vertical-align: top;\n",
       "    }\n",
       "\n",
       "    .dataframe thead th {\n",
       "        text-align: right;\n",
       "    }\n",
       "</style>\n",
       "<table border=\"1\" class=\"dataframe\">\n",
       "  <thead>\n",
       "    <tr style=\"text-align: right;\">\n",
       "      <th></th>\n",
       "      <th>Entity</th>\n",
       "      <th>Code</th>\n",
       "      <th>Continent</th>\n",
       "      <th>Region</th>\n",
       "      <th>Schizophrenia</th>\n",
       "      <th>Bipolar</th>\n",
       "      <th>Eating</th>\n",
       "      <th>Anxiety</th>\n",
       "      <th>Depressive</th>\n",
       "      <th>Average_ALL</th>\n",
       "      <th>GDPpc</th>\n",
       "      <th>AHDI</th>\n",
       "      <th>Income_group</th>\n",
       "      <th>Legis</th>\n",
       "      <th>Policy</th>\n",
       "      <th>%Invest</th>\n",
       "      <th>F/F_have_been_A/D_YES</th>\n",
       "      <th>Very_comfortable_speaking_about_A/D_with_F/F_YES</th>\n",
       "      <th>Verycomfortable_vs_Havebeen</th>\n",
       "      <th>talked_to_F/F</th>\n",
       "      <th>spent_time_in_nature_outdoors</th>\n",
       "      <th>improved_healthy_lifestyle_behaviors</th>\n",
       "      <th>made_change_to_personal_relationships</th>\n",
       "      <th>made_change_to_work_situation</th>\n",
       "      <th>took_prescribed_medication</th>\n",
       "      <th>talked_to_mental_health_professional</th>\n",
       "      <th>engaged_in_religious_spiritual_activities</th>\n",
       "      <th>Life_ladder</th>\n",
       "      <th>Social_support</th>\n",
       "      <th>Healthy_life_expectancy_at_birth</th>\n",
       "      <th>Freedom_to_make_life_choices</th>\n",
       "      <th>Perceptions_of_corruption</th>\n",
       "      <th>Positive_affect</th>\n",
       "      <th>Negative_affect</th>\n",
       "    </tr>\n",
       "  </thead>\n",
       "  <tbody>\n",
       "    <tr>\n",
       "      <th>0</th>\n",
       "      <td>Afghanistan</td>\n",
       "      <td>AFG</td>\n",
       "      <td>Asia</td>\n",
       "      <td>Southern Asia</td>\n",
       "      <td>0.2260</td>\n",
       "      <td>0.7260</td>\n",
       "      <td>0.1218</td>\n",
       "      <td>5.0337</td>\n",
       "      <td>5.1315</td>\n",
       "      <td>2.2478</td>\n",
       "      <td>1,934.56</td>\n",
       "      <td>0.1804</td>\n",
       "      <td>1.0</td>\n",
       "      <td>1.0</td>\n",
       "      <td>1.0</td>\n",
       "      <td>NaN</td>\n",
       "      <td>NaN</td>\n",
       "      <td>NaN</td>\n",
       "      <td>NaN</td>\n",
       "      <td>NaN</td>\n",
       "      <td>NaN</td>\n",
       "      <td>NaN</td>\n",
       "      <td>NaN</td>\n",
       "      <td>NaN</td>\n",
       "      <td>NaN</td>\n",
       "      <td>NaN</td>\n",
       "      <td>NaN</td>\n",
       "      <td>2.662</td>\n",
       "      <td>0.491</td>\n",
       "      <td>53.25</td>\n",
       "      <td>0.427</td>\n",
       "      <td>0.954</td>\n",
       "      <td>0.435</td>\n",
       "      <td>0.371</td>\n",
       "    </tr>\n",
       "    <tr>\n",
       "      <th>1</th>\n",
       "      <td>Albania</td>\n",
       "      <td>ALB</td>\n",
       "      <td>Europe</td>\n",
       "      <td>Southern Europe</td>\n",
       "      <td>0.3071</td>\n",
       "      <td>0.5790</td>\n",
       "      <td>0.1460</td>\n",
       "      <td>4.0993</td>\n",
       "      <td>2.6280</td>\n",
       "      <td>1.5519</td>\n",
       "      <td>11,104.17</td>\n",
       "      <td>0.5165</td>\n",
       "      <td>3.0</td>\n",
       "      <td>1.0</td>\n",
       "      <td>1.0</td>\n",
       "      <td>NaN</td>\n",
       "      <td>28.00</td>\n",
       "      <td>25.49</td>\n",
       "      <td>-0.09</td>\n",
       "      <td>86.52499</td>\n",
       "      <td>88.64183</td>\n",
       "      <td>67.71693</td>\n",
       "      <td>54.1925</td>\n",
       "      <td>39.66084</td>\n",
       "      <td>40.89743</td>\n",
       "      <td>34.49906</td>\n",
       "      <td>36.1776</td>\n",
       "      <td>4.640</td>\n",
       "      <td>0.638</td>\n",
       "      <td>69.05</td>\n",
       "      <td>0.750</td>\n",
       "      <td>0.876</td>\n",
       "      <td>0.547</td>\n",
       "      <td>0.334</td>\n",
       "    </tr>\n",
       "    <tr>\n",
       "      <th>2</th>\n",
       "      <td>Algeria</td>\n",
       "      <td>DZA</td>\n",
       "      <td>Africa</td>\n",
       "      <td>Northern Africa</td>\n",
       "      <td>0.2638</td>\n",
       "      <td>0.8008</td>\n",
       "      <td>0.2230</td>\n",
       "      <td>5.0529</td>\n",
       "      <td>4.3729</td>\n",
       "      <td>2.1427</td>\n",
       "      <td>14,228.03</td>\n",
       "      <td>0.3229</td>\n",
       "      <td>2.0</td>\n",
       "      <td>1.0</td>\n",
       "      <td>1.0</td>\n",
       "      <td>7.37</td>\n",
       "      <td>20.88</td>\n",
       "      <td>31.64</td>\n",
       "      <td>0.52</td>\n",
       "      <td>NaN</td>\n",
       "      <td>NaN</td>\n",
       "      <td>NaN</td>\n",
       "      <td>NaN</td>\n",
       "      <td>NaN</td>\n",
       "      <td>NaN</td>\n",
       "      <td>NaN</td>\n",
       "      <td>NaN</td>\n",
       "      <td>5.249</td>\n",
       "      <td>0.807</td>\n",
       "      <td>66.20</td>\n",
       "      <td>0.437</td>\n",
       "      <td>0.700</td>\n",
       "      <td>0.555</td>\n",
       "      <td>0.289</td>\n",
       "    </tr>\n",
       "    <tr>\n",
       "      <th>3</th>\n",
       "      <td>American Samoa</td>\n",
       "      <td>ASM</td>\n",
       "      <td>Oceania</td>\n",
       "      <td>Polynesia</td>\n",
       "      <td>0.3192</td>\n",
       "      <td>0.2943</td>\n",
       "      <td>0.1348</td>\n",
       "      <td>4.2545</td>\n",
       "      <td>2.7973</td>\n",
       "      <td>1.5600</td>\n",
       "      <td>NaN</td>\n",
       "      <td>NaN</td>\n",
       "      <td>4.0</td>\n",
       "      <td>NaN</td>\n",
       "      <td>NaN</td>\n",
       "      <td>NaN</td>\n",
       "      <td>NaN</td>\n",
       "      <td>NaN</td>\n",
       "      <td>NaN</td>\n",
       "      <td>NaN</td>\n",
       "      <td>NaN</td>\n",
       "      <td>NaN</td>\n",
       "      <td>NaN</td>\n",
       "      <td>NaN</td>\n",
       "      <td>NaN</td>\n",
       "      <td>NaN</td>\n",
       "      <td>NaN</td>\n",
       "      <td>NaN</td>\n",
       "      <td>NaN</td>\n",
       "      <td>NaN</td>\n",
       "      <td>NaN</td>\n",
       "      <td>NaN</td>\n",
       "      <td>NaN</td>\n",
       "      <td>NaN</td>\n",
       "    </tr>\n",
       "    <tr>\n",
       "      <th>4</th>\n",
       "      <td>Andorra</td>\n",
       "      <td>AND</td>\n",
       "      <td>Europe</td>\n",
       "      <td>Southern Europe</td>\n",
       "      <td>0.3157</td>\n",
       "      <td>1.0300</td>\n",
       "      <td>0.5739</td>\n",
       "      <td>6.0083</td>\n",
       "      <td>3.9744</td>\n",
       "      <td>2.3805</td>\n",
       "      <td>NaN</td>\n",
       "      <td>NaN</td>\n",
       "      <td>4.0</td>\n",
       "      <td>1.0</td>\n",
       "      <td>0.0</td>\n",
       "      <td>NaN</td>\n",
       "      <td>NaN</td>\n",
       "      <td>NaN</td>\n",
       "      <td>NaN</td>\n",
       "      <td>NaN</td>\n",
       "      <td>NaN</td>\n",
       "      <td>NaN</td>\n",
       "      <td>NaN</td>\n",
       "      <td>NaN</td>\n",
       "      <td>NaN</td>\n",
       "      <td>NaN</td>\n",
       "      <td>NaN</td>\n",
       "      <td>NaN</td>\n",
       "      <td>NaN</td>\n",
       "      <td>NaN</td>\n",
       "      <td>NaN</td>\n",
       "      <td>NaN</td>\n",
       "      <td>NaN</td>\n",
       "      <td>NaN</td>\n",
       "    </tr>\n",
       "  </tbody>\n",
       "</table>\n",
       "</div>"
      ],
      "text/plain": [
       "           Entity Code Continent           Region  Schizophrenia  Bipolar  \\\n",
       "0     Afghanistan  AFG      Asia    Southern Asia         0.2260   0.7260   \n",
       "1         Albania  ALB    Europe  Southern Europe         0.3071   0.5790   \n",
       "2         Algeria  DZA    Africa  Northern Africa         0.2638   0.8008   \n",
       "3  American Samoa  ASM   Oceania        Polynesia         0.3192   0.2943   \n",
       "4         Andorra  AND    Europe  Southern Europe         0.3157   1.0300   \n",
       "\n",
       "   Eating  Anxiety  Depressive  Average_ALL      GDPpc    AHDI  Income_group  \\\n",
       "0  0.1218   5.0337      5.1315       2.2478   1,934.56  0.1804           1.0   \n",
       "1  0.1460   4.0993      2.6280       1.5519  11,104.17  0.5165           3.0   \n",
       "2  0.2230   5.0529      4.3729       2.1427  14,228.03  0.3229           2.0   \n",
       "3  0.1348   4.2545      2.7973       1.5600        NaN     NaN           4.0   \n",
       "4  0.5739   6.0083      3.9744       2.3805        NaN     NaN           4.0   \n",
       "\n",
       "   Legis  Policy  %Invest  F/F_have_been_A/D_YES  \\\n",
       "0    1.0     1.0      NaN                    NaN   \n",
       "1    1.0     1.0      NaN                  28.00   \n",
       "2    1.0     1.0     7.37                  20.88   \n",
       "3    NaN     NaN      NaN                    NaN   \n",
       "4    1.0     0.0      NaN                    NaN   \n",
       "\n",
       "   Very_comfortable_speaking_about_A/D_with_F/F_YES  \\\n",
       "0                                               NaN   \n",
       "1                                             25.49   \n",
       "2                                             31.64   \n",
       "3                                               NaN   \n",
       "4                                               NaN   \n",
       "\n",
       "   Verycomfortable_vs_Havebeen  talked_to_F/F  spent_time_in_nature_outdoors  \\\n",
       "0                          NaN            NaN                            NaN   \n",
       "1                        -0.09       86.52499                       88.64183   \n",
       "2                         0.52            NaN                            NaN   \n",
       "3                          NaN            NaN                            NaN   \n",
       "4                          NaN            NaN                            NaN   \n",
       "\n",
       "   improved_healthy_lifestyle_behaviors  \\\n",
       "0                                   NaN   \n",
       "1                              67.71693   \n",
       "2                                   NaN   \n",
       "3                                   NaN   \n",
       "4                                   NaN   \n",
       "\n",
       "   made_change_to_personal_relationships  made_change_to_work_situation  \\\n",
       "0                                    NaN                            NaN   \n",
       "1                                54.1925                       39.66084   \n",
       "2                                    NaN                            NaN   \n",
       "3                                    NaN                            NaN   \n",
       "4                                    NaN                            NaN   \n",
       "\n",
       "   took_prescribed_medication  talked_to_mental_health_professional  \\\n",
       "0                         NaN                                   NaN   \n",
       "1                    40.89743                              34.49906   \n",
       "2                         NaN                                   NaN   \n",
       "3                         NaN                                   NaN   \n",
       "4                         NaN                                   NaN   \n",
       "\n",
       "   engaged_in_religious_spiritual_activities  Life_ladder  Social_support  \\\n",
       "0                                        NaN        2.662           0.491   \n",
       "1                                    36.1776        4.640           0.638   \n",
       "2                                        NaN        5.249           0.807   \n",
       "3                                        NaN          NaN             NaN   \n",
       "4                                        NaN          NaN             NaN   \n",
       "\n",
       "   Healthy_life_expectancy_at_birth  Freedom_to_make_life_choices  \\\n",
       "0                             53.25                         0.427   \n",
       "1                             69.05                         0.750   \n",
       "2                             66.20                         0.437   \n",
       "3                               NaN                           NaN   \n",
       "4                               NaN                           NaN   \n",
       "\n",
       "   Perceptions_of_corruption  Positive_affect  Negative_affect  \n",
       "0                      0.954            0.435            0.371  \n",
       "1                      0.876            0.547            0.334  \n",
       "2                      0.700            0.555            0.289  \n",
       "3                        NaN              NaN              NaN  \n",
       "4                        NaN              NaN              NaN  "
      ]
     },
     "execution_count": 9,
     "metadata": {},
     "output_type": "execute_result"
    }
   ],
   "source": [
    "df.head()"
   ]
  },
  {
   "cell_type": "code",
   "execution_count": 57,
   "id": "a821e637",
   "metadata": {},
   "outputs": [],
   "source": [
    "# choosing select columns for regression\n",
    "\n",
    "reg = df[['Entity', 'Anxiety', 'Depressive', 'Social_support',]]"
   ]
  },
  {
   "cell_type": "code",
   "execution_count": 58,
   "id": "a8c61092",
   "metadata": {},
   "outputs": [
    {
     "data": {
      "text/html": [
       "<div>\n",
       "<style scoped>\n",
       "    .dataframe tbody tr th:only-of-type {\n",
       "        vertical-align: middle;\n",
       "    }\n",
       "\n",
       "    .dataframe tbody tr th {\n",
       "        vertical-align: top;\n",
       "    }\n",
       "\n",
       "    .dataframe thead th {\n",
       "        text-align: right;\n",
       "    }\n",
       "</style>\n",
       "<table border=\"1\" class=\"dataframe\">\n",
       "  <thead>\n",
       "    <tr style=\"text-align: right;\">\n",
       "      <th></th>\n",
       "      <th>Entity</th>\n",
       "      <th>Anxiety</th>\n",
       "      <th>Depressive</th>\n",
       "      <th>Social_support</th>\n",
       "    </tr>\n",
       "  </thead>\n",
       "  <tbody>\n",
       "    <tr>\n",
       "      <th>0</th>\n",
       "      <td>Afghanistan</td>\n",
       "      <td>5.0337</td>\n",
       "      <td>5.1315</td>\n",
       "      <td>0.491</td>\n",
       "    </tr>\n",
       "    <tr>\n",
       "      <th>1</th>\n",
       "      <td>Albania</td>\n",
       "      <td>4.0993</td>\n",
       "      <td>2.6280</td>\n",
       "      <td>0.638</td>\n",
       "    </tr>\n",
       "    <tr>\n",
       "      <th>2</th>\n",
       "      <td>Algeria</td>\n",
       "      <td>5.0529</td>\n",
       "      <td>4.3729</td>\n",
       "      <td>0.807</td>\n",
       "    </tr>\n",
       "    <tr>\n",
       "      <th>3</th>\n",
       "      <td>American Samoa</td>\n",
       "      <td>4.2545</td>\n",
       "      <td>2.7973</td>\n",
       "      <td>NaN</td>\n",
       "    </tr>\n",
       "    <tr>\n",
       "      <th>4</th>\n",
       "      <td>Andorra</td>\n",
       "      <td>6.0083</td>\n",
       "      <td>3.9744</td>\n",
       "      <td>NaN</td>\n",
       "    </tr>\n",
       "  </tbody>\n",
       "</table>\n",
       "</div>"
      ],
      "text/plain": [
       "           Entity  Anxiety  Depressive  Social_support\n",
       "0     Afghanistan   5.0337      5.1315           0.491\n",
       "1         Albania   4.0993      2.6280           0.638\n",
       "2         Algeria   5.0529      4.3729           0.807\n",
       "3  American Samoa   4.2545      2.7973             NaN\n",
       "4         Andorra   6.0083      3.9744             NaN"
      ]
     },
     "execution_count": 58,
     "metadata": {},
     "output_type": "execute_result"
    }
   ],
   "source": [
    "reg.head()"
   ]
  },
  {
   "cell_type": "code",
   "execution_count": 59,
   "id": "4923cbda",
   "metadata": {},
   "outputs": [
    {
     "data": {
      "text/plain": [
       "(206, 4)"
      ]
     },
     "execution_count": 59,
     "metadata": {},
     "output_type": "execute_result"
    }
   ],
   "source": [
    "reg.shape"
   ]
  },
  {
   "cell_type": "code",
   "execution_count": 60,
   "id": "0219c11f",
   "metadata": {
    "scrolled": true
   },
   "outputs": [
    {
     "data": {
      "text/plain": [
       "Entity             0\n",
       "Anxiety            0\n",
       "Depressive         0\n",
       "Social_support    53\n",
       "dtype: int64"
      ]
     },
     "execution_count": 60,
     "metadata": {},
     "output_type": "execute_result"
    }
   ],
   "source": [
    "# checking for missing values\n",
    "\n",
    "reg.isnull().sum()"
   ]
  },
  {
   "cell_type": "code",
   "execution_count": 161,
   "id": "9d73fb60",
   "metadata": {
    "scrolled": true
   },
   "outputs": [
    {
     "name": "stderr",
     "output_type": "stream",
     "text": [
      "C:\\Users\\pears\\AppData\\Local\\Temp\\ipykernel_10680\\4110686053.py:3: SettingWithCopyWarning: \n",
      "A value is trying to be set on a copy of a slice from a DataFrame\n",
      "\n",
      "See the caveats in the documentation: https://pandas.pydata.org/pandas-docs/stable/user_guide/indexing.html#returning-a-view-versus-a-copy\n",
      "  reg.dropna(inplace = True)\n"
     ]
    }
   ],
   "source": [
    "# below, it said NaN values cannot be present for regressions so I came back up here to drop the NaN values\n",
    "\n",
    "reg.dropna(inplace = True)"
   ]
  },
  {
   "cell_type": "code",
   "execution_count": 62,
   "id": "54fe2997",
   "metadata": {},
   "outputs": [
    {
     "data": {
      "text/plain": [
       "Entity            0\n",
       "Anxiety           0\n",
       "Depressive        0\n",
       "Social_support    0\n",
       "dtype: int64"
      ]
     },
     "execution_count": 62,
     "metadata": {},
     "output_type": "execute_result"
    }
   ],
   "source": [
    "# checking for missing values\n",
    "\n",
    "reg.isnull().sum()"
   ]
  },
  {
   "cell_type": "code",
   "execution_count": 63,
   "id": "34d63584",
   "metadata": {},
   "outputs": [],
   "source": [
    "# checking for duplicates\n",
    "\n",
    "dups = reg.duplicated()"
   ]
  },
  {
   "cell_type": "code",
   "execution_count": 64,
   "id": "17bbfcc1",
   "metadata": {},
   "outputs": [
    {
     "data": {
      "text/plain": [
       "(153,)"
      ]
     },
     "execution_count": 64,
     "metadata": {},
     "output_type": "execute_result"
    }
   ],
   "source": [
    "dups.shape\n",
    "# no dups"
   ]
  },
  {
   "cell_type": "code",
   "execution_count": 65,
   "id": "0793a42e",
   "metadata": {},
   "outputs": [
    {
     "data": {
      "text/plain": [
       "<AxesSubplot: xlabel='Anxiety', ylabel='Count'>"
      ]
     },
     "execution_count": 65,
     "metadata": {},
     "output_type": "execute_result"
    },
    {
     "data": {
      "image/png": "[encoded data removed]",
      "text/plain": [
       "<Figure size 640x480 with 1 Axes>"
      ]
     },
     "metadata": {},
     "output_type": "display_data"
    }
   ],
   "source": [
    "# checking for extreme values\n",
    "# histogram of anxiety \n",
    "\n",
    "sns.histplot(reg['Anxiety'], bins=25, kde = True)"
   ]
  },
  {
   "cell_type": "code",
   "execution_count": 66,
   "id": "0fd456c5",
   "metadata": {},
   "outputs": [
    {
     "data": {
      "text/plain": [
       "<AxesSubplot: xlabel='Depressive', ylabel='Count'>"
      ]
     },
     "execution_count": 66,
     "metadata": {},
     "output_type": "execute_result"
    },
    {
     "data": {
      "image/png": "[encoded data removed]",
      "text/plain": [
       "<Figure size 640x480 with 1 Axes>"
      ]
     },
     "metadata": {},
     "output_type": "display_data"
    }
   ],
   "source": [
    "# checking for extreme values\n",
    "# histogram of depressive \n",
    "\n",
    "sns.histplot(reg['Depressive'], bins=25, kde = True)"
   ]
  },
  {
   "cell_type": "code",
   "execution_count": 162,
   "id": "8551d3fa",
   "metadata": {},
   "outputs": [
    {
     "data": {
      "text/plain": [
       "<AxesSubplot: xlabel='Social_support', ylabel='Count'>"
      ]
     },
     "execution_count": 162,
     "metadata": {},
     "output_type": "execute_result"
    },
    {
     "data": {
      "image/png": "[encoded data removed]",
      "text/plain": [
       "<Figure size 640x480 with 1 Axes>"
      ]
     },
     "metadata": {},
     "output_type": "display_data"
    }
   ],
   "source": [
    "# checking for extreme values\n",
    "# histogram of social_support\n",
    "\n",
    "sns.histplot(reg['Social_support'], bins=20, kde = True)"
   ]
  },
  {
   "cell_type": "markdown",
   "id": "07480f4d",
   "metadata": {},
   "source": [
    "### 3. Data Preparation for Regression"
   ]
  },
  {
   "cell_type": "markdown",
   "id": "d112bdda",
   "metadata": {},
   "source": [
    "HYPOTHESIS: \n",
    "\n",
    "- The higher the social support, the higher the prevalence of anxiety disorder.\n",
    "- The higher the social support, the lower the prevalence of depressive disorder."
   ]
  },
  {
   "cell_type": "markdown",
   "id": "2875ddb0",
   "metadata": {},
   "source": [
    "#### a. Anxiety Disorder"
   ]
  },
  {
   "cell_type": "code",
   "execution_count": 163,
   "id": "d0da5bdb",
   "metadata": {
    "scrolled": false
   },
   "outputs": [
    {
     "data": {
      "image/png": "[encoded data removed]",
      "text/plain": [
       "<Figure size 640x480 with 1 Axes>"
      ]
     },
     "metadata": {},
     "output_type": "display_data"
    }
   ],
   "source": [
    "# creating a scatterplot using matplotlib to see relationship\n",
    "\n",
    "reg.plot(x = 'Social_support', y='Anxiety',style='o') \n",
    "plt.title('Social Support vs Prevalence of Anxiety Disorder')  \n",
    "plt.xlabel('Social support')  \n",
    "plt.ylabel('Prevalence of anxiety disorder')  \n",
    "plt.show()"
   ]
  },
  {
   "cell_type": "code",
   "execution_count": 120,
   "id": "558afc71",
   "metadata": {},
   "outputs": [],
   "source": [
    "# reshaping the variables into NumPy arrays and putting them into separate objects\n",
    "\n",
    "X = reg['Social_support'].values.reshape(-1,1)\n",
    "y_anxiety = reg['Anxiety'].values.reshape(-1,1)"
   ]
  },
  {
   "cell_type": "code",
   "execution_count": 164,
   "id": "b27db926",
   "metadata": {},
   "outputs": [],
   "source": [
    "# splitting the data into training set and testing set\n",
    "\n",
    "X_train, X_test, y_anxiety_train, y_anxiety_test = train_test_split(X, y_anxiety, test_size=0.3, random_state=0)"
   ]
  },
  {
   "cell_type": "markdown",
   "id": "960d1a94",
   "metadata": {},
   "source": [
    "#### b. Depressive Disorder"
   ]
  },
  {
   "cell_type": "code",
   "execution_count": 115,
   "id": "f5342961",
   "metadata": {},
   "outputs": [
    {
     "data": {
      "image/png": "[encoded data removed]",
      "text/plain": [
       "<Figure size 640x480 with 1 Axes>"
      ]
     },
     "metadata": {},
     "output_type": "display_data"
    }
   ],
   "source": [
    "# creating a scatterplot using matplotlib to see relationship\n",
    "\n",
    "reg.plot(x = 'Social_support', y='Depressive',style='o') \n",
    "plt.title('Social Support vs Prevalence of Depressive Disorder')  \n",
    "plt.xlabel('Social support')  \n",
    "plt.ylabel('Prevalence of depressive disorder')  \n",
    "plt.show()"
   ]
  },
  {
   "cell_type": "code",
   "execution_count": 136,
   "id": "5cd3f307",
   "metadata": {},
   "outputs": [],
   "source": [
    "# reshaping the variables into NumPy arrays and putting them into separate objects\n",
    "\n",
    "X = reg['Social_support'].values.reshape(-1,1)\n",
    "y_depressive = reg['Depressive'].values.reshape(-1,1)"
   ]
  },
  {
   "cell_type": "code",
   "execution_count": 137,
   "id": "5bb0fb52",
   "metadata": {},
   "outputs": [],
   "source": [
    "# splitting the data into training set and testing set\n",
    "\n",
    "X_train, X_test, y_depressive_train, y_depressive_test = train_test_split(X, y_depressive, test_size=0.3, random_state=0)"
   ]
  },
  {
   "cell_type": "markdown",
   "id": "7988da5e",
   "metadata": {},
   "source": [
    "### 4. Regression Analysis"
   ]
  },
  {
   "cell_type": "markdown",
   "id": "ae9e7bcb",
   "metadata": {},
   "source": [
    "#### a. Anxiety Disorder"
   ]
  },
  {
   "cell_type": "code",
   "execution_count": 138,
   "id": "db36643d",
   "metadata": {},
   "outputs": [],
   "source": [
    "# creating a regression object\n",
    "\n",
    "regression_anxiety = LinearRegression()"
   ]
  },
  {
   "cell_type": "code",
   "execution_count": 139,
   "id": "6aeeec11",
   "metadata": {},
   "outputs": [
    {
     "data": {
      "text/html": [
       "<style>#sk-container-id-7 {color: black;}#sk-container-id-7 pre{padding: 0;}#sk-container-id-7 div.sk-toggleable {background-color: white;}#sk-container-id-7 label.sk-toggleable__label {cursor: pointer;display: block;width: 100%;margin-bottom: 0;padding: 0.3em;box-sizing: border-box;text-align: center;}#sk-container-id-7 label.sk-toggleable__label-arrow:before {content: \"▸\";float: left;margin-right: 0.25em;color: #696969;}#sk-container-id-7 label.sk-toggleable__label-arrow:hover:before {color: black;}#sk-container-id-7 div.sk-estimator:hover label.sk-toggleable__label-arrow:before {color: black;}#sk-container-id-7 div.sk-toggleable__content {max-height: 0;max-width: 0;overflow: hidden;text-align: left;background-color: #f0f8ff;}#sk-container-id-7 div.sk-toggleable__content pre {margin: 0.2em;color: black;border-radius: 0.25em;background-color: #f0f8ff;}#sk-container-id-7 input.sk-toggleable__control:checked~div.sk-toggleable__content {max-height: 200px;max-width: 100%;overflow: auto;}#sk-container-id-7 input.sk-toggleable__control:checked~label.sk-toggleable__label-arrow:before {content: \"▾\";}#sk-container-id-7 div.sk-estimator input.sk-toggleable__control:checked~label.sk-toggleable__label {background-color: #d4ebff;}#sk-container-id-7 div.sk-label input.sk-toggleable__control:checked~label.sk-toggleable__label {background-color: #d4ebff;}#sk-container-id-7 input.sk-hidden--visually {border: 0;clip: rect(1px 1px 1px 1px);clip: rect(1px, 1px, 1px, 1px);height: 1px;margin: -1px;overflow: hidden;padding: 0;position: absolute;width: 1px;}#sk-container-id-7 div.sk-estimator {font-family: monospace;background-color: #f0f8ff;border: 1px dotted black;border-radius: 0.25em;box-sizing: border-box;margin-bottom: 0.5em;}#sk-container-id-7 div.sk-estimator:hover {background-color: #d4ebff;}#sk-container-id-7 div.sk-parallel-item::after {content: \"\";width: 100%;border-bottom: 1px solid gray;flex-grow: 1;}#sk-container-id-7 div.sk-label:hover label.sk-toggleable__label {background-color: #d4ebff;}#sk-container-id-7 div.sk-serial::before {content: \"\";position: absolute;border-left: 1px solid gray;box-sizing: border-box;top: 0;bottom: 0;left: 50%;z-index: 0;}#sk-container-id-7 div.sk-serial {display: flex;flex-direction: column;align-items: center;background-color: white;padding-right: 0.2em;padding-left: 0.2em;position: relative;}#sk-container-id-7 div.sk-item {position: relative;z-index: 1;}#sk-container-id-7 div.sk-parallel {display: flex;align-items: stretch;justify-content: center;background-color: white;position: relative;}#sk-container-id-7 div.sk-item::before, #sk-container-id-7 div.sk-parallel-item::before {content: \"\";position: absolute;border-left: 1px solid gray;box-sizing: border-box;top: 0;bottom: 0;left: 50%;z-index: -1;}#sk-container-id-7 div.sk-parallel-item {display: flex;flex-direction: column;z-index: 1;position: relative;background-color: white;}#sk-container-id-7 div.sk-parallel-item:first-child::after {align-self: flex-end;width: 50%;}#sk-container-id-7 div.sk-parallel-item:last-child::after {align-self: flex-start;width: 50%;}#sk-container-id-7 div.sk-parallel-item:only-child::after {width: 0;}#sk-container-id-7 div.sk-dashed-wrapped {border: 1px dashed gray;margin: 0 0.4em 0.5em 0.4em;box-sizing: border-box;padding-bottom: 0.4em;background-color: white;}#sk-container-id-7 div.sk-label label {font-family: monospace;font-weight: bold;display: inline-block;line-height: 1.2em;}#sk-container-id-7 div.sk-label-container {text-align: center;}#sk-container-id-7 div.sk-container {/* jupyter's `normalize.less` sets `[hidden] { display: none; }` but bootstrap.min.css set `[hidden] { display: none !important; }` so we also need the `!important` here to be able to override the default hidden behavior on the sphinx rendered scikit-learn.org. See: https://github.com/scikit-learn/scikit-learn/issues/21755 */display: inline-block !important;position: relative;}#sk-container-id-7 div.sk-text-repr-fallback {display: none;}</style><div id=\"sk-container-id-7\" class=\"sk-top-container\"><div class=\"sk-text-repr-fallback\"><pre>LinearRegression()</pre><b>In a Jupyter environment, please rerun this cell to show the HTML representation or trust the notebook. <br />On GitHub, the HTML representation is unable to render, please try loading this page with nbviewer.org.</b></div><div class=\"sk-container\" hidden><div class=\"sk-item\"><div class=\"sk-estimator sk-toggleable\"><input class=\"sk-toggleable__control sk-hidden--visually\" id=\"sk-estimator-id-7\" type=\"checkbox\" checked><label for=\"sk-estimator-id-7\" class=\"sk-toggleable__label sk-toggleable__label-arrow\">LinearRegression</label><div class=\"sk-toggleable__content\"><pre>LinearRegression()</pre></div></div></div></div></div>"
      ],
      "text/plain": [
       "LinearRegression()"
      ]
     },
     "execution_count": 139,
     "metadata": {},
     "output_type": "execute_result"
    }
   ],
   "source": [
    "# fitting the regression object onto the training set\n",
    "\n",
    "regression_anxiety.fit(X_train, y_anxiety_train)"
   ]
  },
  {
   "cell_type": "code",
   "execution_count": 140,
   "id": "b8bf35b6",
   "metadata": {},
   "outputs": [],
   "source": [
    "# predicting the values of y using X\n",
    "\n",
    "y_anxiety_predicted = regression_anxiety.predict(X_test)"
   ]
  },
  {
   "cell_type": "code",
   "execution_count": 166,
   "id": "fb7c4da3",
   "metadata": {},
   "outputs": [
    {
     "data": {
      "image/png": "[encoded data removed]",
      "text/plain": [
       "<Figure size 640x480 with 1 Axes>"
      ]
     },
     "metadata": {},
     "output_type": "display_data"
    }
   ],
   "source": [
    "# creating a scatterplot that shows the regression line on the test set\n",
    "\n",
    "plot_test = plt\n",
    "plot_test.scatter(X_test, y_anxiety_test, color='gray', s = 10)\n",
    "plot_test.plot(X_test, y_anxiety_predicted, color='red', linewidth =1)\n",
    "plot_test.title('Social Support vs Prevalence of Anxiety Disorder (on test set)')\n",
    "plot_test.xlabel('Level of social support')\n",
    "plot_test.ylabel('Prevalence of anxiety disorder')\n",
    "plot_test.show()"
   ]
  },
  {
   "cell_type": "code",
   "execution_count": 142,
   "id": "d3da22ab",
   "metadata": {},
   "outputs": [],
   "source": [
    "# creating objects that contain the model summary statistics\n",
    "\n",
    "rmse_anxiety = mean_squared_error(y_test, y_anxiety_predicted)\n",
    "r2_anxiety = r2_score(y_test, y_anxiety_predicted) "
   ]
  },
  {
   "cell_type": "code",
   "execution_count": 153,
   "id": "a27114f2",
   "metadata": {},
   "outputs": [
    {
     "name": "stdout",
     "output_type": "stream",
     "text": [
      "Slope: [[1.93456081]]\n",
      "Mean squared error:  1.89766449905987\n",
      "R2 score:  0.06902149280153613\n"
     ]
    }
   ],
   "source": [
    "# printing the model summary statistics to evaluate performance of model\n",
    "\n",
    "print('Slope:' ,regression_anxiety.coef_)\n",
    "print('Mean squared error: ', rmse_anxiety)\n",
    "print('R2 score: ', r2_anxiety)"
   ]
  },
  {
   "cell_type": "code",
   "execution_count": 135,
   "id": "9de8a340",
   "metadata": {
    "scrolled": false
   },
   "outputs": [
    {
     "data": {
      "text/html": [
       "<div>\n",
       "<style scoped>\n",
       "    .dataframe tbody tr th:only-of-type {\n",
       "        vertical-align: middle;\n",
       "    }\n",
       "\n",
       "    .dataframe tbody tr th {\n",
       "        vertical-align: top;\n",
       "    }\n",
       "\n",
       "    .dataframe thead th {\n",
       "        text-align: right;\n",
       "    }\n",
       "</style>\n",
       "<table border=\"1\" class=\"dataframe\">\n",
       "  <thead>\n",
       "    <tr style=\"text-align: right;\">\n",
       "      <th></th>\n",
       "      <th>Actual</th>\n",
       "      <th>Predicted</th>\n",
       "    </tr>\n",
       "  </thead>\n",
       "  <tbody>\n",
       "    <tr>\n",
       "      <th>0</th>\n",
       "      <td>3.4293</td>\n",
       "      <td>4.072621</td>\n",
       "    </tr>\n",
       "    <tr>\n",
       "      <th>1</th>\n",
       "      <td>3.5727</td>\n",
       "      <td>4.490487</td>\n",
       "    </tr>\n",
       "    <tr>\n",
       "      <th>2</th>\n",
       "      <td>5.6047</td>\n",
       "      <td>4.138397</td>\n",
       "    </tr>\n",
       "    <tr>\n",
       "      <th>3</th>\n",
       "      <td>5.8543</td>\n",
       "      <td>4.387955</td>\n",
       "    </tr>\n",
       "    <tr>\n",
       "      <th>4</th>\n",
       "      <td>4.7736</td>\n",
       "      <td>4.600757</td>\n",
       "    </tr>\n",
       "    <tr>\n",
       "      <th>5</th>\n",
       "      <td>2.6425</td>\n",
       "      <td>4.316376</td>\n",
       "    </tr>\n",
       "    <tr>\n",
       "      <th>6</th>\n",
       "      <td>3.6230</td>\n",
       "      <td>4.300900</td>\n",
       "    </tr>\n",
       "    <tr>\n",
       "      <th>7</th>\n",
       "      <td>3.0341</td>\n",
       "      <td>4.211910</td>\n",
       "    </tr>\n",
       "    <tr>\n",
       "      <th>8</th>\n",
       "      <td>3.5130</td>\n",
       "      <td>4.362806</td>\n",
       "    </tr>\n",
       "    <tr>\n",
       "      <th>9</th>\n",
       "      <td>4.4574</td>\n",
       "      <td>4.391824</td>\n",
       "    </tr>\n",
       "    <tr>\n",
       "      <th>10</th>\n",
       "      <td>2.8218</td>\n",
       "      <td>4.300900</td>\n",
       "    </tr>\n",
       "    <tr>\n",
       "      <th>11</th>\n",
       "      <td>4.0948</td>\n",
       "      <td>4.331853</td>\n",
       "    </tr>\n",
       "    <tr>\n",
       "      <th>12</th>\n",
       "      <td>3.9574</td>\n",
       "      <td>3.867558</td>\n",
       "    </tr>\n",
       "    <tr>\n",
       "      <th>13</th>\n",
       "      <td>4.7587</td>\n",
       "      <td>4.488552</td>\n",
       "    </tr>\n",
       "    <tr>\n",
       "      <th>14</th>\n",
       "      <td>3.6102</td>\n",
       "      <td>4.128724</td>\n",
       "    </tr>\n",
       "    <tr>\n",
       "      <th>15</th>\n",
       "      <td>5.5134</td>\n",
       "      <td>4.436319</td>\n",
       "    </tr>\n",
       "    <tr>\n",
       "      <th>16</th>\n",
       "      <td>4.4673</td>\n",
       "      <td>4.577542</td>\n",
       "    </tr>\n",
       "    <tr>\n",
       "      <th>17</th>\n",
       "      <td>8.7912</td>\n",
       "      <td>4.534982</td>\n",
       "    </tr>\n",
       "    <tr>\n",
       "      <th>18</th>\n",
       "      <td>5.2302</td>\n",
       "      <td>4.370544</td>\n",
       "    </tr>\n",
       "    <tr>\n",
       "      <th>19</th>\n",
       "      <td>2.9703</td>\n",
       "      <td>4.529178</td>\n",
       "    </tr>\n",
       "    <tr>\n",
       "      <th>20</th>\n",
       "      <td>4.7391</td>\n",
       "      <td>4.045538</td>\n",
       "    </tr>\n",
       "    <tr>\n",
       "      <th>21</th>\n",
       "      <td>5.1520</td>\n",
       "      <td>4.488552</td>\n",
       "    </tr>\n",
       "    <tr>\n",
       "      <th>22</th>\n",
       "      <td>3.6550</td>\n",
       "      <td>3.776634</td>\n",
       "    </tr>\n",
       "    <tr>\n",
       "      <th>23</th>\n",
       "      <td>4.5771</td>\n",
       "      <td>4.585280</td>\n",
       "    </tr>\n",
       "    <tr>\n",
       "      <th>24</th>\n",
       "      <td>3.8550</td>\n",
       "      <td>4.090033</td>\n",
       "    </tr>\n",
       "    <tr>\n",
       "      <th>25</th>\n",
       "      <td>8.0374</td>\n",
       "      <td>4.641382</td>\n",
       "    </tr>\n",
       "    <tr>\n",
       "      <th>26</th>\n",
       "      <td>4.0817</td>\n",
       "      <td>4.565934</td>\n",
       "    </tr>\n",
       "    <tr>\n",
       "      <th>27</th>\n",
       "      <td>3.0397</td>\n",
       "      <td>3.968155</td>\n",
       "    </tr>\n",
       "    <tr>\n",
       "      <th>28</th>\n",
       "      <td>3.9334</td>\n",
       "      <td>4.498225</td>\n",
       "    </tr>\n",
       "    <tr>\n",
       "      <th>29</th>\n",
       "      <td>6.8055</td>\n",
       "      <td>4.519505</td>\n",
       "    </tr>\n",
       "  </tbody>\n",
       "</table>\n",
       "</div>"
      ],
      "text/plain": [
       "    Actual  Predicted\n",
       "0   3.4293   4.072621\n",
       "1   3.5727   4.490487\n",
       "2   5.6047   4.138397\n",
       "3   5.8543   4.387955\n",
       "4   4.7736   4.600757\n",
       "5   2.6425   4.316376\n",
       "6   3.6230   4.300900\n",
       "7   3.0341   4.211910\n",
       "8   3.5130   4.362806\n",
       "9   4.4574   4.391824\n",
       "10  2.8218   4.300900\n",
       "11  4.0948   4.331853\n",
       "12  3.9574   3.867558\n",
       "13  4.7587   4.488552\n",
       "14  3.6102   4.128724\n",
       "15  5.5134   4.436319\n",
       "16  4.4673   4.577542\n",
       "17  8.7912   4.534982\n",
       "18  5.2302   4.370544\n",
       "19  2.9703   4.529178\n",
       "20  4.7391   4.045538\n",
       "21  5.1520   4.488552\n",
       "22  3.6550   3.776634\n",
       "23  4.5771   4.585280\n",
       "24  3.8550   4.090033\n",
       "25  8.0374   4.641382\n",
       "26  4.0817   4.565934\n",
       "27  3.0397   3.968155\n",
       "28  3.9334   4.498225\n",
       "29  6.8055   4.519505"
      ]
     },
     "execution_count": 135,
     "metadata": {},
     "output_type": "execute_result"
    }
   ],
   "source": [
    "# creating a dataframe comparing actual and predicted values of y\n",
    "\n",
    "data = pd.DataFrame({'Actual': y_anxiety_test.flatten(), 'Predicted': y_anxiety_predicted.flatten()})\n",
    "data.head(30)"
   ]
  },
  {
   "cell_type": "markdown",
   "id": "bd4273fa",
   "metadata": {},
   "source": [
    "#### b. Depressive Disorder"
   ]
  },
  {
   "cell_type": "code",
   "execution_count": 144,
   "id": "20e1ed93",
   "metadata": {},
   "outputs": [],
   "source": [
    "# creating a regression object\n",
    "\n",
    "regression_depressive = LinearRegression()"
   ]
  },
  {
   "cell_type": "code",
   "execution_count": 146,
   "id": "0df2c858",
   "metadata": {},
   "outputs": [
    {
     "data": {
      "text/html": [
       "<style>#sk-container-id-9 {color: black;}#sk-container-id-9 pre{padding: 0;}#sk-container-id-9 div.sk-toggleable {background-color: white;}#sk-container-id-9 label.sk-toggleable__label {cursor: pointer;display: block;width: 100%;margin-bottom: 0;padding: 0.3em;box-sizing: border-box;text-align: center;}#sk-container-id-9 label.sk-toggleable__label-arrow:before {content: \"▸\";float: left;margin-right: 0.25em;color: #696969;}#sk-container-id-9 label.sk-toggleable__label-arrow:hover:before {color: black;}#sk-container-id-9 div.sk-estimator:hover label.sk-toggleable__label-arrow:before {color: black;}#sk-container-id-9 div.sk-toggleable__content {max-height: 0;max-width: 0;overflow: hidden;text-align: left;background-color: #f0f8ff;}#sk-container-id-9 div.sk-toggleable__content pre {margin: 0.2em;color: black;border-radius: 0.25em;background-color: #f0f8ff;}#sk-container-id-9 input.sk-toggleable__control:checked~div.sk-toggleable__content {max-height: 200px;max-width: 100%;overflow: auto;}#sk-container-id-9 input.sk-toggleable__control:checked~label.sk-toggleable__label-arrow:before {content: \"▾\";}#sk-container-id-9 div.sk-estimator input.sk-toggleable__control:checked~label.sk-toggleable__label {background-color: #d4ebff;}#sk-container-id-9 div.sk-label input.sk-toggleable__control:checked~label.sk-toggleable__label {background-color: #d4ebff;}#sk-container-id-9 input.sk-hidden--visually {border: 0;clip: rect(1px 1px 1px 1px);clip: rect(1px, 1px, 1px, 1px);height: 1px;margin: -1px;overflow: hidden;padding: 0;position: absolute;width: 1px;}#sk-container-id-9 div.sk-estimator {font-family: monospace;background-color: #f0f8ff;border: 1px dotted black;border-radius: 0.25em;box-sizing: border-box;margin-bottom: 0.5em;}#sk-container-id-9 div.sk-estimator:hover {background-color: #d4ebff;}#sk-container-id-9 div.sk-parallel-item::after {content: \"\";width: 100%;border-bottom: 1px solid gray;flex-grow: 1;}#sk-container-id-9 div.sk-label:hover label.sk-toggleable__label {background-color: #d4ebff;}#sk-container-id-9 div.sk-serial::before {content: \"\";position: absolute;border-left: 1px solid gray;box-sizing: border-box;top: 0;bottom: 0;left: 50%;z-index: 0;}#sk-container-id-9 div.sk-serial {display: flex;flex-direction: column;align-items: center;background-color: white;padding-right: 0.2em;padding-left: 0.2em;position: relative;}#sk-container-id-9 div.sk-item {position: relative;z-index: 1;}#sk-container-id-9 div.sk-parallel {display: flex;align-items: stretch;justify-content: center;background-color: white;position: relative;}#sk-container-id-9 div.sk-item::before, #sk-container-id-9 div.sk-parallel-item::before {content: \"\";position: absolute;border-left: 1px solid gray;box-sizing: border-box;top: 0;bottom: 0;left: 50%;z-index: -1;}#sk-container-id-9 div.sk-parallel-item {display: flex;flex-direction: column;z-index: 1;position: relative;background-color: white;}#sk-container-id-9 div.sk-parallel-item:first-child::after {align-self: flex-end;width: 50%;}#sk-container-id-9 div.sk-parallel-item:last-child::after {align-self: flex-start;width: 50%;}#sk-container-id-9 div.sk-parallel-item:only-child::after {width: 0;}#sk-container-id-9 div.sk-dashed-wrapped {border: 1px dashed gray;margin: 0 0.4em 0.5em 0.4em;box-sizing: border-box;padding-bottom: 0.4em;background-color: white;}#sk-container-id-9 div.sk-label label {font-family: monospace;font-weight: bold;display: inline-block;line-height: 1.2em;}#sk-container-id-9 div.sk-label-container {text-align: center;}#sk-container-id-9 div.sk-container {/* jupyter's `normalize.less` sets `[hidden] { display: none; }` but bootstrap.min.css set `[hidden] { display: none !important; }` so we also need the `!important` here to be able to override the default hidden behavior on the sphinx rendered scikit-learn.org. See: https://github.com/scikit-learn/scikit-learn/issues/21755 */display: inline-block !important;position: relative;}#sk-container-id-9 div.sk-text-repr-fallback {display: none;}</style><div id=\"sk-container-id-9\" class=\"sk-top-container\"><div class=\"sk-text-repr-fallback\"><pre>LinearRegression()</pre><b>In a Jupyter environment, please rerun this cell to show the HTML representation or trust the notebook. <br />On GitHub, the HTML representation is unable to render, please try loading this page with nbviewer.org.</b></div><div class=\"sk-container\" hidden><div class=\"sk-item\"><div class=\"sk-estimator sk-toggleable\"><input class=\"sk-toggleable__control sk-hidden--visually\" id=\"sk-estimator-id-9\" type=\"checkbox\" checked><label for=\"sk-estimator-id-9\" class=\"sk-toggleable__label sk-toggleable__label-arrow\">LinearRegression</label><div class=\"sk-toggleable__content\"><pre>LinearRegression()</pre></div></div></div></div></div>"
      ],
      "text/plain": [
       "LinearRegression()"
      ]
     },
     "execution_count": 146,
     "metadata": {},
     "output_type": "execute_result"
    }
   ],
   "source": [
    "# fitting the regression object onto the training set\n",
    "\n",
    "regression_depressive.fit(X_train, y_depressive_train)"
   ]
  },
  {
   "cell_type": "code",
   "execution_count": 147,
   "id": "cbe11385",
   "metadata": {},
   "outputs": [],
   "source": [
    "# predicting the values of y using X\n",
    "\n",
    "y_depressive_predicted = regression_depressive.predict(X_test)"
   ]
  },
  {
   "cell_type": "code",
   "execution_count": 156,
   "id": "770031bb",
   "metadata": {
    "scrolled": false
   },
   "outputs": [
    {
     "data": {
      "image/png": "[encoded data removed]",
      "text/plain": [
       "<Figure size 640x480 with 1 Axes>"
      ]
     },
     "metadata": {},
     "output_type": "display_data"
    }
   ],
   "source": [
    "# creating a scatterplot that shows the regression line from the model on the test set\n",
    "\n",
    "plot_test = plt\n",
    "plot_test.scatter(X_test, y_depressive_test, color='gray', s = 10)\n",
    "plot_test.plot(X_test, y_depressive_predicted, color='red', linewidth =1)\n",
    "plot_test.title('Social Support vs Prevalence of Depressive Disorder (test set)')\n",
    "plot_test.xlabel('Level of social support')\n",
    "plot_test.ylabel('Prevalence of depressive disorder')\n",
    "plot_test.show()"
   ]
  },
  {
   "cell_type": "code",
   "execution_count": 154,
   "id": "0d21cc00",
   "metadata": {},
   "outputs": [],
   "source": [
    "# creating objects that contain the model summary statistics\n",
    "\n",
    "rmse_depressive = mean_squared_error(y_test, y_depressive_predicted)\n",
    "r2_depressive = r2_score(y_test, y_depressive_predicted) "
   ]
  },
  {
   "cell_type": "code",
   "execution_count": 155,
   "id": "a262e95e",
   "metadata": {},
   "outputs": [
    {
     "name": "stdout",
     "output_type": "stream",
     "text": [
      "Slope: [[-2.84020461]]\n",
      "Mean squared error:  2.9177347863543024\n",
      "R2 score:  -0.4314165528979834\n"
     ]
    }
   ],
   "source": [
    "# printing the model summary statistics to evaluate performance of model\n",
    "\n",
    "print('Slope:' ,regression_depressive.coef_)\n",
    "print('Mean squared error: ', rmse_depressive)\n",
    "print('R2 score: ', r2_depressive)"
   ]
  },
  {
   "cell_type": "code",
   "execution_count": 158,
   "id": "abd528c8",
   "metadata": {},
   "outputs": [
    {
     "data": {
      "text/html": [
       "<div>\n",
       "<style scoped>\n",
       "    .dataframe tbody tr th:only-of-type {\n",
       "        vertical-align: middle;\n",
       "    }\n",
       "\n",
       "    .dataframe tbody tr th {\n",
       "        vertical-align: top;\n",
       "    }\n",
       "\n",
       "    .dataframe thead th {\n",
       "        text-align: right;\n",
       "    }\n",
       "</style>\n",
       "<table border=\"1\" class=\"dataframe\">\n",
       "  <thead>\n",
       "    <tr style=\"text-align: right;\">\n",
       "      <th></th>\n",
       "      <th>Actual</th>\n",
       "      <th>Predicted</th>\n",
       "    </tr>\n",
       "  </thead>\n",
       "  <tbody>\n",
       "    <tr>\n",
       "      <th>0</th>\n",
       "      <td>5.2243</td>\n",
       "      <td>4.406197</td>\n",
       "    </tr>\n",
       "    <tr>\n",
       "      <th>1</th>\n",
       "      <td>2.9919</td>\n",
       "      <td>3.792712</td>\n",
       "    </tr>\n",
       "    <tr>\n",
       "      <th>2</th>\n",
       "      <td>4.1292</td>\n",
       "      <td>4.309630</td>\n",
       "    </tr>\n",
       "    <tr>\n",
       "      <th>3</th>\n",
       "      <td>6.5438</td>\n",
       "      <td>3.943243</td>\n",
       "    </tr>\n",
       "    <tr>\n",
       "      <th>4</th>\n",
       "      <td>3.6355</td>\n",
       "      <td>3.630821</td>\n",
       "    </tr>\n",
       "    <tr>\n",
       "      <th>5</th>\n",
       "      <td>2.9359</td>\n",
       "      <td>4.048331</td>\n",
       "    </tr>\n",
       "    <tr>\n",
       "      <th>6</th>\n",
       "      <td>4.5916</td>\n",
       "      <td>4.071052</td>\n",
       "    </tr>\n",
       "    <tr>\n",
       "      <th>7</th>\n",
       "      <td>3.8714</td>\n",
       "      <td>4.201702</td>\n",
       "    </tr>\n",
       "    <tr>\n",
       "      <th>8</th>\n",
       "      <td>2.8336</td>\n",
       "      <td>3.980166</td>\n",
       "    </tr>\n",
       "    <tr>\n",
       "      <th>9</th>\n",
       "      <td>3.8350</td>\n",
       "      <td>3.937563</td>\n",
       "    </tr>\n",
       "    <tr>\n",
       "      <th>10</th>\n",
       "      <td>3.7565</td>\n",
       "      <td>4.071052</td>\n",
       "    </tr>\n",
       "    <tr>\n",
       "      <th>11</th>\n",
       "      <td>2.2583</td>\n",
       "      <td>4.025609</td>\n",
       "    </tr>\n",
       "    <tr>\n",
       "      <th>12</th>\n",
       "      <td>4.2193</td>\n",
       "      <td>4.707258</td>\n",
       "    </tr>\n",
       "    <tr>\n",
       "      <th>13</th>\n",
       "      <td>4.1564</td>\n",
       "      <td>3.795553</td>\n",
       "    </tr>\n",
       "    <tr>\n",
       "      <th>14</th>\n",
       "      <td>4.0969</td>\n",
       "      <td>4.323831</td>\n",
       "    </tr>\n",
       "    <tr>\n",
       "      <th>15</th>\n",
       "      <td>3.5105</td>\n",
       "      <td>3.872238</td>\n",
       "    </tr>\n",
       "    <tr>\n",
       "      <th>16</th>\n",
       "      <td>3.4217</td>\n",
       "      <td>3.664903</td>\n",
       "    </tr>\n",
       "    <tr>\n",
       "      <th>17</th>\n",
       "      <td>4.8123</td>\n",
       "      <td>3.727388</td>\n",
       "    </tr>\n",
       "    <tr>\n",
       "      <th>18</th>\n",
       "      <td>4.4015</td>\n",
       "      <td>3.968805</td>\n",
       "    </tr>\n",
       "    <tr>\n",
       "      <th>19</th>\n",
       "      <td>2.2026</td>\n",
       "      <td>3.735908</td>\n",
       "    </tr>\n",
       "    <tr>\n",
       "      <th>20</th>\n",
       "      <td>3.7165</td>\n",
       "      <td>4.445959</td>\n",
       "    </tr>\n",
       "    <tr>\n",
       "      <th>21</th>\n",
       "      <td>4.7245</td>\n",
       "      <td>3.795553</td>\n",
       "    </tr>\n",
       "    <tr>\n",
       "      <th>22</th>\n",
       "      <td>4.5792</td>\n",
       "      <td>4.840748</td>\n",
       "    </tr>\n",
       "    <tr>\n",
       "      <th>23</th>\n",
       "      <td>4.2942</td>\n",
       "      <td>3.653542</td>\n",
       "    </tr>\n",
       "    <tr>\n",
       "      <th>24</th>\n",
       "      <td>5.4999</td>\n",
       "      <td>4.380635</td>\n",
       "    </tr>\n",
       "    <tr>\n",
       "      <th>25</th>\n",
       "      <td>4.1208</td>\n",
       "      <td>3.571176</td>\n",
       "    </tr>\n",
       "    <tr>\n",
       "      <th>26</th>\n",
       "      <td>4.0343</td>\n",
       "      <td>3.681944</td>\n",
       "    </tr>\n",
       "    <tr>\n",
       "      <th>27</th>\n",
       "      <td>3.7490</td>\n",
       "      <td>4.559568</td>\n",
       "    </tr>\n",
       "    <tr>\n",
       "      <th>28</th>\n",
       "      <td>3.0294</td>\n",
       "      <td>3.781352</td>\n",
       "    </tr>\n",
       "    <tr>\n",
       "      <th>29</th>\n",
       "      <td>3.7018</td>\n",
       "      <td>3.750109</td>\n",
       "    </tr>\n",
       "  </tbody>\n",
       "</table>\n",
       "</div>"
      ],
      "text/plain": [
       "    Actual  Predicted\n",
       "0   5.2243   4.406197\n",
       "1   2.9919   3.792712\n",
       "2   4.1292   4.309630\n",
       "3   6.5438   3.943243\n",
       "4   3.6355   3.630821\n",
       "5   2.9359   4.048331\n",
       "6   4.5916   4.071052\n",
       "7   3.8714   4.201702\n",
       "8   2.8336   3.980166\n",
       "9   3.8350   3.937563\n",
       "10  3.7565   4.071052\n",
       "11  2.2583   4.025609\n",
       "12  4.2193   4.707258\n",
       "13  4.1564   3.795553\n",
       "14  4.0969   4.323831\n",
       "15  3.5105   3.872238\n",
       "16  3.4217   3.664903\n",
       "17  4.8123   3.727388\n",
       "18  4.4015   3.968805\n",
       "19  2.2026   3.735908\n",
       "20  3.7165   4.445959\n",
       "21  4.7245   3.795553\n",
       "22  4.5792   4.840748\n",
       "23  4.2942   3.653542\n",
       "24  5.4999   4.380635\n",
       "25  4.1208   3.571176\n",
       "26  4.0343   3.681944\n",
       "27  3.7490   4.559568\n",
       "28  3.0294   3.781352\n",
       "29  3.7018   3.750109"
      ]
     },
     "execution_count": 158,
     "metadata": {},
     "output_type": "execute_result"
    }
   ],
   "source": [
    "# creating a dataframe comparing actual and predicted values of y\n",
    "\n",
    "data = pd.DataFrame({'Actual': y_depressive_test.flatten(), 'Predicted': y_depressive_predicted.flatten()})\n",
    "data.head(30)"
   ]
  },
  {
   "cell_type": "markdown",
   "id": "95490496",
   "metadata": {},
   "source": [
    "### 5. Interpretations of the performance of the regression lines"
   ]
  },
  {
   "cell_type": "markdown",
   "id": "cefa76a5",
   "metadata": {},
   "source": [
    "ANXIETY DISORDER: \n",
    "\n",
    "- Regression line for prevalence of anxiety disorder has a slope of 1.93, mean squared error of 1.90 and an R2 score of 0.069.\n",
    "- The positive slope of 1.93 shows a positive relationship between the level of social support and anxiety disorder. \n",
    "- The mean squared error is very high, meaning the distance between the regression line and the data points are large, indicating that the regression line is not an accurate representation of the data. \n",
    "- R2 score is very low, being close to 0. This indicates a poor fit. The model is not a close representation of the data. It is also clear that the relationship is not linear as there is a wider range of prevalence with a higher level of social support.\n",
    "\n",
    "DEPRESSIVE DISORDER:\n",
    "\n",
    "- Regression line for prevalence of depressive disorder has a slope of -2.84, mean squared error of 2.92 and an R2 score of -0.43.\n",
    "- The negative slope of -2.84 shows a negative relationship between the level of social support and depressive disorder. \n",
    "- The mean squared error is again very high, meaning the distance between the regression line and the data points are large, indicating that the regression line is not an accurate representation of the data. \n",
    "- R2 score a negative value, indicating a worse fit than a horizontal line. The model is not a close representation of the data. \n",
    "\n",
    "BOTH: \n",
    "\n",
    "- The limited number of data points (153) could have negatively impacted the model's accuracy. \n",
    "- Both the correlation coefficient (anxiety: 0.4; depressive: -0.4) and the scatterplots showed a lack of strong linear relationship between the respective variables, so a weak regression was expected."
   ]
  }
 ],
 "metadata": {
  "kernelspec": {
   "display_name": "Python 3 (ipykernel)",
   "language": "python",
   "name": "python3"
  },
  "language_info": {
   "codemirror_mode": {
    "name": "ipython",
    "version": 3
   },
   "file_extension": ".py",
   "mimetype": "text/x-python",
   "name": "python",
   "nbconvert_exporter": "python",
   "pygments_lexer": "ipython3",
   "version": "3.9.16"
  }
 },
 "nbformat": 4,
 "nbformat_minor": 5
}
